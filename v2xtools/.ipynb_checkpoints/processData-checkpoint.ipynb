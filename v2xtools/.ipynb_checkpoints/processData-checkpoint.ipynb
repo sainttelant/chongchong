{
 "cells": [
  {
   "cell_type": "code",
   "execution_count": 1,
   "metadata": {},
   "outputs": [
    {
     "name": "stdout",
     "output_type": "stream",
     "text": [
      "shuru wenjian mingpdetcrossing\n",
      "90.233690, 19.130628\n",
      "88.512261, 22.528179\n",
      "88.906220, 24.604462\n",
      "110.051529, 45.478345\n",
      "113.023349, 44.845466\n",
      "114.367947, 42.502703\n"
     ]
    }
   ],
   "source": [
    "import sys\n",
    "import os\n",
    "\n",
    "\n",
    "\n",
    "filename = input(\"shuru wenjian ming\")\n",
    "\n",
    "with open(filename+\".txt\",'r') as f:\n",
    "    with open(filename+\"1.txt\",\"w+\") as f1:\n",
    "        count=0\n",
    "        for line in f:\n",
    "            if(line!=\"\"): \n",
    "                count+=1\n",
    "                #print(\"hang{}\".format(count)+\"\\t\"+line)\n",
    "                try:\n",
    "                    u=line.strip().split(\"xueweitxt:\")[1]\n",
    "                    print(u)\n",
    "                    f1.write(u)\n",
    "                    f1.write(\"\\n\")\n",
    "                except:\n",
    "                    print(\"finished!\")\n",
    "           \n",
    "            \n",
    "        "
   ]
  },
  {
   "cell_type": "code",
   "execution_count": null,
   "metadata": {},
   "outputs": [],
   "source": []
  },
  {
   "cell_type": "code",
   "execution_count": 5,
   "metadata": {},
   "outputs": [
    {
     "name": "stdout",
     "output_type": "stream",
     "text": [
      "abc123isk\n",
      "北门吹雪: http://www.cnblogs.com/2bjiujiu/\n"
     ]
    }
   ],
   "source": [
    "s = '\\tabc\\t123\\tisk'\n",
    "print(s.replace('\\t', ''))\n",
    " \n",
    "print(\"北门吹雪: http://www.cnblogs.com/2bjiujiu/\")"
   ]
  },
  {
   "cell_type": "code",
   "execution_count": 11,
   "metadata": {},
   "outputs": [
    {
     "name": "stdout",
     "output_type": "stream",
     "text": [
      "www\n"
     ]
    }
   ],
   "source": [
    "u = \"www.doiido.com.cn\"\n",
    "print(u.split(\".\")[0])"
   ]
  },
  {
   "cell_type": "code",
   "execution_count": null,
   "metadata": {},
   "outputs": [],
   "source": []
  }
 ],
 "metadata": {
  "kernelspec": {
   "display_name": "Python 3",
   "language": "python",
   "name": "python3"
  },
  "language_info": {
   "codemirror_mode": {
    "name": "ipython",
    "version": 3
   },
   "file_extension": ".py",
   "mimetype": "text/x-python",
   "name": "python",
   "nbconvert_exporter": "python",
   "pygments_lexer": "ipython3",
   "version": "3.7.6"
  }
 },
 "nbformat": 4,
 "nbformat_minor": 4
}
