{
 "cells": [
  {
   "cell_type": "code",
   "execution_count": 3,
   "metadata": {},
   "outputs": [
    {
     "name": "stdout",
     "output_type": "stream",
     "text": [
      "please input xishu xishu1\n",
      "pl input name of file:pdetcrossing\n",
      "90.233690, 19.130628\n",
      "88.512261, 22.528179\n",
      "88.906220, 24.604462\n",
      "110.051529, 45.478345\n",
      "113.023349, 44.845466\n",
      "114.367947, 42.502703\n"
     ]
    }
   ],
   "source": [
    "import sys\n",
    "import os\n",
    "import math \n",
    "\n",
    "\n",
    "\n",
    "def process(xishu,name):\n",
    "    with open(name+'.txt','r') as f:\n",
    "        with open(name+\"2.txt\",\"w+\") as f1:\n",
    "            count=0\n",
    "            for line in f:\n",
    "                if(line!=\"\"): \n",
    "                    count+=1\n",
    "                    #print(\"hang{}\".format(count)+\"\\t\"+line)\n",
    "                    try:\n",
    "                        u=line.strip().split(\"xueweitxt:\")[1]\n",
    "                        print(u)\n",
    "                        k_pre = u.split(\",\")[0]\n",
    "                        k_after = u.split(\",\")[1]\n",
    "                        try:\n",
    "                            f_pre = math.fabs(float(k_pre))*xishu\n",
    "                            f_after = math.fabs(float(k_after))*xishu\n",
    "                            u = str(f_pre)+\",\"+str(f_after)\n",
    "                        except ValueError:\n",
    "                            print ('invalid input %s' %(input))\n",
    "                        f1.write(u)\n",
    "                        f1.write(\"\\n\")\n",
    "                    except:\n",
    "                        print(\"finished!\")\n",
    "\n",
    "if __name__ == \"__main__\":\n",
    "    xishu = input(\"please input xishu xishu\");\n",
    "    name = input(\"pl input name of file:\")\n",
    "    process(int(xishu),name)\n",
    "            \n",
    "        "
   ]
  },
  {
   "cell_type": "code",
   "execution_count": null,
   "metadata": {},
   "outputs": [],
   "source": []
  }
 ],
 "metadata": {
  "kernelspec": {
   "display_name": "Python 3",
   "language": "python",
   "name": "python3"
  },
  "language_info": {
   "codemirror_mode": {
    "name": "ipython",
    "version": 3
   },
   "file_extension": ".py",
   "mimetype": "text/x-python",
   "name": "python",
   "nbconvert_exporter": "python",
   "pygments_lexer": "ipython3",
   "version": "3.7.6"
  }
 },
 "nbformat": 4,
 "nbformat_minor": 4
}
