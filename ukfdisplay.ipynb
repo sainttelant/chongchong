{
 "cells": [
  {
   "cell_type": "code",
   "execution_count": 1,
   "id": "f71fad0a",
   "metadata": {},
   "outputs": [],
   "source": [
    "prelist=[]\n",
    "afterlist=[]\n",
    "\n",
    "with open(\"xuewei.txt\",\"r\",encoding='gb18030',errors='ignore') as f:\n",
    "    for line in f.readlines():\n",
    "        \n",
    "        if line[0:15]==\"ukffilterBefore\":\n",
    "            #img = np.zeros((1440,2560,3),np.uint8)\n",
    "            #img.fill(100)\n",
    "            #print(line)\n",
    "            preleft=float(line.split(\"\\t\")[0].split(\":\")[1])\n",
    "            pretop = float(line.split(\"\\t\")[1])\n",
    "            preright = preleft + float(line.split(\"\\t\")[2])\n",
    "            prebottom = pretop + float(line.split(\"\\t\")[3])\n",
    "            pretuple = (round(preleft),round(pretop)),(round(preright),round(prebottom))\n",
    "            #print(pretuple)\n",
    "            #cv2.rectangle(img,pretuple[0],pretuple[1],(0,0,255),1)\n",
    "            prelist.append(pretuple)\n",
    "            #cv2.rectangle(img,(int(preleft),int(pretop)),(int(preright),int(prebottom)),(0,0,255),1)\n",
    "            #cv2.imshow(\"test\",img)\n",
    "            #cv2.waitKey(100)\n",
    "            #print(preleft,pretop)\n",
    "        elif line[0:14]==\"ukffilterAfter\":\n",
    "            #print(line)\n",
    "            afterleft=float(line.split(\"\\t\")[0].split(\":\")[1])\n",
    "            aftertop = float(line.split(\"\\t\")[1])\n",
    "            afterright = afterleft + float(line.split(\"\\t\")[2])\n",
    "            afterbottom = aftertop + float(line.split(\"\\t\")[3])\n",
    "            aftertuple = (round(afterleft),round(aftertop)),(round(afterright),round(afterbottom))\n",
    "            #print(pretuple)\n",
    "            #cv2.rectangle(img,pretuple[0],pretuple[1],(0,0,255),1)\n",
    "            afterlist.append(aftertuple)   \n",
    "\n",
    "#cv2.destroyAllWindows()"
   ]
  },
  {
   "cell_type": "code",
   "execution_count": 2,
   "id": "1c73d384",
   "metadata": {},
   "outputs": [
    {
     "ename": "KeyboardInterrupt",
     "evalue": "",
     "output_type": "error",
     "traceback": [
      "\u001b[1;31m---------------------------------------------------------------------------\u001b[0m",
      "\u001b[1;31mKeyboardInterrupt\u001b[0m                         Traceback (most recent call last)",
      "\u001b[1;32m<ipython-input-2-cc64b4689183>\u001b[0m in \u001b[0;36m<module>\u001b[1;34m\u001b[0m\n\u001b[0;32m     11\u001b[0m     \u001b[0mcv2\u001b[0m\u001b[1;33m.\u001b[0m\u001b[0mrectangle\u001b[0m\u001b[1;33m(\u001b[0m\u001b[0mimg\u001b[0m\u001b[1;33m,\u001b[0m\u001b[0mafter\u001b[0m\u001b[1;33m[\u001b[0m\u001b[1;36m0\u001b[0m\u001b[1;33m]\u001b[0m\u001b[1;33m,\u001b[0m\u001b[0mafter\u001b[0m\u001b[1;33m[\u001b[0m\u001b[1;36m1\u001b[0m\u001b[1;33m]\u001b[0m\u001b[1;33m,\u001b[0m\u001b[1;33m(\u001b[0m\u001b[1;36m255\u001b[0m\u001b[1;33m,\u001b[0m\u001b[1;36m250\u001b[0m\u001b[1;33m,\u001b[0m\u001b[1;36m0\u001b[0m\u001b[1;33m)\u001b[0m\u001b[1;33m,\u001b[0m\u001b[1;36m1\u001b[0m\u001b[1;33m)\u001b[0m\u001b[1;33m\u001b[0m\u001b[1;33m\u001b[0m\u001b[0m\n\u001b[0;32m     12\u001b[0m     \u001b[0mcv2\u001b[0m\u001b[1;33m.\u001b[0m\u001b[0mimshow\u001b[0m\u001b[1;33m(\u001b[0m\u001b[1;34m\"test\"\u001b[0m\u001b[1;33m,\u001b[0m\u001b[0mimg\u001b[0m\u001b[1;33m)\u001b[0m\u001b[1;33m\u001b[0m\u001b[1;33m\u001b[0m\u001b[0m\n\u001b[1;32m---> 13\u001b[1;33m     \u001b[0mcv2\u001b[0m\u001b[1;33m.\u001b[0m\u001b[0mwaitKey\u001b[0m\u001b[1;33m(\u001b[0m\u001b[1;36m300\u001b[0m\u001b[1;33m)\u001b[0m\u001b[1;33m\u001b[0m\u001b[1;33m\u001b[0m\u001b[0m\n\u001b[0m\u001b[0;32m     14\u001b[0m \u001b[1;33m\u001b[0m\u001b[0m\n\u001b[0;32m     15\u001b[0m \u001b[0mcv2\u001b[0m\u001b[1;33m.\u001b[0m\u001b[0mdestroyAllWindows\u001b[0m\u001b[1;33m(\u001b[0m\u001b[1;33m)\u001b[0m\u001b[1;33m\u001b[0m\u001b[1;33m\u001b[0m\u001b[0m\n",
      "\u001b[1;31mKeyboardInterrupt\u001b[0m: "
     ]
    }
   ],
   "source": [
    "import cv2\n",
    "import numpy as np\n",
    "\n",
    "for pre,after in zip(prelist, afterlist):\n",
    "    img = np.zeros((1440,2560,3),np.uint8)\n",
    "    img.fill(100)\n",
    "    cv2.namedWindow(\"test\",0)\n",
    "    #print(pre[0][0])\n",
    "    cv2.rectangle(img,pre[0],pre[1],(0,0,255),3)\n",
    "    cv2.putText(img,\"Pre\",(pre[0][0]-5,pre[0][1]-10),cv2.FONT_HERSHEY_COMPLEX,1,(0,0,255),3)\n",
    "    cv2.rectangle(img,after[0],after[1],(255,250,0),1)\n",
    "    cv2.imshow(\"test\",img)\n",
    "    cv2.waitKey(300)\n",
    "\n",
    "cv2.destroyAllWindows()\n",
    "    \n",
    "    \n",
    "       "
   ]
  },
  {
   "cell_type": "code",
   "execution_count": null,
   "id": "e85a530c",
   "metadata": {},
   "outputs": [],
   "source": []
  }
 ],
 "metadata": {
  "kernelspec": {
   "display_name": "Python 3",
   "language": "python",
   "name": "python3"
  },
  "language_info": {
   "codemirror_mode": {
    "name": "ipython",
    "version": 3
   },
   "file_extension": ".py",
   "mimetype": "text/x-python",
   "name": "python",
   "nbconvert_exporter": "python",
   "pygments_lexer": "ipython3",
   "version": "3.8.8"
  }
 },
 "nbformat": 4,
 "nbformat_minor": 5
}
