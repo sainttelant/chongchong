{
 "cells": [
  {
   "cell_type": "code",
   "execution_count": 6,
   "metadata": {},
   "outputs": [
    {
     "name": "stdout",
     "output_type": "stream",
     "text": [
      "请输入需要爬虫的５８地址:https://sh.58.com/ershoufang/0/i7/?PGTID=0d30000c-0000-290c-f368-e21e5a3dd63b&ClickID=1\n"
     ]
    },
    {
     "ename": "KeyboardInterrupt",
     "evalue": "",
     "output_type": "error",
     "traceback": [
      "\u001b[1;31m---------------------------------------------------------------------------\u001b[0m",
      "\u001b[1;31mKeyboardInterrupt\u001b[0m                         Traceback (most recent call last)",
      "\u001b[1;32m<ipython-input-6-da4643cd9947>\u001b[0m in \u001b[0;36m<module>\u001b[1;34m\u001b[0m\n\u001b[0;32m     43\u001b[0m \u001b[1;33m\u001b[0m\u001b[0m\n\u001b[0;32m     44\u001b[0m \u001b[1;32mif\u001b[0m \u001b[0m__name__\u001b[0m \u001b[1;33m==\u001b[0m \u001b[1;34m'__main__'\u001b[0m\u001b[1;33m:\u001b[0m\u001b[1;33m\u001b[0m\u001b[1;33m\u001b[0m\u001b[0m\n\u001b[1;32m---> 45\u001b[1;33m     \u001b[0mphone1\u001b[0m\u001b[1;33m,\u001b[0m\u001b[0mtitle1\u001b[0m\u001b[1;33m,\u001b[0m\u001b[0mprice1\u001b[0m\u001b[1;33m,\u001b[0m\u001b[0mtedian1\u001b[0m\u001b[1;33m=\u001b[0m\u001b[0mcrawlInfo\u001b[0m\u001b[1;33m(\u001b[0m\u001b[1;33m)\u001b[0m\u001b[1;33m\u001b[0m\u001b[1;33m\u001b[0m\u001b[0m\n\u001b[0m\u001b[0;32m     46\u001b[0m     \u001b[0mtable\u001b[0m\u001b[1;33m=\u001b[0m\u001b[0mpd\u001b[0m\u001b[1;33m.\u001b[0m\u001b[0mDataFrame\u001b[0m\u001b[1;33m(\u001b[0m\u001b[1;33m{\u001b[0m\u001b[1;34m'title'\u001b[0m\u001b[1;33m:\u001b[0m\u001b[0mtitle1\u001b[0m\u001b[1;33m,\u001b[0m\u001b[1;34m'phoneNum'\u001b[0m\u001b[1;33m:\u001b[0m\u001b[0mphone1\u001b[0m\u001b[1;33m,\u001b[0m\u001b[1;34m'price'\u001b[0m\u001b[1;33m:\u001b[0m\u001b[0mprice1\u001b[0m\u001b[1;33m,\u001b[0m\u001b[1;34m'typical'\u001b[0m\u001b[1;33m:\u001b[0m\u001b[0mtedian1\u001b[0m\u001b[1;33m}\u001b[0m\u001b[1;33m,\u001b[0m\u001b[0mcolumns\u001b[0m\u001b[1;33m=\u001b[0m\u001b[0mcolumns\u001b[0m\u001b[1;33m)\u001b[0m\u001b[1;33m\u001b[0m\u001b[1;33m\u001b[0m\u001b[0m\n\u001b[0;32m     47\u001b[0m     \u001b[0mtable\u001b[0m\u001b[1;33m.\u001b[0m\u001b[0mto_csv\u001b[0m\u001b[1;33m(\u001b[0m\u001b[1;34m'szershou.csv'\u001b[0m\u001b[1;33m,\u001b[0m\u001b[0mindex\u001b[0m\u001b[1;33m=\u001b[0m\u001b[1;32mFalse\u001b[0m\u001b[1;33m)\u001b[0m\u001b[1;33m\u001b[0m\u001b[1;33m\u001b[0m\u001b[0m\n",
      "\u001b[1;32m<ipython-input-6-da4643cd9947>\u001b[0m in \u001b[0;36mcrawlInfo\u001b[1;34m()\u001b[0m\n\u001b[0;32m     25\u001b[0m             \u001b[0murlall\u001b[0m\u001b[1;33m=\u001b[0m\u001b[0mb\u001b[0m\u001b[1;33m[\u001b[0m\u001b[1;34m'href'\u001b[0m\u001b[1;33m]\u001b[0m\u001b[1;33m\u001b[0m\u001b[1;33m\u001b[0m\u001b[0m\n\u001b[0;32m     26\u001b[0m             \u001b[0mreall\u001b[0m\u001b[1;33m=\u001b[0m\u001b[0mrequests\u001b[0m\u001b[1;33m.\u001b[0m\u001b[0mget\u001b[0m\u001b[1;33m(\u001b[0m\u001b[0murlall\u001b[0m\u001b[1;33m)\u001b[0m\u001b[1;33m\u001b[0m\u001b[1;33m\u001b[0m\u001b[0m\n\u001b[1;32m---> 27\u001b[1;33m             \u001b[0mtime\u001b[0m\u001b[1;33m.\u001b[0m\u001b[0msleep\u001b[0m\u001b[1;33m(\u001b[0m\u001b[1;36m1\u001b[0m\u001b[1;33m)\u001b[0m\u001b[1;33m\u001b[0m\u001b[1;33m\u001b[0m\u001b[0m\n\u001b[0m\u001b[0;32m     28\u001b[0m             \u001b[0msoupp\u001b[0m\u001b[1;33m=\u001b[0m\u001b[0mbs\u001b[0m\u001b[1;33m(\u001b[0m\u001b[0mreall\u001b[0m\u001b[1;33m.\u001b[0m\u001b[0mtext\u001b[0m\u001b[1;33m,\u001b[0m\u001b[1;34m'lxml'\u001b[0m\u001b[1;33m)\u001b[0m\u001b[1;33m\u001b[0m\u001b[1;33m\u001b[0m\u001b[0m\n\u001b[0;32m     29\u001b[0m             \u001b[1;32mfor\u001b[0m \u001b[0mph\u001b[0m \u001b[1;32min\u001b[0m \u001b[0msoupp\u001b[0m\u001b[1;33m.\u001b[0m\u001b[0mselect\u001b[0m\u001b[1;33m(\u001b[0m\u001b[1;34m'p.phone-num'\u001b[0m\u001b[1;33m)\u001b[0m\u001b[1;33m:\u001b[0m\u001b[1;33m\u001b[0m\u001b[1;33m\u001b[0m\u001b[0m\n",
      "\u001b[1;31mKeyboardInterrupt\u001b[0m: "
     ]
    }
   ],
   "source": [
    "import requests\n",
    "from bs4 import BeautifulSoup as bs\n",
    "import time\n",
    "import pandas as pd\n",
    "\n",
    "headers={'Language':'zh-CN,zh;q=0.8',\n",
    "'Cache-Control':'max-age=0',\n",
    "'Connection':'keep-alive',\n",
    "'Upgrade-Insecure-Requests':'1',\n",
    "'User-Agent':'Mozilla/5.0 (X11; Linux x86_64) AppleWebKit/537.36 (KHTML, like Gecko) Chrome/61.0.3163.100 Safari/537.36'}\n",
    "url=input('请输入需要爬虫的５８地址:')\n",
    "\n",
    "title1=[]\n",
    "tedian1=[]\n",
    "price1=[]\n",
    "phone1=[]\n",
    "columns=['标题','手机','价格','特点']\n",
    "def crawlInfo():\n",
    "    for page in range(0,7):\n",
    "        urlpage= url+'pn'+str(page)\n",
    "        re= requests.get(urlpage,headers=headers)\n",
    "        soup=bs(re.text,'lxml')\n",
    "        \n",
    "        for b in soup.select('li h2.title a'):\n",
    "            urlall=b['href']\n",
    "            reall=requests.get(urlall)\n",
    "            time.sleep(1)\n",
    "            soupp=bs(reall.text,'lxml')\n",
    "            for ph in soupp.select('p.phone-num'):\n",
    "                phone1.append(ph.get_text())\n",
    "              \n",
    "            for title in soupp.select('div.house-title h1.c_333.f20'):\n",
    "                title1.append(title.get_text())\n",
    "            \n",
    "            for pc in soupp.select('p.house-basic-item1 span.price'):\n",
    "                price1.append(pc.get_text())\n",
    "      \n",
    "            \n",
    "            for tedian in soupp.select('div.genaral-pic-desc p.pic-desc-word'):\n",
    "                tedian1.append(tedian.get_text().strip())\n",
    "    \n",
    "    return phone1,title1,price1,tedian1         \n",
    "                \n",
    "if __name__ == '__main__':\n",
    "    phone1,title1,price1,tedian1=crawlInfo()\n",
    "    table=pd.DataFrame({'title':title1,'phoneNum':phone1,'price':price1,'typical':tedian1},columns=columns)\n",
    "    table.to_csv('szershou.csv',index=False)\n",
    "\n",
    "           "
   ]
  },
  {
   "cell_type": "code",
   "execution_count": null,
   "metadata": {
    "collapsed": true
   },
   "outputs": [],
   "source": []
  }
 ],
 "metadata": {
  "kernelspec": {
   "display_name": "Python 3",
   "language": "python",
   "name": "python3"
  },
  "language_info": {
   "codemirror_mode": {
    "name": "ipython",
    "version": 3
   },
   "file_extension": ".py",
   "mimetype": "text/x-python",
   "name": "python",
   "nbconvert_exporter": "python",
   "pygments_lexer": "ipython3",
   "version": "3.7.6"
  }
 },
 "nbformat": 4,
 "nbformat_minor": 1
}
