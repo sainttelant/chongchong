{
 "cells": [
  {
   "cell_type": "code",
   "execution_count": 1,
   "metadata": {
    "collapsed": false
   },
   "outputs": [
    {
     "name": "stdout",
     "output_type": "stream",
     "text": [
      "请输入源路径：extern\n",
      "请输入copy路径：extern1\n"
     ]
    },
    {
     "ename": "IndexError",
     "evalue": "list index out of range",
     "output_type": "error",
     "traceback": [
      "\u001b[1;31m---------------------------------------------------------------------------\u001b[0m",
      "\u001b[1;31mIndexError\u001b[0m                                Traceback (most recent call last)",
      "\u001b[1;32m<ipython-input-1-8853803effed>\u001b[0m in \u001b[0;36m<module>\u001b[1;34m()\u001b[0m\n\u001b[0;32m     75\u001b[0m     \u001b[0msourcePath\u001b[0m \u001b[1;33m=\u001b[0m \u001b[0minput\u001b[0m\u001b[1;33m(\u001b[0m\u001b[1;34m\"请输入源路径：\"\u001b[0m\u001b[1;33m)\u001b[0m\u001b[1;33m\u001b[0m\u001b[0m\n\u001b[0;32m     76\u001b[0m     \u001b[0mtargetPath\u001b[0m \u001b[1;33m=\u001b[0m \u001b[0minput\u001b[0m\u001b[1;33m(\u001b[0m\u001b[1;34m\"请输入copy路径：\"\u001b[0m\u001b[1;33m)\u001b[0m\u001b[1;33m\u001b[0m\u001b[0m\n\u001b[1;32m---> 77\u001b[1;33m     \u001b[0mgetDirAndCopyFile\u001b[0m\u001b[1;33m(\u001b[0m\u001b[0msourcePath\u001b[0m\u001b[1;33m,\u001b[0m\u001b[0mtargetPath\u001b[0m\u001b[1;33m)\u001b[0m\u001b[1;33m\u001b[0m\u001b[0m\n\u001b[0m\u001b[0;32m     78\u001b[0m     \u001b[1;31m#时间是用来计算复制总共消耗了多少时间\u001b[0m\u001b[1;33m\u001b[0m\u001b[1;33m\u001b[0m\u001b[0m\n\u001b[0;32m     79\u001b[0m     \u001b[0mendTime\u001b[0m \u001b[1;33m=\u001b[0m \u001b[0mtime\u001b[0m\u001b[1;33m.\u001b[0m\u001b[0mclock\u001b[0m\u001b[1;33m(\u001b[0m\u001b[1;33m)\u001b[0m\u001b[1;33m\u001b[0m\u001b[0m\n",
      "\u001b[1;32m<ipython-input-1-8853803effed>\u001b[0m in \u001b[0;36mgetDirAndCopyFile\u001b[1;34m(sourcePath, targetPath)\u001b[0m\n\u001b[0;32m     39\u001b[0m             \u001b[0mos\u001b[0m\u001b[1;33m.\u001b[0m\u001b[0mmakedirs\u001b[0m\u001b[1;33m(\u001b[0m\u001b[0mabstargetPath\u001b[0m\u001b[1;33m)\u001b[0m\u001b[1;33m\u001b[0m\u001b[0m\n\u001b[0;32m     40\u001b[0m             \u001b[1;31m#递归调用getDirAndCopyFile()函数\u001b[0m\u001b[1;33m\u001b[0m\u001b[1;33m\u001b[0m\u001b[0m\n\u001b[1;32m---> 41\u001b[1;33m             \u001b[0mgetDirAndCopyFile\u001b[0m\u001b[1;33m(\u001b[0m\u001b[0mabsourcePath\u001b[0m\u001b[1;33m,\u001b[0m\u001b[0mabstargetPath\u001b[0m\u001b[1;33m)\u001b[0m\u001b[1;31m#是文件就进行复制\u001b[0m\u001b[1;33m\u001b[0m\u001b[0m\n\u001b[0m\u001b[0;32m     42\u001b[0m         \u001b[1;32mif\u001b[0m \u001b[0mos\u001b[0m\u001b[1;33m.\u001b[0m\u001b[0mpath\u001b[0m\u001b[1;33m.\u001b[0m\u001b[0misfile\u001b[0m\u001b[1;33m(\u001b[0m\u001b[0mabsourcePath\u001b[0m\u001b[1;33m)\u001b[0m\u001b[1;33m:\u001b[0m\u001b[1;33m\u001b[0m\u001b[0m\n\u001b[0;32m     43\u001b[0m             \u001b[0mnameoffile\u001b[0m\u001b[1;33m=\u001b[0m\u001b[0mabsourcePath\u001b[0m\u001b[1;33m.\u001b[0m\u001b[0msplit\u001b[0m\u001b[1;33m(\u001b[0m\u001b[1;34m'/'\u001b[0m\u001b[1;33m)\u001b[0m\u001b[1;33m[\u001b[0m\u001b[1;33m-\u001b[0m\u001b[1;36m1\u001b[0m\u001b[1;33m]\u001b[0m\u001b[1;33m\u001b[0m\u001b[0m\n",
      "\u001b[1;32m<ipython-input-1-8853803effed>\u001b[0m in \u001b[0;36mgetDirAndCopyFile\u001b[1;34m(sourcePath, targetPath)\u001b[0m\n\u001b[0;32m     39\u001b[0m             \u001b[0mos\u001b[0m\u001b[1;33m.\u001b[0m\u001b[0mmakedirs\u001b[0m\u001b[1;33m(\u001b[0m\u001b[0mabstargetPath\u001b[0m\u001b[1;33m)\u001b[0m\u001b[1;33m\u001b[0m\u001b[0m\n\u001b[0;32m     40\u001b[0m             \u001b[1;31m#递归调用getDirAndCopyFile()函数\u001b[0m\u001b[1;33m\u001b[0m\u001b[1;33m\u001b[0m\u001b[0m\n\u001b[1;32m---> 41\u001b[1;33m             \u001b[0mgetDirAndCopyFile\u001b[0m\u001b[1;33m(\u001b[0m\u001b[0mabsourcePath\u001b[0m\u001b[1;33m,\u001b[0m\u001b[0mabstargetPath\u001b[0m\u001b[1;33m)\u001b[0m\u001b[1;31m#是文件就进行复制\u001b[0m\u001b[1;33m\u001b[0m\u001b[0m\n\u001b[0m\u001b[0;32m     42\u001b[0m         \u001b[1;32mif\u001b[0m \u001b[0mos\u001b[0m\u001b[1;33m.\u001b[0m\u001b[0mpath\u001b[0m\u001b[1;33m.\u001b[0m\u001b[0misfile\u001b[0m\u001b[1;33m(\u001b[0m\u001b[0mabsourcePath\u001b[0m\u001b[1;33m)\u001b[0m\u001b[1;33m:\u001b[0m\u001b[1;33m\u001b[0m\u001b[0m\n\u001b[0;32m     43\u001b[0m             \u001b[0mnameoffile\u001b[0m\u001b[1;33m=\u001b[0m\u001b[0mabsourcePath\u001b[0m\u001b[1;33m.\u001b[0m\u001b[0msplit\u001b[0m\u001b[1;33m(\u001b[0m\u001b[1;34m'/'\u001b[0m\u001b[1;33m)\u001b[0m\u001b[1;33m[\u001b[0m\u001b[1;33m-\u001b[0m\u001b[1;36m1\u001b[0m\u001b[1;33m]\u001b[0m\u001b[1;33m\u001b[0m\u001b[0m\n",
      "\u001b[1;32m<ipython-input-1-8853803effed>\u001b[0m in \u001b[0;36mgetDirAndCopyFile\u001b[1;34m(sourcePath, targetPath)\u001b[0m\n\u001b[0;32m     39\u001b[0m             \u001b[0mos\u001b[0m\u001b[1;33m.\u001b[0m\u001b[0mmakedirs\u001b[0m\u001b[1;33m(\u001b[0m\u001b[0mabstargetPath\u001b[0m\u001b[1;33m)\u001b[0m\u001b[1;33m\u001b[0m\u001b[0m\n\u001b[0;32m     40\u001b[0m             \u001b[1;31m#递归调用getDirAndCopyFile()函数\u001b[0m\u001b[1;33m\u001b[0m\u001b[1;33m\u001b[0m\u001b[0m\n\u001b[1;32m---> 41\u001b[1;33m             \u001b[0mgetDirAndCopyFile\u001b[0m\u001b[1;33m(\u001b[0m\u001b[0mabsourcePath\u001b[0m\u001b[1;33m,\u001b[0m\u001b[0mabstargetPath\u001b[0m\u001b[1;33m)\u001b[0m\u001b[1;31m#是文件就进行复制\u001b[0m\u001b[1;33m\u001b[0m\u001b[0m\n\u001b[0m\u001b[0;32m     42\u001b[0m         \u001b[1;32mif\u001b[0m \u001b[0mos\u001b[0m\u001b[1;33m.\u001b[0m\u001b[0mpath\u001b[0m\u001b[1;33m.\u001b[0m\u001b[0misfile\u001b[0m\u001b[1;33m(\u001b[0m\u001b[0mabsourcePath\u001b[0m\u001b[1;33m)\u001b[0m\u001b[1;33m:\u001b[0m\u001b[1;33m\u001b[0m\u001b[0m\n\u001b[0;32m     43\u001b[0m             \u001b[0mnameoffile\u001b[0m\u001b[1;33m=\u001b[0m\u001b[0mabsourcePath\u001b[0m\u001b[1;33m.\u001b[0m\u001b[0msplit\u001b[0m\u001b[1;33m(\u001b[0m\u001b[1;34m'/'\u001b[0m\u001b[1;33m)\u001b[0m\u001b[1;33m[\u001b[0m\u001b[1;33m-\u001b[0m\u001b[1;36m1\u001b[0m\u001b[1;33m]\u001b[0m\u001b[1;33m\u001b[0m\u001b[0m\n",
      "\u001b[1;32m<ipython-input-1-8853803effed>\u001b[0m in \u001b[0;36mgetDirAndCopyFile\u001b[1;34m(sourcePath, targetPath)\u001b[0m\n\u001b[0;32m     39\u001b[0m             \u001b[0mos\u001b[0m\u001b[1;33m.\u001b[0m\u001b[0mmakedirs\u001b[0m\u001b[1;33m(\u001b[0m\u001b[0mabstargetPath\u001b[0m\u001b[1;33m)\u001b[0m\u001b[1;33m\u001b[0m\u001b[0m\n\u001b[0;32m     40\u001b[0m             \u001b[1;31m#递归调用getDirAndCopyFile()函数\u001b[0m\u001b[1;33m\u001b[0m\u001b[1;33m\u001b[0m\u001b[0m\n\u001b[1;32m---> 41\u001b[1;33m             \u001b[0mgetDirAndCopyFile\u001b[0m\u001b[1;33m(\u001b[0m\u001b[0mabsourcePath\u001b[0m\u001b[1;33m,\u001b[0m\u001b[0mabstargetPath\u001b[0m\u001b[1;33m)\u001b[0m\u001b[1;31m#是文件就进行复制\u001b[0m\u001b[1;33m\u001b[0m\u001b[0m\n\u001b[0m\u001b[0;32m     42\u001b[0m         \u001b[1;32mif\u001b[0m \u001b[0mos\u001b[0m\u001b[1;33m.\u001b[0m\u001b[0mpath\u001b[0m\u001b[1;33m.\u001b[0m\u001b[0misfile\u001b[0m\u001b[1;33m(\u001b[0m\u001b[0mabsourcePath\u001b[0m\u001b[1;33m)\u001b[0m\u001b[1;33m:\u001b[0m\u001b[1;33m\u001b[0m\u001b[0m\n\u001b[0;32m     43\u001b[0m             \u001b[0mnameoffile\u001b[0m\u001b[1;33m=\u001b[0m\u001b[0mabsourcePath\u001b[0m\u001b[1;33m.\u001b[0m\u001b[0msplit\u001b[0m\u001b[1;33m(\u001b[0m\u001b[1;34m'/'\u001b[0m\u001b[1;33m)\u001b[0m\u001b[1;33m[\u001b[0m\u001b[1;33m-\u001b[0m\u001b[1;36m1\u001b[0m\u001b[1;33m]\u001b[0m\u001b[1;33m\u001b[0m\u001b[0m\n",
      "\u001b[1;32m<ipython-input-1-8853803effed>\u001b[0m in \u001b[0;36mgetDirAndCopyFile\u001b[1;34m(sourcePath, targetPath)\u001b[0m\n\u001b[0;32m     42\u001b[0m         \u001b[1;32mif\u001b[0m \u001b[0mos\u001b[0m\u001b[1;33m.\u001b[0m\u001b[0mpath\u001b[0m\u001b[1;33m.\u001b[0m\u001b[0misfile\u001b[0m\u001b[1;33m(\u001b[0m\u001b[0mabsourcePath\u001b[0m\u001b[1;33m)\u001b[0m\u001b[1;33m:\u001b[0m\u001b[1;33m\u001b[0m\u001b[0m\n\u001b[0;32m     43\u001b[0m             \u001b[0mnameoffile\u001b[0m\u001b[1;33m=\u001b[0m\u001b[0mabsourcePath\u001b[0m\u001b[1;33m.\u001b[0m\u001b[0msplit\u001b[0m\u001b[1;33m(\u001b[0m\u001b[1;34m'/'\u001b[0m\u001b[1;33m)\u001b[0m\u001b[1;33m[\u001b[0m\u001b[1;33m-\u001b[0m\u001b[1;36m1\u001b[0m\u001b[1;33m]\u001b[0m\u001b[1;33m\u001b[0m\u001b[0m\n\u001b[1;32m---> 44\u001b[1;33m             \u001b[0mnameoffile_after\u001b[0m\u001b[1;33m=\u001b[0m\u001b[0mnameoffile\u001b[0m\u001b[1;33m.\u001b[0m\u001b[0msplit\u001b[0m\u001b[1;33m(\u001b[0m\u001b[1;34m'/'\u001b[0m\u001b[1;33m)\u001b[0m\u001b[1;33m[\u001b[0m\u001b[1;33m-\u001b[0m\u001b[1;36m1\u001b[0m\u001b[1;33m]\u001b[0m\u001b[1;33m.\u001b[0m\u001b[0msplit\u001b[0m\u001b[1;33m(\u001b[0m\u001b[1;34m\".\"\u001b[0m\u001b[1;33m)\u001b[0m\u001b[1;33m[\u001b[0m\u001b[1;36m1\u001b[0m\u001b[1;33m]\u001b[0m\u001b[1;33m\u001b[0m\u001b[0m\n\u001b[0m\u001b[0;32m     45\u001b[0m             \u001b[1;31m#print(\"是文件，打印当前的absourcePath的文件名:\",nameoffile)\u001b[0m\u001b[1;33m\u001b[0m\u001b[1;33m\u001b[0m\u001b[0m\n\u001b[0;32m     46\u001b[0m             \u001b[0mnewname\u001b[0m\u001b[1;33m=\u001b[0m\u001b[0mchange_file_name\u001b[0m\u001b[1;33m(\u001b[0m\u001b[0mnameoffile\u001b[0m\u001b[1;33m)\u001b[0m\u001b[1;33m\u001b[0m\u001b[0m\n",
      "\u001b[1;31mIndexError\u001b[0m: list index out of range"
     ]
    }
   ],
   "source": [
    "import os\n",
    "import time\n",
    "from collections import deque\n",
    " \n",
    "\n",
    "\n",
    "def change_file_name(path):  #传入的就是文件名, 这个函数的目的是修改inl函数，确保改名不覆盖 \n",
    "    #print(\"放入到change_name的路径：\",path)\n",
    "    path_arr = path.split('.')\n",
    "    #filename_pre=path_arr[0]\n",
    "    if len(path_arr)==1:\n",
    "        print(\"这个文件有问题，没有后缀名,经验证可以打开，直接copy，哈哈：\",path_arr[0])\n",
    "        return None\n",
    "    elif len(path_arr)==2:\n",
    "        filename_pre=path_arr[0]\n",
    "        filename_after=path_arr[1]\n",
    "        if filename_after==\"inl\":\n",
    "            dst_file='%s.%s'%(filename_pre+\"_nl\",\"html\")\n",
    "        else:\n",
    "            dst_file = '%s.%s'%(filename_pre,\"html\")\n",
    "        return dst_file;\n",
    "\n",
    "\n",
    "def getDirAndCopyFile(sourcePath,targetPath):\n",
    "    if not os.path.exists(sourcePath):\n",
    "        return\n",
    "    if not os.path.exists(targetPath):\n",
    "        os.makedirs(targetPath)\n",
    "     \n",
    "    #遍历文件夹\n",
    "    for fileName in os.listdir(sourcePath):\n",
    "        #拼接原文件或者文件夹的绝对路径\n",
    "        absourcePath = os.path.join(sourcePath, fileName)\n",
    "        #拼接目标文件或者文件加的绝对路径\n",
    "        abstargetPath = os.path.join(targetPath, fileName)\n",
    "        #判断原文件的绝对路径是目录还是文件\n",
    "        if os.path.isdir(absourcePath):\n",
    "            #是目录就创建相应的目标目录\n",
    "            os.makedirs(abstargetPath)\n",
    "            #递归调用getDirAndCopyFile()函数\n",
    "            getDirAndCopyFile(absourcePath,abstargetPath)#是文件就进行复制\n",
    "        if os.path.isfile(absourcePath):\n",
    "            nameoffile=absourcePath.split('/')[-1]\n",
    "            nameoffile_after=nameoffile.split('/')[-1].split(\".\")[1]\n",
    "            #print(\"是文件，打印当前的absourcePath的文件名:\",nameoffile)\n",
    "            newname=change_file_name(nameoffile)\n",
    "            rbf = open(absourcePath,\"rb\")\n",
    "            need2removedstr=abstargetPath.split('/')[-1]\n",
    "            prepinjie=abstargetPath.replace(need2removedstr,\"\")\n",
    "            if newname!=None:\n",
    "                abstargetPathNew=os.path.join(prepinjie,newname)\n",
    "                wbf = open(abstargetPathNew,\"wb\")\n",
    "                while True:\n",
    "                    content = rbf.readline(1024*1024)\n",
    "                    if len(content)==0:\n",
    "                        break\n",
    "                    wbf.write(content)\n",
    "                    wbf.flush()\n",
    "                rbf.close()\n",
    "                wbf.close()\n",
    "            elif newname==None:\n",
    "                #print(\"这他妈文件有问题，没有后缀名，我就直接copy操作了，下面跟一下它的路径：\",abstargetPath)\n",
    "                wbf = open(abstargetPath,\"wb\")\n",
    "                while True:\n",
    "                    content = rbf.readline(1024*1024)\n",
    "                    if len(content)==0:\n",
    "                        break\n",
    "                    wbf.write(content)\n",
    "                    wbf.flush()\n",
    "                rbf.close()\n",
    "                wbf.close()\n",
    "if __name__ == '__main__':\n",
    "    \n",
    "    startTime = time.clock()\n",
    "    sourcePath = input(\"请输入源路径：\")\n",
    "    targetPath = input(\"请输入copy路径：\")\n",
    "    getDirAndCopyFile(sourcePath,targetPath)\n",
    "    #时间是用来计算复制总共消耗了多少时间\n",
    "    endTime = time.clock()\n",
    "    time_mi = endTime // 60\n",
    "    time_s = endTime // 1 % 60\n",
    "    time_ms = ((endTime * 100) // 1) % 100\n",
    "    print (\"总用时:%02.0f:%02.0f:%2.0f\" % (time_mi, time_s, time_ms))"
   ]
  },
  {
   "cell_type": "code",
   "execution_count": 4,
   "metadata": {
    "collapsed": false
   },
   "outputs": [
    {
     "name": "stdout",
     "output_type": "stream",
     "text": [
      "h\n"
     ]
    }
   ],
   "source": [
    "text='shiyan/arc_api/AgeingMeter_Config_Common.h'\n",
    "a=text.split('/')[-1].split(\".\")[1]\n",
    "print(a)"
   ]
  },
  {
   "cell_type": "code",
   "execution_count": null,
   "metadata": {
    "collapsed": true
   },
   "outputs": [],
   "source": []
  }
 ],
 "metadata": {
  "anaconda-cloud": {},
  "kernelspec": {
   "display_name": "Python [Root]",
   "language": "python",
   "name": "Python [Root]"
  },
  "language_info": {
   "codemirror_mode": {
    "name": "ipython",
    "version": 3
   },
   "file_extension": ".py",
   "mimetype": "text/x-python",
   "name": "python",
   "nbconvert_exporter": "python",
   "pygments_lexer": "ipython3",
   "version": "3.5.2"
  }
 },
 "nbformat": 4,
 "nbformat_minor": 0
}
