{
 "cells": [
  {
   "cell_type": "code",
   "execution_count": 3,
   "metadata": {},
   "outputs": [
    {
     "name": "stdout",
     "output_type": "stream",
     "text": [
      "new rubber JD\n"
     ]
    }
   ],
   "source": [
    "import json\n",
    "from io import BytesIO\n",
    "from bs4 import BeautifulSoup as bs\n",
    "from PIL import Image\n",
    "import datetime\n",
    "from urllib import parse\n",
    "import re\n",
    "import random\n",
    "import time\n",
    "\n",
    "from selenium import webdriver\n",
    "from selenium.webdriver.support.ui import WebDriverWait\n",
    "from selenium.webdriver.support import  expected_conditions as EC\n",
    "from selenium.webdriver.common.by import By\n",
    "from selenium.webdriver import ActionChains\n",
    "from selenium.common.exceptions import TimeoutException\n",
    "\n",
    "class JD2020:\n",
    "    def __init__(self, username, password):\n",
    "        self.url = 'https://passport.jd.com/uc/loginService'\n",
    "        self.browser = webdriver.Chrome()\n",
    "        #定义显示等待\n",
    "        self.wait = WebDriverWait(self.browser,20)\n",
    "        self.username = username\n",
    "        self.password = password\n",
    "        \n",
    "        \n",
    "    def __del__(self):\n",
    "        #关闭浏览器\n",
    "        self.browser.close()\n",
    "    \n",
    "    def login_successfully(self):\n",
    "        \"\"\"\n",
    "        判断是否登陆成功\n",
    "        :return:\n",
    "        \"\"\"\n",
    "        try:\n",
    "            '''\n",
    "           <a data-v-4d9bc88b=\"\" href=\"//message.bilibili.com\" target=\"_blank\" title=\"消息\" class=\"t\"><div data-v-4d9bc88b=\"\" class=\"num\">3</div> <!---->\n",
    "    消息\n",
    "  </a>\n",
    "            '''\n",
    "            #登录成功后 界面上会有一个消息按钮\n",
    "            return bool(\n",
    "                WebDriverWait(self.browser,5).until(EC.presence_of_element_located((By.XPATH,'//a[@title=\"消息\"]')))\n",
    "            )\n",
    "        except TimeoutException:\n",
    "            return False\n",
    "    \n",
    "\n",
    "        \n",
    "if __name__== \"__main__\":\n",
    "    print(\"new rubber JD\")"
   ]
  },
  {
   "cell_type": "code",
   "execution_count": null,
   "metadata": {},
   "outputs": [],
   "source": []
  }
 ],
 "metadata": {
  "kernelspec": {
   "display_name": "Python 3",
   "language": "python",
   "name": "python3"
  },
  "language_info": {
   "codemirror_mode": {
    "name": "ipython",
    "version": 3
   },
   "file_extension": ".py",
   "mimetype": "text/x-python",
   "name": "python",
   "nbconvert_exporter": "python",
   "pygments_lexer": "ipython3",
   "version": "3.7.6"
  }
 },
 "nbformat": 4,
 "nbformat_minor": 4
}
