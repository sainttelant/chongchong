{
 "cells": [
  {
   "cell_type": "code",
   "execution_count": 7,
   "metadata": {
    "collapsed": false
   },
   "outputs": [
    {
     "ename": "NameError",
     "evalue": "name 'reload' is not defined",
     "output_type": "error",
     "traceback": [
      "\u001b[1;31m---------------------------------------------------------------------------\u001b[0m",
      "\u001b[1;31mNameError\u001b[0m                                 Traceback (most recent call last)",
      "\u001b[1;32m<ipython-input-7-d4eeb50e5423>\u001b[0m in \u001b[0;36m<module>\u001b[1;34m()\u001b[0m\n\u001b[0;32m      5\u001b[0m \u001b[0mtl\u001b[0m\u001b[1;33m=\u001b[0m\u001b[1;33m[\u001b[0m\u001b[1;33m]\u001b[0m\u001b[1;33m\u001b[0m\u001b[0m\n\u001b[0;32m      6\u001b[0m \u001b[0mnr1\u001b[0m\u001b[1;33m=\u001b[0m\u001b[1;33m[\u001b[0m\u001b[1;33m]\u001b[0m\u001b[1;33m\u001b[0m\u001b[0m\n\u001b[1;32m----> 7\u001b[1;33m \u001b[0mreload\u001b[0m\u001b[1;33m(\u001b[0m\u001b[0msys\u001b[0m\u001b[1;33m)\u001b[0m\u001b[1;33m\u001b[0m\u001b[0m\n\u001b[0m\u001b[0;32m      8\u001b[0m \u001b[0msys\u001b[0m\u001b[1;33m.\u001b[0m\u001b[0msetdefaultencoding\u001b[0m\u001b[1;33m(\u001b[0m\u001b[1;34m'utf8'\u001b[0m\u001b[1;33m)\u001b[0m\u001b[1;33m\u001b[0m\u001b[0m\n\u001b[0;32m      9\u001b[0m \u001b[1;33m\u001b[0m\u001b[0m\n",
      "\u001b[1;31mNameError\u001b[0m: name 'reload' is not defined"
     ]
    }
   ],
   "source": [
    "import requests\n",
    "from bs4 import BeautifulSoup as bs\n",
    "import sys\n",
    "import random\n",
    "\n",
    "tl=[]\n",
    "nr1=[]\n",
    "reload(sys)\n",
    "sys.setdefaultencoding('utf8')\n",
    "\n",
    "\n",
    "# Standard module stuff\n",
    "\n",
    "WORDS = ['GUSHI']\n",
    "SLUG = \"gushi\"\n",
    "\n",
    "def handle(text, mic, profile, wxbot=None):\n",
    "    \n",
    "    \"\"\"\n",
    "    Responds to user-input, typically speech text\n",
    "    Arguments:\n",
    "        text -- user-input, typically transcribed speech\n",
    "        mic -- used to interact with the user (for both input and output)\n",
    "        profile -- contains information related to the user (e.g., phone\n",
    "        number)\n",
    "        wxbot -- wechat bot instance\n",
    "    \"\"\"\n",
    "    \n",
    "    #get config\n",
    "    if SLUG not in profile:\n",
    "        mic.say('亲爱的，我还不大会讲故事，请你给我看看讲哪儿的故事。')\n",
    "        return\n",
    "    try:\n",
    "        biaoti,nr=gushi()\n",
    "        k=random.randint(0,11) #随机讲个故事吧\n",
    "        shuohua='亲，我来随便给你讲个小故事吧，故事的名字叫'+biaoti[k]\n",
    "        mic.say(shuohua)\n",
    "        shuohua1='下面是正文'+nr[k]\n",
    "        mic.say(shuohua1)\n",
    "        mic.say('我的故事讲完了，咋样？还满意哦')\n",
    "    except Exception,e:\n",
    "        mic.say('亲，臣妾没准备好啊，不知道讲什么好內')\n",
    "def gushi():\n",
    "    \n",
    "    headers={'Accept-Encoding':'gzip, deflate',\n",
    "        'Accept-Language':'zh-CN,zh;q=0.8',\n",
    "        'Upgrade-Insecure-Requests':'1',\n",
    "    'User-Agent':'Mozilla/5.0 (X11; Linux x86_64) AppleWebKit/537.36 (KHTML, like Gecko) Chrome/61.0.3163.100 Safari/537.36'}\n",
    "\n",
    "    url='http://www.xigushi.com/'\n",
    "    res=requests.get(url,headers=headers)\n",
    "    res.encoding='gbk'      # 常用的解码　gbk,utf-8,gzip，总有一款适合你\n",
    "\n",
    "    soup=bs(res.text,'html.parser')\n",
    "    print(soup)\n",
    "    for k in soup.select('dl.right dd ul li a'):\n",
    "        newurl='http://www.xigushi.com'+k['href']\n",
    "        print(newurl)\n",
    "        re=requests.get(newurl,headers=headers)\n",
    "        re.encoding='gbk'\n",
    "        soup1=bs(re.text,'html.parser')\n",
    "        for tm in soup1.select('h1'):\n",
    "            title=tm.get_text()\n",
    "            tl.append(title)\n",
    "        for nrong in soup1.select('dl dd p'):\n",
    "            nrong=nrong.get_text()\n",
    "          \n",
    "            hr=k['href'].replace('.html',\"\") #去掉后面的尾巴，构造下一页的ｕｒｌ\n",
    "            newurl1='http://www.xigushi.com'+hr+'_2.html'  #构造好了\n",
    "            resp=requests.get(newurl1,headers=headers)\n",
    "            resp.encoding='gbk'\n",
    "            soup2=bs(resp.text,'html.parser')\n",
    "         \n",
    "            for nrong1 in soup2.select('dl dd p'):\n",
    "         \n",
    "                nrong1=nrong+nrong1.get_text()\n",
    "            nr1.append(nrong1)  #要把添加内容的命名放到上个循环外面才能添加组合信息，注意啊，调了好长时间\n",
    "    \n",
    "    \n",
    "    return tl,nr1 \n",
    "\n",
    "def isValid(text):\n",
    "    \"\"\"\n",
    "        Returns True if the input is related to weather.\n",
    "        Arguments:\n",
    "        text -- user-input, typically transcribed speech\n",
    "    \"\"\"\n",
    "    return any(word in text for word in [u\"故事\",u\"讲故事\",u\"小故事\",u\"读书\"])"
   ]
  },
  {
   "cell_type": "code",
   "execution_count": 4,
   "metadata": {
    "collapsed": false
   },
   "outputs": [
    {
     "data": {
      "text/plain": [
       "['锚定梦想 一切简单',\n",
       " '有一种爱叫友谊',\n",
       " '原点',\n",
       " '心灵鸡汤：一片树叶',\n",
       " '初恋，只是个美好的回忆',\n",
       " '结局的启发',\n",
       " '范仲淹与豆瓣汤',\n",
       " '记忆那永不忘怀的旧事',\n",
       " '有一种拥有叫满足',\n",
       " '涸辙之鱼',\n",
       " '民间故事：千两黄金的福报',\n",
       " '朋友是人生最大的财富']"
      ]
     },
     "execution_count": 4,
     "metadata": {},
     "output_type": "execute_result"
    }
   ],
   "source": [
    "tl"
   ]
  },
  {
   "cell_type": "code",
   "execution_count": 5,
   "metadata": {
    "collapsed": false
   },
   "outputs": [
    {
     "data": {
      "text/plain": [
       "'\\u3000\\u3000有一个故事，说的是一头驴，背着两捆草，饿了，到底放下那一捆来吃呢?一直犹豫不决，结果饿死了。这个故事有些夸张，但人生很多路口，大家都会在路口上徘徊。做选择是很难很痛苦的，这边有诱惑，那边也有诱惑。到底选择哪个?我的同学都出国了，我是不是也应该去新东方学习准备考托福?我的发小考公务员了，我是不是也要买书复习了?电视上说有个人小学没毕业做电商就发财了，我是不是也要到淘宝上开个店铺?\\n\\r\\n\\u3000\\u3000你今天听到东边热闹往东跑，明天听到西边热闹，就掉头往西边跑。很多年下来，你就会变成一个没头苍蝇，东一榔头西一棒槌，疲于奔命，没有积累。我认为，如果你觉得自己还年轻，那一定要花点时间想一想，不说长了，就是未来的十到十五年时间，你到底要想成为怎样的人?未来十到十五年，你到底最想获得什么?这是最重要的。这个东西，你可以说是梦想，也可以说是价值观。\\n\\r\\n\\u3000\\u3000为什么?因为你一旦想清楚了，以后你无论做什么判断，做什么选择，那就简单多了。有助于实现我梦想的，我就干。没帮助，我就放弃。把梦想锚定，短期内不管你遇到什么诱惑，遭遇什么困难，都不会左右你判断和选择。\\n\\r\\n\\u3000\\u3000在这点上，我很幸运，在困难面前我很少摇摆，经常是一拍脑袋就做决定了。因为我上高中的时候，就想清楚了我这辈子要干什么。我不想要进到一个仰人鼻息的单位去，我就梦想着要开个自己的电脑公司编软件，自己安排生活和命运，而且做好了，很多人都用，这样很有成就感。\\n\\r\\n\\u3000\\u3000一旦有了这个想法，所有的选择都变得非常简单。比如我上高中的时候在全国物理竞赛上获过奖，很多大学都愿意录取我，各种专业五花八门。其中一所比较著名的大学，想录取我上食品工程专业。我父母听说以后十分高兴，他们经历过吃不饱饭的年代，觉得上了这个专业，以后就不愁吃饭了。但我坚决不同意，因为我对食品不感兴趣，我就是想编软件。当时西安交大也来录取我，我当时也不知道西安交大是干什么的，以为是修铁路的大学。但西安交大让我上计算机系，那我就去了，因为符合我的目标。相反，我很多同学根据当时热门不热门来选专业，很多人选了国际贸易。这种选择看起来很聪明，但现在看来，这未必是他们真正想要的，也未必是自己能够施展才华的地方。\\n\\r\\n\\u3000\\u3000你如果说，我的目标很简单，就是年薪50万。对这样的目标，我的建议是，目标不能太物质化。太短期、太物质化的目标不能内化成你的梦想。像年薪50万、100万这样的目标，你可能很快就实现了，然后就失去了梦想，没了目标，跟有些拿到巨额拆迁款的人一样，沉溺于赌博，把自己的未来都毁了;或者有的物质化目标很难实现，比如你想成为中国首富，可能你很快就放弃了。我认为，只有这种非利益化的梦想和目标，才能长期激励一个人不断地去追求。\\n\\r\\n\\u3000\\u3000我大学毕业时，也面临着选择。到底是去南方的某家银行工作，拿一月3000元的高薪，还是去北京的一家大型电脑公司，拿一月800元的工资?我没什么犹豫就选择了后者，因为只有到电脑公司，才能学习怎么做软件，才有机会实现我的梦想。\\n\\r\\n\\u3000\\u3000后来我离开这家电脑公司到互联网里去创业，有很多人说：“你太有勇气了，放弃了高薪和职位。”但是我觉得这不需要什么勇气。它已经不适合我了，没法帮助我实现自己的梦想。这些别人认为很珍贵的东西，对我来说是Nothing。所以，你的梦想和目标不跟物质挂钩，物质就不会成为你选择时的掣肘。\\n\\r\\n\\u3000\\u3000对于高中生来说，诱惑可能是某个看起来前景良好的专业。对于大学生来说，诱惑可能是一份待遇丰厚、人人艳羡的工作。但是随着你越走越远，物质的诱惑越来越大，你就更需要梦想这个坚定的罗盘来指引。\\n\\r\\n\\u3000\\u3000当年我要离开雅虎，因为在里面不能创新，很多好想法实现不了，这种氛围让我窒息，让我忍无可忍。雅虎说，要提前辞职，会扣我3000万美金。即使放到现在，这也是一笔不小的数目。很多人替我惋惜，说你再混个一年半载的。我不想混，也最痛恨混。对我来说，自由是最重要的，干自己想干的事儿是最重要的。于是，我再一次的创业。于是，有了360。\\n\\r\\n\\u3000\\u3000可以说，到今天我的梦想从来都没有变过，只是我所在的行业从计算机发展到了互联网，发展到了手机领域。我的目标很简单，一直都是要做出别人从来没有想过的产品，我的产品能够改变千千万万人的生活和工作方式。这个梦想，可以说我已经实现了，也可以说我还没有实现，因为我觉得还有更多好想法可以去做。\\n\\r\\n\\u3000\\u300090后的年轻人有朝气，有活力，你们应该有更好的梦想。希望大家好好思考一下自己的未来。想想10年、15年后，大家再聚首的时候，你希望自己成为什么样的人，这才是最重要的。'"
      ]
     },
     "execution_count": 5,
     "metadata": {},
     "output_type": "execute_result"
    }
   ],
   "source": [
    "nr1[0]"
   ]
  },
  {
   "cell_type": "code",
   "execution_count": null,
   "metadata": {
    "collapsed": true
   },
   "outputs": [],
   "source": []
  }
 ],
 "metadata": {
  "kernelspec": {
   "display_name": "Python [Root]",
   "language": "python",
   "name": "Python [Root]"
  },
  "language_info": {
   "codemirror_mode": {
    "name": "ipython",
    "version": 3
   },
   "file_extension": ".py",
   "mimetype": "text/x-python",
   "name": "python",
   "nbconvert_exporter": "python",
   "pygments_lexer": "ipython3",
   "version": "3.5.2"
  }
 },
 "nbformat": 4,
 "nbformat_minor": 0
}
