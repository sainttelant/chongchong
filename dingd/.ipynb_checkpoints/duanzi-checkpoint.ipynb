{
 "cells": [
  {
   "cell_type": "code",
   "execution_count": 25,
   "metadata": {
    "collapsed": false
   },
   "outputs": [],
   "source": [
    "\n",
    "import random\n",
    "import sys\n",
    "import requests\n",
    "from bs4 import BeautifulSoup as bs\n",
    "import logging\n",
    "import json\n",
    "\n",
    "\n",
    "url='http://www.budejie.com/text/'  \n",
    "headers={'Host':'www.budejie.com',\n",
    "        'Upgrade-Insecure-Requests':'1',\n",
    "        'User-Agent':'Mozilla/5.0 (X11; Linux x86_64) AppleWebKit/537.36 (KHTML, like Gecko) Chrome/61.0.3163.100 Safari/537.36'}\n",
    "\n",
    "s=requests.Session()\n",
    "odata=[]\n",
    "\n",
    "#reload(sys)\n",
    "#sys.setdefaultencoding('utf8')\n",
    "\n",
    "# Standard module stuff\n",
    "\n",
    "WORDS = ['DUANZI']\n",
    "SLUG = \"duanzi\"\n",
    "\n",
    "def handle(text, mic, profile, wxbot=None):\n",
    "    \n",
    "    \"\"\"\n",
    "    Responds to user-input, typically speech text\n",
    "    Arguments:\n",
    "        text -- user-input, typically transcribed speech\n",
    "        mic -- used to interact with the user (for both input and output)\n",
    "        profile -- contains information related to the user (e.g., phone\n",
    "        number)\n",
    "        wxbot -- wechat bot instance\n",
    "    \"\"\"\n",
    "    \n",
    "    #get config\n",
    "    if SLUG not in profile:\n",
    "        mic.say('亲，人家害羞给你讲些污段子，非要听的话，你先教教我怎么讲吧')\n",
    "        return\n",
    "    try:\n",
    "        dz=crawlxz()\n",
    "        k=random.randint(0,len(dz))\n",
    "        shuohua='好吧，我就随便给你讲个段子吧，好不好笑看你哦'+dz[k]\n",
    "        mic.say(shuohua)\n",
    "        shuo1='再给你讲个吧'+dz[k+1]\n",
    "        mic.say(shuo1)\n",
    "        shuo2='好笑吧，再来一个'+dz[k+2]\n",
    "        mic.say(shuo2)\n",
    "        shuo3='亲，笑话讲完了，吼吼吼，我自己都忍不住想笑了'\n",
    "        mic.say(shuo3)\n",
    "\n",
    "    except:\n",
    "        mic.say('人家今天都笑不出来，算了，不讲了，我们开干吧')\n",
    " \n",
    "def crawlxz():\n",
    "    for i in range(0,8):\n",
    "        url1=url+str(i)\n",
    "        req=s.get(url1,headers=headers)\n",
    "        req.encoding='utf-8'\n",
    "        soup=bs(req.text,'html.parser')\n",
    "        for dz in soup.select('div.j-r-list-c-desc'):\n",
    "            odata.append(dz.get_text())\n",
    "    return odata\n",
    "\n",
    "   \n",
    "\n",
    "def isValid(text):\n",
    "    \"\"\"\n",
    "        Returns True if the input is related to weather.\n",
    "        Arguments:\n",
    "        text -- user-input, typically transcribed speech\n",
    "    \"\"\"\n",
    "    return any(word in text for word in [u\"不得姐\",u\"百思\",u\"糗事百科\",u\"污段子\"])\n",
    "\n",
    "\n"
   ]
  },
  {
   "cell_type": "code",
   "execution_count": 33,
   "metadata": {
    "collapsed": false
   },
   "outputs": [
    {
     "name": "stdout",
     "output_type": "stream",
     "text": [
      "122\n"
     ]
    },
    {
     "data": {
      "text/plain": [
       "'\\n 高中时候有一次有市报记者来访，调查中学生想要换什么样的校服。当问到我班一个同学喜欢什么款式的校服时，这货沉思良久说，像海尔兄弟那样的吧……………我不知道当时那个记者什么表情………\\n'"
      ]
     },
     "execution_count": 33,
     "metadata": {},
     "output_type": "execute_result"
    }
   ],
   "source": [
    "import random\n",
    "a\n",
    "k=random.randint(0,len(a))\n",
    "print(k)\n",
    "a[k]"
   ]
  }
 ],
 "metadata": {
  "anaconda-cloud": {},
  "kernelspec": {
   "display_name": "Python [Root]",
   "language": "python",
   "name": "Python [Root]"
  },
  "language_info": {
   "codemirror_mode": {
    "name": "ipython",
    "version": 3
   },
   "file_extension": ".py",
   "mimetype": "text/x-python",
   "name": "python",
   "nbconvert_exporter": "python",
   "pygments_lexer": "ipython3",
   "version": "3.5.2"
  }
 },
 "nbformat": 4,
 "nbformat_minor": 0
}
