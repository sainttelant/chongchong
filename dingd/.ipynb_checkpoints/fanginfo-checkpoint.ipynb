{
 "cells": [
  {
   "cell_type": "code",
   "execution_count": 45,
   "metadata": {
    "collapsed": false
   },
   "outputs": [
    {
     "ename": "NameError",
     "evalue": "name 'reload' is not defined",
     "output_type": "error",
     "traceback": [
      "\u001b[1;31m------------------------------------------------------------\u001b[0m",
      "\u001b[1;31mNameError\u001b[0m                  Traceback (most recent call last)",
      "\u001b[1;32m<ipython-input-45-eee237da3dd0>\u001b[0m in \u001b[0;36m<module>\u001b[1;34m()\u001b[0m\n\u001b[0;32m      3\u001b[0m \u001b[1;32mimport\u001b[0m \u001b[0msys\u001b[0m\u001b[1;33m\u001b[0m\u001b[0m\n\u001b[0;32m      4\u001b[0m \u001b[1;32mimport\u001b[0m \u001b[0mlogging\u001b[0m\u001b[1;33m\u001b[0m\u001b[0m\n\u001b[1;32m----> 5\u001b[1;33m \u001b[0mreload\u001b[0m\u001b[1;33m(\u001b[0m\u001b[0msys\u001b[0m\u001b[1;33m)\u001b[0m\u001b[1;33m\u001b[0m\u001b[0m\n\u001b[0m\u001b[0;32m      6\u001b[0m \u001b[0msys\u001b[0m\u001b[1;33m.\u001b[0m\u001b[0msetdefaultencoding\u001b[0m\u001b[1;33m(\u001b[0m\u001b[1;34m'utf8'\u001b[0m\u001b[1;33m)\u001b[0m\u001b[1;33m\u001b[0m\u001b[0m\n\u001b[0;32m      7\u001b[0m \u001b[0ms\u001b[0m\u001b[1;33m=\u001b[0m\u001b[0mrequests\u001b[0m\u001b[1;33m.\u001b[0m\u001b[0mSession\u001b[0m\u001b[1;33m(\u001b[0m\u001b[1;33m)\u001b[0m\u001b[1;33m\u001b[0m\u001b[0m\n",
      "\u001b[1;31mNameError\u001b[0m: name 'reload' is not defined"
     ]
    }
   ],
   "source": [
    "import requests\n",
    "from bs4 import BeautifulSoup as bs\n",
    "import sys\n",
    "import logging\n",
    "\n",
    "reload(sys)\n",
    "sys.setdefaultencoding('utf8')\n",
    "\n",
    "s=requests.Session()\n",
    "url='http://suz.fangjia.com/zoushi/%E5%BC%A0%E5%AE%B6%E6%B8%AF/'\n",
    "headers={'Host':'suz.fangjia.com',\n",
    "'Referer':'http://nj.fangjia.com/zoushi/',\n",
    "'Upgrade-Insecure-Requests':'1',\n",
    "'User-Agent':'Mozilla/5.0 (X11; Linux x86_64) AppleWebKit/537.36 (KHTML, like Gecko) Chrome/61.0.3163.100 Safari/537.36'}\n",
    "\n",
    "zdfsj=[]\n",
    "\n",
    "# Standard module stuff\n",
    "\n",
    "WORDS = ['FANGJIA']\n",
    "SLUG = \"fangjia\"\n",
    "\n",
    "def handle(text, mic, profile, wxbot=None):\n",
    "    \n",
    "    #get config\n",
    "    \n",
    "    if SLUG not in profile:\n",
    "        mic.say('亲爱的，房价功能好像没配置好，请重新配置你懂的')\n",
    "        return\n",
    "    try:\n",
    "        qushi,data=zjgfj()\n",
    "        sh='张家港近一周的房价趋势是这样的哦'+qushi\n",
    "        mic.say(sh)\n",
    "        sh1='让我来看看涨幅排名前十是怎么样的'+data[0]\n",
    "        mic.say(sh1)\n",
    "        sh2='下面看看哪些小区跌幅比较大'+data[1]\n",
    "        mic.say(sh2)\n",
    "    except:\n",
    "        mic.say('亲，妾身今天不大舒服，房价信息还是你自己上网查看吧，扫瑞哦')\n",
    "        \n",
    "def zjgfj():\n",
    "    res=s.get(url,headers=headers)\n",
    "    res.encoding='utf-8'\n",
    "    soup=bs(res.text,'html.parser')\n",
    "    for trend in soup.select('.trend01b'):\n",
    "        td=trend.get_text().replace('\\n','')  #将空格去掉，替换掉\n",
    "    for zdf in soup.select('.trend03'):\n",
    "        zdf1=zdf.get_text().replace('\\n\\n\\n\\n\\n','').replace('\\n\\n\\n','')\n",
    "        zdfsj.append(zdf1)\n",
    "    return td,zdfsj\n",
    "\n",
    "def isValid(text):\n",
    "    \"\"\"\n",
    "        Returns True if the input is related to weather.\n",
    "        Arguments:\n",
    "        text -- user-input, typically transcribed speech\n",
    "    \"\"\"\n",
    "    return any(word in text for word in [u\"房价\",u\"涨跌幅\",u\"一周房价\",u\"房走势\"])\n",
    "    \n",
    "\n"
   ]
  },
  {
   "cell_type": "code",
   "execution_count": 43,
   "metadata": {
    "collapsed": false
   },
   "outputs": [
    {
     "data": {
      "text/plain": [
       "'\\nTop10 涨幅排名\\n排名\\n小区名称\\n上月价格\\n本月价格\\n涨跌幅\\n历史高价\\n单位\\n更新频率\\n数据范围1\\n虹桥公寓\\n14488\\n16174\\n↑11.64%\\n16862\\n元/㎡\\n周度\\n2013-20182\\n中联君悦\\n18313\\n20059\\n↑9.53%\\n20346\\n元/㎡\\n周度\\n2015-20183\\n映月花园别墅\\n11226\\n12283\\n↑9.42%\\n16100\\n元/㎡\\n周度\\n2012-20184\\n湖滨华城龙河花园\\n12400\\n13551\\n↑9.27%\\n14513\\n元/㎡\\n周度\\n2013-20185\\n甲壳虫\\n13895\\n15180\\n↑9.25%\\n15237\\n元/㎡\\n周度\\n2014-20186\\n大自然游艇别墅\\n15336\\n16734\\n↑9.12%\\n18604\\n元/㎡\\n周度\\n2014-20187\\n国泰花园\\n14524\\n15822\\n↑8.93%\\n16785\\n元/㎡\\n周度\\n2015-20188\\n湖滨1号别墅\\n43225\\n46952\\n↑8.62%\\n46952\\n元/㎡\\n周度\\n2016-20189\\n太湖明珠南泊湾\\n9142\\n9927\\n↑8.59%\\n8439\\n元/㎡\\n周度\\n2015-201810\\n今日家园\\n24959\\n27020\\n↑8.26%\\n26848\\n元/㎡\\n周度\\n2016-2018\\n'"
      ]
     },
     "execution_count": 43,
     "metadata": {},
     "output_type": "execute_result"
    }
   ],
   "source": [
    "data[0]"
   ]
  },
  {
   "cell_type": "code",
   "execution_count": 40,
   "metadata": {
    "collapsed": false
   },
   "outputs": [
    {
     "data": {
      "text/plain": [
       "'9437上周均价（元/㎡）9536本周均价（元/㎡）1.04%涨跌幅'"
      ]
     },
     "execution_count": 40,
     "metadata": {},
     "output_type": "execute_result"
    }
   ],
   "source": [
    "qushi"
   ]
  },
  {
   "cell_type": "code",
   "execution_count": null,
   "metadata": {
    "collapsed": true
   },
   "outputs": [],
   "source": []
  }
 ],
 "metadata": {
  "kernelspec": {
   "display_name": "Python [Root]",
   "language": "python",
   "name": "Python [Root]"
  },
  "language_info": {
   "codemirror_mode": {
    "name": "ipython",
    "version": 3
   },
   "file_extension": ".py",
   "mimetype": "text/x-python",
   "name": "python",
   "nbconvert_exporter": "python",
   "pygments_lexer": "ipython3",
   "version": "3.5.2"
  }
 },
 "nbformat": 4,
 "nbformat_minor": 0
}
