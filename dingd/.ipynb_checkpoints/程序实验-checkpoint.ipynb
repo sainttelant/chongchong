{
 "cells": [
  {
   "cell_type": "code",
   "execution_count": null,
   "metadata": {
    "collapsed": false
   },
   "outputs": [],
   "source": [
    "import requests\n",
    "from bs4 import BeautifulSoup as bs\n"
   ]
  },
  {
   "cell_type": "code",
   "execution_count": null,
   "metadata": {
    "collapsed": false
   },
   "outputs": [],
   "source": [
    "url='http://sh.58.com/qiuzu/30745656926008x.shtml?addtype=topinfo&iuType=z_2&PGTID=0d30000b-0000-2615-5e05-78002b71a7f7&ClickID=4&adtype=3'\n",
    "re=requests.get(url)\n",
    "soup=bs(re.text,'lxml')\n",
    "ph=soup.select('#t_phone')\n",
    "num=ph[0].contents[0]    #单个ｌｉｓｔ，可以用ph【０】，而循环不行，记住了\n",
    "print(num)\n"
   ]
  },
  {
   "cell_type": "code",
   "execution_count": null,
   "metadata": {
    "collapsed": false
   },
   "outputs": [],
   "source": [
    "a=10\n",
    "b=2\n",
    "try:\n",
    "    c=a/b\n",
    "    print(c)\n",
    "except:\n",
    "    print('除数不能为０')\n",
    "print(\"done\")"
   ]
  },
  {
   "cell_type": "code",
   "execution_count": null,
   "metadata": {
    "collapsed": false
   },
   "outputs": [],
   "source": [
    "a=['1','2','3']\n",
    "b=['nima','woma','tamad']\n",
    "dict(zip(a,b))　　　#监制不能重复，唯一性"
   ]
  },
  {
   "cell_type": "code",
   "execution_count": null,
   "metadata": {
    "collapsed": false
   },
   "outputs": [],
   "source": [
    "from numpy import *\n",
    "\n",
    "c=array([2,4,8])\n",
    "b=c/2\n",
    "k=mat([[0,236,508,131,507,44],[480,236,508,131,507,44],[960,236,316,131,315,44],[0,236,644,141,511,38],[608,236,572,141,453,38]])\n",
    "k/1.25"
   ]
  },
  {
   "cell_type": "code",
   "execution_count": null,
   "metadata": {
    "collapsed": false
   },
   "outputs": [],
   "source": [
    "k1=mat([[1144,236,132,141,104,38],[0,230,812,159,509,34],[768,230,508,159,319,34],[0,226,1020,184,509,31]])\n",
    "k1/1.25"
   ]
  },
  {
   "cell_type": "code",
   "execution_count": null,
   "metadata": {
    "collapsed": false
   },
   "outputs": [],
   "source": [
    "k2=mat([[968,226,308,184,153,31],[0,216,1020,212,404,29],[960,216,316,212,125,29],[0,204,1020,252,320,27]])\n",
    "k2/1.25"
   ]
  },
  {
   "cell_type": "code",
   "execution_count": null,
   "metadata": {
    "collapsed": false
   },
   "outputs": [],
   "source": [
    "k3=mat([[944,204,332,252,104,27],[0,186,1020,308,255,26],[920,186,356,308,89,26],[0,166,1020,368,203,25]])\n",
    "k3/1.25"
   ]
  },
  {
   "cell_type": "code",
   "execution_count": null,
   "metadata": {
    "collapsed": false
   },
   "outputs": [],
   "source": [
    "k4=mat([[896,166,380,368,76,25],[0,136,1020,458,161,25],[864,136,412,458,65,25],[0,100,1020,568,128,24]])\n",
    "k4/1.25"
   ]
  },
  {
   "cell_type": "code",
   "execution_count": null,
   "metadata": {
    "collapsed": false
   },
   "outputs": [],
   "source": [
    "k5=mat([[824,100,452,568,57,24],[0,52,1020,666,102,22],[776,52,500,666,50,22]])\n",
    "k5/1.25"
   ]
  },
  {
   "cell_type": "code",
   "execution_count": null,
   "metadata": {
    "collapsed": false
   },
   "outputs": [],
   "source": [
    "rsr1=mat([[600,4,644,452,203,71],[40,4,644,452,203,71],[608,4,636,452,252,89],[40,4,636,452,252,89]])\n",
    "rsr1/1.25\n"
   ]
  },
  {
   "cell_type": "code",
   "execution_count": null,
   "metadata": {
    "collapsed": false
   },
   "outputs": [],
   "source": [
    "rsr2=mat([[616,60,628,398,313,98],[40,60,628,398,313,98],[624,124,620,334,390,106],[40,124,628,334,395,106]])\n",
    "rsr2/1.25"
   ]
  },
  {
   "cell_type": "code",
   "execution_count": 3,
   "metadata": {
    "collapsed": false
   },
   "outputs": [
    {
     "name": "stdout",
     "output_type": "stream",
     "text": [
      "125809921947822000\n",
      "125809921947822000\n"
     ]
    }
   ],
   "source": [
    "str='https://www.guahao.com/department/125809921947822000?isStd='\n",
    "print(str.split('department/')[1].split('?')[0])\n",
    "shiyan='https://www.guahao.com/department/125809921947822000?isStd='\n",
    "print(shiyan.replace('https://www.guahao.com/department/','').replace('?isStd=',''))   #两种方法去掉多余的字节"
   ]
  },
  {
   "cell_type": "code",
   "execution_count": null,
   "metadata": {
    "collapsed": false
   },
   "outputs": [],
   "source": [
    "a={1,2,3,4} #这个里面是set\n",
    "b='wori'\n",
    "a.add(b) #字典往里面加，和list append差不多\n",
    "a\n",
    "for i in a:\n",
    "    print(i)"
   ]
  },
  {
   "cell_type": "code",
   "execution_count": null,
   "metadata": {
    "collapsed": false
   },
   "outputs": [],
   "source": [
    "for i in range(1,36):\n",
    "    print(i)"
   ]
  },
  {
   "cell_type": "code",
   "execution_count": 17,
   "metadata": {
    "collapsed": false
   },
   "outputs": [
    {
     "name": "stdout",
     "output_type": "stream",
     "text": [
      "2018-02-2412:46\n"
     ]
    }
   ],
   "source": [
    "import datetime\n",
    "now=datetime.datetime.now().strftime('%Y-%m-%d')\n",
    "rubtime=now+'12:46'\n",
    "nownew=datetime.datetime.now().strftime('%Y-%m-%d%H:%M')\n",
    "print(nownew)\n",
    "while True:\n",
    "    \n",
    "    \n",
    "    \n",
    "     "
   ]
  },
  {
   "cell_type": "code",
   "execution_count": null,
   "metadata": {
    "collapsed": true
   },
   "outputs": [],
   "source": [
    "import json\n",
    "b=json.loads(a)  #转化为ｊｓｏｎ格式\n",
    "for value in b.values():　　#遍历ｖａｌｕｅｓ\n",
    "    print(value)\n",
    "\n",
    "'username' in value　　#判断这个ｖａｌｕｅ在不在里面，ｂｏｏｌ值"
   ]
  },
  {
   "cell_type": "code",
   "execution_count": null,
   "metadata": {
    "collapsed": true
   },
   "outputs": [],
   "source": [
    "replace()\n",
    "strip()　　#都可以去掉不想要的字符"
   ]
  },
  {
   "cell_type": "code",
   "execution_count": null,
   "metadata": {
    "collapsed": true
   },
   "outputs": [],
   "source": [
    "\"\\t\".join()  #可以将ｌｉｓｔ转化为ｓｔｒ格式,并增加空格，ｌｉｓｔ之间"
   ]
  },
  {
   "cell_type": "code",
   "execution_count": 8,
   "metadata": {
    "collapsed": false
   },
   "outputs": [
    {
     "name": "stdout",
     "output_type": "stream",
     "text": [
      "12\n"
     ]
    }
   ],
   "source": [
    "import random\n",
    "k=random.randint(0,13) #包含１３\n",
    "print(k)"
   ]
  },
  {
   "cell_type": "code",
   "execution_count": null,
   "metadata": {
    "collapsed": true
   },
   "outputs": [],
   "source": []
  }
 ],
 "metadata": {
  "anaconda-cloud": {},
  "kernelspec": {
   "display_name": "Python [Root]",
   "language": "python",
   "name": "Python [Root]"
  },
  "language_info": {
   "codemirror_mode": {
    "name": "ipython",
    "version": 3
   },
   "file_extension": ".py",
   "mimetype": "text/x-python",
   "name": "python",
   "nbconvert_exporter": "python",
   "pygments_lexer": "ipython3",
   "version": "3.5.2"
  }
 },
 "nbformat": 4,
 "nbformat_minor": 0
}
