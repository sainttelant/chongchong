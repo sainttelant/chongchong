{
 "cells": [
  {
   "cell_type": "code",
   "execution_count": 5,
   "metadata": {
    "collapsed": false
   },
   "outputs": [
    {
     "name": "stdout",
     "output_type": "stream",
     "text": [
      "download sucessfully\n"
     ]
    }
   ],
   "source": [
    "\n",
    "import os,re\n",
    "import requests\n",
    "from bs4 import BeautifulSoup as bs\n",
    "\n",
    "s = requests.session()\n",
    "url='http://www.lauterbach.cn/tl_files/video/5.flv'\n",
    "re=s.get(url)\n",
    "\n",
    "if re.status_code==200:\n",
    "    with open('laoteb.flv','wb') as f:\n",
    "        f.write(re.content)\n",
    "        f.close()\n",
    "    print('download sucessfully')"
   ]
  },
  {
   "cell_type": "code",
   "execution_count": null,
   "metadata": {
    "collapsed": true
   },
   "outputs": [],
   "source": []
  }
 ],
 "metadata": {
  "anaconda-cloud": {},
  "kernelspec": {
   "display_name": "Python [Root]",
   "language": "python",
   "name": "Python [Root]"
  },
  "language_info": {
   "codemirror_mode": {
    "name": "ipython",
    "version": 3
   },
   "file_extension": ".py",
   "mimetype": "text/x-python",
   "name": "python",
   "nbconvert_exporter": "python",
   "pygments_lexer": "ipython3",
   "version": "3.5.2"
  }
 },
 "nbformat": 4,
 "nbformat_minor": 0
}
