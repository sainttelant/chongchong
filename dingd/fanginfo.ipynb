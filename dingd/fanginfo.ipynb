{
 "cells": [
  {
   "cell_type": "code",
   "execution_count": 2,
   "metadata": {
    "collapsed": false
   },
   "outputs": [],
   "source": [
    "import requests\n",
    "from bs4 import BeautifulSoup as bs\n",
    "import sys\n",
    "import logging\n",
    "\n",
    "#reload(sys)\n",
    "#sys.setdefaultencoding('utf8')\n",
    "\n",
    "s=requests.Session()\n",
    "url='http://suz.fangjia.com/zoushi/%E5%BC%A0%E5%AE%B6%E6%B8%AF/'\n",
    "headers={'Host':'suz.fangjia.com',\n",
    "'Referer':'http://nj.fangjia.com/zoushi/',\n",
    "'Upgrade-Insecure-Requests':'1',\n",
    "'User-Agent':'Mozilla/5.0 (X11; Linux x86_64) AppleWebKit/537.36 (KHTML, like Gecko) Chrome/61.0.3163.100 Safari/537.36'}\n",
    "\n",
    "zdfsj=[]\n",
    "\n",
    "# Standard module stuff\n",
    "\n",
    "WORDS = ['FANGJIA']\n",
    "SLUG = \"fangjia\"\n",
    "\n",
    "def handle(text, mic, profile, wxbot=None):\n",
    "    \n",
    "    #get config\n",
    "    \n",
    "    if SLUG not in profile:\n",
    "        mic.say('亲爱的，房价功能好像没配置好，请重新配置你懂的')\n",
    "        return\n",
    "    try:\n",
    "        qushi,data=zjgfj()\n",
    "        sh='张家港近一周的房价趋势是这样的哦'+qushi\n",
    "        mic.say(sh)\n",
    "        sh1='让我来看看涨幅排名前十是怎么样的'+data[0]\n",
    "        mic.say(sh1)\n",
    "        sh2='下面看看哪些小区跌幅比较大'+data[1]\n",
    "        mic.say(sh2)\n",
    "    except:\n",
    "        mic.say('亲，妾身今天不大舒服，房价信息还是你自己上网查看吧，扫瑞哦')\n",
    "        \n",
    "def zjgfj():\n",
    "    res=s.get(url,headers=headers)\n",
    "    res.encoding='utf-8'\n",
    "    soup=bs(res.text,'html.parser')\n",
    "    for trend in soup.select('.trend01b'):\n",
    "        td=trend.get_text().replace('\\n','')  #将空格去掉，替换掉\n",
    "    for zdf in soup.select('.trend03'):\n",
    "        zdf1=zdf.get_text().replace('\\n\\n\\n\\n\\n','').replace('\\n\\n\\n','')\n",
    "        zdfsj.append(zdf1)\n",
    "    return td,zdfsj\n",
    "\n",
    "def isValid(text):\n",
    "    \"\"\"\n",
    "        Returns True if the input is related to weather.\n",
    "        Arguments:\n",
    "        text -- user-input, typically transcribed speech\n",
    "    \"\"\"\n",
    "    return any(word in text for word in [u\"房价\",u\"涨跌幅\",u\"一周房价\",u\"房走势\"])\n",
    "    \n",
    "qushi,data=zjgfj()\n"
   ]
  },
  {
   "cell_type": "code",
   "execution_count": 3,
   "metadata": {
    "collapsed": false
   },
   "outputs": [
    {
     "data": {
      "text/plain": [
       "'\\nTop10 涨幅排名\\n排名\\n小区名称\\n上月价格\\n本月价格\\n涨跌幅\\n历史高价\\n单位\\n更新频率\\n数据范围1\\n华阳公寓\\n16384\\n18473\\n↑12.75%\\n18473\\n元/㎡\\n周度\\n2015-20182\\n世茂铜雀台\\n33273\\n37120\\n↑11.56%\\n37120\\n元/㎡\\n周度\\n2017-20183\\n膑晞苑\\n22618\\n24935\\n↑10.24%\\n25688\\n元/㎡\\n周度\\n2015-20184\\n龙邑小区\\n8639\\n9510\\n↑10.08%\\n10177\\n元/㎡\\n周度\\n2015-20185\\n保利独墅湖西岸\\n23572\\n25805\\n↑9.47%\\n28926\\n元/㎡\\n周度\\n2016-20186\\n御庭花苑\\n10512\\n11505\\n↑9.45%\\n11505\\n元/㎡\\n周度\\n2015-20187\\n时家园\\n25393\\n27769\\n↑9.36%\\n27769\\n元/㎡\\n周度\\n2014-20188\\n红峰一村\\n6648\\n7265\\n↑9.27%\\n24706\\n元/㎡\\n周度\\n2015-20189\\n仓基园\\n16016\\n17500\\n↑9.27%\\n17500\\n元/㎡\\n周度\\n2013-201810\\n玉荷春天\\n18306\\n20000\\n↑9.25%\\n20000\\n元/㎡\\n周度\\n2014-2018\\n'"
      ]
     },
     "execution_count": 3,
     "metadata": {},
     "output_type": "execute_result"
    }
   ],
   "source": [
    "data[0]"
   ]
  },
  {
   "cell_type": "code",
   "execution_count": 4,
   "metadata": {
    "collapsed": false
   },
   "outputs": [
    {
     "data": {
      "text/plain": [
       "'9621上周均价（元/㎡）9897本周均价（元/㎡）2.86%涨跌幅'"
      ]
     },
     "execution_count": 4,
     "metadata": {},
     "output_type": "execute_result"
    }
   ],
   "source": [
    "qushi"
   ]
  },
  {
   "cell_type": "code",
   "execution_count": null,
   "metadata": {
    "collapsed": true
   },
   "outputs": [],
   "source": []
  }
 ],
 "metadata": {
  "kernelspec": {
   "display_name": "Python [Root]",
   "language": "python",
   "name": "Python [Root]"
  },
  "language_info": {
   "codemirror_mode": {
    "name": "ipython",
    "version": 3
   },
   "file_extension": ".py",
   "mimetype": "text/x-python",
   "name": "python",
   "nbconvert_exporter": "python",
   "pygments_lexer": "ipython3",
   "version": "3.5.2"
  }
 },
 "nbformat": 4,
 "nbformat_minor": 0
}
