{
 "cells": [
  {
   "cell_type": "code",
   "execution_count": 1,
   "metadata": {
    "collapsed": false
   },
   "outputs": [
    {
     "name": "stdout",
     "output_type": "stream",
     "text": [
      "Elapsed Time: 0.5897519588470459\n"
     ]
    },
    {
     "name": "stderr",
     "output_type": "stream",
     "text": [
      "/home/wx/anaconda3/lib/python3.5/site-packages/ipykernel/__main__.py:27: DeprecationWarning: ClientSession.close() is a coroutine\n"
     ]
    }
   ],
   "source": [
    "from bs4 import BeautifulSoup as bs\n",
    "import asyncio\n",
    "import aiohttp\n",
    "import time\n",
    " \n",
    "#async，协程对象\n",
    "async def getPage(url,res_list,callback=None):\n",
    "   \n",
    "    headers = {'User-Agent':'Mozilla/4.0 (compatible; MSIE 5.5; Windows NT)'}\n",
    "    #asyncio.Semaphore(),限制同时运行协程数量\n",
    "    sem = asyncio.Semaphore(5)\n",
    "    with (await sem):\n",
    "        async with aiohttp.ClientSession() as session:\n",
    "            async with session.get(url,headers=headers) as resp:\n",
    "                #断言，判断网站状态\n",
    "                assert resp.status==200\n",
    "                #判断不同回调函数做处理\n",
    "                if callback==grabPage:\n",
    "                    body = await resp.text()\n",
    "                    callback(res_list,body)\n",
    "                elif callback==grabPage1:\n",
    "                    body = await resp.text()\n",
    "                    callback(body)\n",
    "                else:\n",
    "                    return await resp.text()\n",
    "                #关闭请求\n",
    "                session.close()\n",
    " \n",
    "#解析页面拿到博客url\n",
    "def grabPage(res_list,body):\n",
    "    page = bs(body,\"lxml\")\n",
    "    articles = page.find_all('div', attrs={'class': 'article_title'})\n",
    "    for a in articles:\n",
    "        x = a.find('a')['href']\n",
    "      \n",
    "        res_list.add('http://blog.csdn.net' + x)\n",
    "        print(ret_list)\n",
    "#拿到博客页面的标题\n",
    "def grabPage1(body):\n",
    "    page = bs(body,\"lxml\")\n",
    "    articles = page.find(\"title\")\n",
    "    print(articles.text)\n",
    " \n",
    "start = time.time()\n",
    " \n",
    "#博客列表页面总页数\n",
    "page_num = 4\n",
    "#起始页面\n",
    "page_url_base = 'http://blog.csdn.net/u013055678/article/list/'\n",
    "#列表页面的列表\n",
    "page_urls = [page_url_base + str(i+1) for i in range(page_num)]\n",
    "\n",
    "#asyncio.get_event_loop()，创建事件循环\n",
    "loop = asyncio.get_event_loop()\n",
    "#用来储存所有博客详细页URL\n",
    "ret_list = set()\n",
    "\n",
    "#协程任务，获得所有博客详细页面并存到set中\n",
    "tasks = [getPage(host,ret_list, callback=grabPage) for host in page_urls]\n",
    "#在事件循环中执行协程程序\n",
    "loop.run_until_complete(asyncio.gather(*tasks))\n",
    "\n",
    "\n",
    "#协程任务，获得博客详细页面的标题\n",
    "tasks = [getPage(url, ret_list, callback=grabPage1) for url in ret_list]\n",
    "#在事件循环中执行协程程序\n",
    "loop.run_until_complete(asyncio.gather(*tasks))\n",
    " \n",
    "\n",
    "#关闭事件循环\n",
    "loop.close()\n",
    "\n",
    "\n",
    "print(\"Elapsed Time: %s\" % (time.time() - start))"
   ]
  },
  {
   "cell_type": "code",
   "execution_count": null,
   "metadata": {
    "collapsed": true
   },
   "outputs": [],
   "source": [
    "\n",
    "    "
   ]
  }
 ],
 "metadata": {
  "kernelspec": {
   "display_name": "Python [Root]",
   "language": "python",
   "name": "Python [Root]"
  },
  "language_info": {
   "codemirror_mode": {
    "name": "ipython",
    "version": 3
   },
   "file_extension": ".py",
   "mimetype": "text/x-python",
   "name": "python",
   "nbconvert_exporter": "python",
   "pygments_lexer": "ipython3",
   "version": "3.5.2"
  }
 },
 "nbformat": 4,
 "nbformat_minor": 0
}
