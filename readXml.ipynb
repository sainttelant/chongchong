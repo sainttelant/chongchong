{
 "cells": [
  {
   "cell_type": "code",
   "execution_count": 2,
   "metadata": {
    "collapsed": false
   },
   "outputs": [
    {
     "name": "stdout",
     "output_type": "stream",
     "text": [
      "done\n"
     ]
    }
   ],
   "source": [
    "import xml.dom.minidom as xmldom\n",
    "import os\n",
    "\n",
    "def readxml(xmlfile):\n",
    "    #xmlfile = 'C:/Users/bo.li/Desktop/1.xml'\n",
    "    doc = xmldom.parse(xmlfile) #打开xml文件\n",
    "    root = doc.documentElement #得到文档元素对象\n",
    "    #print (root.nodeName) #得到节点的名字。还有nodeValue是结点的值，只对文本结点有效。nodeType是结点的类型\n",
    "\n",
    "    #获得子标签的名字\n",
    "    folder = root.getElementsByTagName('folder')\n",
    "    #print (folder[0].nodeName)  #打印节点名称\n",
    "    #print (folder[0].firstChild.data)  #打印标签值\n",
    "\n",
    "    filename = root.getElementsByTagName('filename')\n",
    "    #print (filename[0].nodeName)\n",
    "    #print (filename[0].firstChild.data)\n",
    "\n",
    "    path = root.getElementsByTagName('path')\n",
    "    #print (path[0].nodeName)\n",
    "    #print (path[0].firstChild.data)\n",
    "\n",
    "    database = root.getElementsByTagName('database')\n",
    "    #print (database[0].nodeName)\n",
    "    #print (database[0].firstChild.data)\n",
    "\n",
    "    width = root.getElementsByTagName('width')\n",
    "    #print (width[0].nodeName)\n",
    "    #print (width[0].firstChild.data)\n",
    "\n",
    "    height = root.getElementsByTagName('height')\n",
    "    #print (height[0].nodeName)\n",
    "    #print (height[0].firstChild.data)\n",
    "\n",
    "    depth = root.getElementsByTagName('depth')\n",
    "    #print (depth[0].nodeName)\n",
    "    #print (depth[0].firstChild.data)\n",
    "\n",
    "    segment = root.getElementsByTagName('segmented')\n",
    "    #print (segment[0].nodeName)\n",
    "    #print (segment[0].firstChild.data)\n",
    "\n",
    "    name = root.getElementsByTagName('name') #获取所有‘object’节点\n",
    "    #print (name[0].nodeName + \": \" + name[0].firstChild.data)\n",
    "    #print (name[1].nodeName + \": \" + name[1].nodeName)\n",
    "    #print (name[2].nodeName + \": \" + name[2].firstChild.data)\n",
    "\n",
    "    xmin = root.getElementsByTagName('xmin')\n",
    "\n",
    "    ymin = root.getElementsByTagName('ymin')\n",
    "\n",
    "    xmax = root.getElementsByTagName('xmax')\n",
    "\n",
    "    ymax = root.getElementsByTagName('ymax')\n",
    "\n",
    "    rectlist = []\n",
    "    namelist = []\n",
    "    if len(name) > 0:\n",
    "        for i in range(len(name)):\n",
    "            rect = []\n",
    "            rect.append(int(xmin[i].firstChild.data))\n",
    "            rect.append(int(ymin[i].firstChild.data))\n",
    "            rect.append(int(xmax[i].firstChild.data))\n",
    "            rect.append(int(ymax[i].firstChild.data))\n",
    "            rectlist.append(rect)\n",
    "            namelist.append(name[i].firstChild.data)\n",
    "    return rectlist, namelist\n",
    "\n",
    "if __name__==\"__main__\":\n",
    "    print('done')"
   ]
  },
  {
   "cell_type": "code",
   "execution_count": null,
   "metadata": {
    "collapsed": true
   },
   "outputs": [],
   "source": []
  }
 ],
 "metadata": {
  "anaconda-cloud": {},
  "kernelspec": {
   "display_name": "Python [Root]",
   "language": "python",
   "name": "Python [Root]"
  },
  "language_info": {
   "codemirror_mode": {
    "name": "ipython",
    "version": 3
   },
   "file_extension": ".py",
   "mimetype": "text/x-python",
   "name": "python",
   "nbconvert_exporter": "python",
   "pygments_lexer": "ipython3",
   "version": "3.5.2"
  }
 },
 "nbformat": 4,
 "nbformat_minor": 0
}
