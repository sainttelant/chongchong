{
 "cells": [
  {
   "cell_type": "code",
   "execution_count": 2,
   "metadata": {},
   "outputs": [
    {
     "name": "stdout",
     "output_type": "stream",
     "text": [
      "请随意输入一个百位，经验证，小于768有效，的数字来切换爬虫图片：700\n"
     ]
    }
   ],
   "source": [
    "import requests\n",
    "from bs4 import BeautifulSoup as bs\n",
    "import os\n",
    "import sys\n",
    "import time\n",
    "import random\n",
    "from io import BytesIO\n",
    "from PIL import Image\n",
    "\n",
    "s=requests.Session()\n",
    "s.keep_alive = False\n",
    "\n",
    "\n",
    "headers={\n",
    "        'Host':'car.autohome.com.cn',\n",
    "        'Referer':'https://www.autohome.com.cn/588/',\n",
    "        'Upgrade-Insecure-Requests':'1',\n",
    "        'User-Agent':'Mozilla/5.0 (X11; Linux x86_64) AppleWebKit/537.36 (KHTML, like Gecko) Chrome/61.0.3163.100 Safari/537.36'\n",
    "}\n",
    "\n",
    "picsrc=[]\n",
    "foldname=[]\n",
    "\n",
    "\n",
    "def getpicsrc(trick):\n",
    "    \n",
    "    for i in range(1,4):\n",
    "        url=\"https://car.autohome.com.cn/pic/series/%s-1-p%d.html\"%(trick,i)\n",
    "        re=s.get(url,headers=headers)\n",
    "        soup=bs(re.text,\"lxml\")\n",
    "        for img in soup.select(\"div.uibox ul li a img\"):\n",
    "            #print(img[\"alt\"])\n",
    "            foldname.append(img[\"alt\"].strip(\" \"))\n",
    "            picsrc.append(\"https:\"+img[\"src\"])\n",
    "    return picsrc,foldname\n",
    "\n",
    "def Downloadmain(path,foldnm,picurl):\n",
    "   \n",
    "    for i in foldnm:\n",
    "        try:\n",
    "            os.makedirs(path+\"/\"+i)\n",
    "            #os.chdir(path+\"/\"+i)\n",
    "            for j in picurl:\n",
    "                download(j,path+\"/\"+i)\n",
    "        except:\n",
    "            pass\n",
    "        \n",
    "def download(picurl,foldname):\n",
    "    for ii in picurl: \n",
    "        time.sleep(random.uniform(1,4))\n",
    "        ht=s.get(picurl)\n",
    "        if ht.status_code == 200: \n",
    "            file = BytesIO(ht.content)\n",
    "            img = Image.open(file)\n",
    "            #print('current foldname',foldname)\n",
    "            img.save(foldname+\"/{}\".format(random.randint(1,4000))+\".png\")\n",
    "        else:\n",
    "            print(\"IP 图片返回有问题，可能被禁网了\")\n",
    "    \n",
    "    \n",
    "    \n",
    "    \n",
    "    \n",
    "    \n",
    "if __name__ == \"__main__\":\n",
    "    \n",
    "    urlpage = \"\"\n",
    "    \n",
    "    path = 'D:/datasets/Carimages/'\n",
    "    \n",
    "    trick=input(\"请随意输入一个百位，经验证，小于768有效，的数字来切换爬虫图片：\")\n",
    "    pics,foldname=getpicsrc(trick)\n",
    "    Downloadmain(path,foldname,pics)\n",
    "    \n",
    " \n",
    "    "
   ]
  },
  {
   "cell_type": "code",
   "execution_count": null,
   "metadata": {},
   "outputs": [],
   "source": [
    "import random\n",
    "print(random.uniform(1,4))"
   ]
  },
  {
   "cell_type": "code",
   "execution_count": null,
   "metadata": {
    "collapsed": true
   },
   "outputs": [],
   "source": []
  },
  {
   "cell_type": "code",
   "execution_count": null,
   "metadata": {
    "collapsed": true
   },
   "outputs": [],
   "source": []
  }
 ],
 "metadata": {
  "anaconda-cloud": {},
  "kernelspec": {
   "display_name": "Python 3",
   "language": "python",
   "name": "python3"
  },
  "language_info": {
   "codemirror_mode": {
    "name": "ipython",
    "version": 3
   },
   "file_extension": ".py",
   "mimetype": "text/x-python",
   "name": "python",
   "nbconvert_exporter": "python",
   "pygments_lexer": "ipython3",
   "version": "3.8.5"
  }
 },
 "nbformat": 4,
 "nbformat_minor": 1
}
