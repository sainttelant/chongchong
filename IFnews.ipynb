{
 "cells": [
  {
   "cell_type": "code",
   "execution_count": 50,
   "metadata": {
    "collapsed": false
   },
   "outputs": [
    {
     "name": "stdout",
     "output_type": "stream",
     "text": [
      "江苏137个湖泊个个都要有“湖长” \t改革试点稳步推进 江苏纪委派驻纪检组增“监察”二字\t南京市长畅谈“民生经” 现场吆喝揽才\t南京379所小学全覆盖 弹性离校破解“三点半难题”\t“大城市病”日益凸显 “绿色城市群”如何建？\t不按排行办大学 在江苏创建世界上“第一个南大”\t最高可贷120万！ 南京公积金支持人才安居系统上线\t南京落户新政释放外地刚需 二手房火爆，签约成交上涨\t节后多地房贷利率大涨 扬州首套房普遍上浮15%\t600公里高速公路年内提速 车行苏中苏北将更快捷\t600米，江北要夺回“南京第一高”？ 规划暂未变\t养老、医疗⋯ 徐州释放更多民生红利 为百姓幸福加码\t无锡“老城厢”今年棚改150万平 涉及居民一万多户\t今年女神节怎么过？ 带你领略江苏各地别样的花样年华\t南京红山动物园考拉每天听相声 3月中旬与游客见面\t热传的“刑侦科目推理试题”非真题 出自一中学生\t一刀一刻 虚明见纤毫 石壶亦飞扬（组图）\t时速299飙车手无证驾驶被刑拘 5万购宝马走私摩托\t20多个汉子扮“高富帅”谎言诱惑 80余人被骗600多万\t80万房产只卖了5万？ 蹊跷合同背后的“花样经”\t频频在美团下单索赔 多名“去哪儿”员工被刑拘\t扬州一执行法官专啃“骨头案” 十年执结3500件\t与狼共舞，厉害了我的姑娘！把群狼当二哈养\t女子揪出丈夫26万“天价小三” 结局令人意外\t大学生制作四年花费“账单” 最高金额达22万元\t向堂叔借款2万元后销声匿迹 孙子成老赖爷爷背锅还债\n"
     ]
    }
   ],
   "source": [
    "import requests\n",
    "from bs4 import BeautifulSoup as bs\n",
    "\n",
    "def Ifeng():\n",
    "    s=requests.Session()\n",
    "    headers={'Host':'www.ifeng.com',\n",
    "    'Upgrade-Insecure-Requests':'1',\n",
    "    'User-Agent':'Mozilla/5.0 (X11; Linux x86_64) AppleWebKit/537.36 (KHTML, like Gecko) Chrome/61.0.3163.100 Safari/537.36'}\n",
    "    b=[]\n",
    "    url='http://www.ifeng.com/'\n",
    "    re=s.get(url,headers=headers)\n",
    "    re.encoding='gzip'\n",
    "    for title in bs(re.text,'lxml').select('div#headLineJiangsu ul.FNewMTopLis a'):\n",
    "        for k in title:\n",
    "            b.append(k)\n",
    "    fanhui=\"\\t\".join(b) # 这个含义是将ｌｉｓｔ转化为ｓｔｒ，并且以空格隔开，哈哈\n",
    "    return fanhui\n",
    "\n",
    "\n",
    "   \n",
    "\n"
   ]
  },
  {
   "cell_type": "code",
   "execution_count": null,
   "metadata": {
    "collapsed": true
   },
   "outputs": [],
   "source": []
  }
 ],
 "metadata": {
  "anaconda-cloud": {},
  "kernelspec": {
   "display_name": "Python [Root]",
   "language": "python",
   "name": "Python [Root]"
  },
  "language_info": {
   "codemirror_mode": {
    "name": "ipython",
    "version": 3
   },
   "file_extension": ".py",
   "mimetype": "text/x-python",
   "name": "python",
   "nbconvert_exporter": "python",
   "pygments_lexer": "ipython3",
   "version": "3.5.2"
  }
 },
 "nbformat": 4,
 "nbformat_minor": 0
}
