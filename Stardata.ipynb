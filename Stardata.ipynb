{
 "cells": [
  {
   "cell_type": "code",
   "execution_count": 1,
   "metadata": {
    "collapsed": false
   },
   "outputs": [],
   "source": [
    "import requests\n",
    "from bs4 import BeautifulSoup as bs\n",
    "\n",
    "url='https://www.xzw.com/fortune/cancer/'  \n",
    "headers={'upgrade-insecure-requests':'1',\n",
    "'user-agent':'Mozilla/5.0 (X11; Linux x86_64) AppleWebKit/537.36 (KHTML, like Gecko) Chrome/61.0.3163.100 Safari/537.36'}\n",
    "s=requests.Session()\n",
    "odata=[]\n",
    "\n",
    "def crawlxz():\n",
    "    for i in range(0,5):\n",
    "        url='https://www.xzw.com/fortune/cancer/'+str(i)\n",
    "        res=s.get(url,headers=headers)\n",
    "        res.encoding='gzip'\n",
    "        soup=bs(res.text,'lxml')\n",
    "        quanbu=soup.select('div.c_main p span ')\n",
    "        zh=quanbu[0].get_text()\n",
    "        aq=quanbu[1].get_text()\n",
    "        sy=quanbu[2].get_text()\n",
    "        cf=quanbu[3].get_text()\n",
    "        jk=quanbu[4].get_text()\n",
    "        odata1=[zh,aq,sy,cf,jk]  #把一页的设置好到一个ｌｉｓｔ里面\n",
    "        odata.append(odata1)#创建ｏｄａｔａ，把所有的ｌｉｓｔ集成到一个大ｌｉｓｔ里面，并返回\n",
    "        \n",
    "    return odata[0],odata[1],odata[2],odata[3],odata[4]\n",
    "\n",
    "todaydata,tomdata,thisweek,thismonth,thisyear=crawlxz()\n",
    "\n"
   ]
  },
  {
   "cell_type": "code",
   "execution_count": 6,
   "metadata": {
    "collapsed": false
   },
   "outputs": [
    {
     "data": {
      "text/plain": [
       "'财运一般，会在健康方面有一两笔的消费。'"
      ]
     },
     "execution_count": 6,
     "metadata": {},
     "output_type": "execute_result"
    }
   ],
   "source": [
    "todaydata[3]\n"
   ]
  },
  {
   "cell_type": "code",
   "execution_count": null,
   "metadata": {
    "collapsed": true
   },
   "outputs": [],
   "source": []
  }
 ],
 "metadata": {
  "anaconda-cloud": {},
  "kernelspec": {
   "display_name": "Python [Root]",
   "language": "python",
   "name": "Python [Root]"
  },
  "language_info": {
   "codemirror_mode": {
    "name": "ipython",
    "version": 3
   },
   "file_extension": ".py",
   "mimetype": "text/x-python",
   "name": "python",
   "nbconvert_exporter": "python",
   "pygments_lexer": "ipython3",
   "version": "3.5.2"
  }
 },
 "nbformat": 4,
 "nbformat_minor": 0
}
