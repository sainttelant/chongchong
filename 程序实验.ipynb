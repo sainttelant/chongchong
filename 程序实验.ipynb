{
 "cells": [
  {
   "cell_type": "code",
   "execution_count": 5,
   "metadata": {},
   "outputs": [],
   "source": [
    "import requests\n",
    "from bs4 import BeautifulSoup as bs\n"
   ]
  },
  {
   "cell_type": "code",
   "execution_count": 6,
   "metadata": {},
   "outputs": [
    {
     "ename": "IndexError",
     "evalue": "list index out of range",
     "output_type": "error",
     "traceback": [
      "\u001b[1;31m------------------------------------------------------------\u001b[0m",
      "\u001b[1;31mIndexError\u001b[0m                 Traceback (most recent call last)",
      "\u001b[1;32m<ipython-input-6-4741e7a139eb>\u001b[0m in \u001b[0;36m<module>\u001b[1;34m()\u001b[0m\n\u001b[0;32m      3\u001b[0m \u001b[0msoup\u001b[0m\u001b[1;33m=\u001b[0m\u001b[0mbs\u001b[0m\u001b[1;33m(\u001b[0m\u001b[0mre\u001b[0m\u001b[1;33m.\u001b[0m\u001b[0mtext\u001b[0m\u001b[1;33m,\u001b[0m\u001b[1;34m'lxml'\u001b[0m\u001b[1;33m)\u001b[0m\u001b[1;33m\u001b[0m\u001b[0m\n\u001b[0;32m      4\u001b[0m \u001b[0mph\u001b[0m\u001b[1;33m=\u001b[0m\u001b[0msoup\u001b[0m\u001b[1;33m.\u001b[0m\u001b[0mselect\u001b[0m\u001b[1;33m(\u001b[0m\u001b[1;34m'#t_phone'\u001b[0m\u001b[1;33m)\u001b[0m\u001b[1;33m\u001b[0m\u001b[0m\n\u001b[1;32m----> 5\u001b[1;33m \u001b[0mnum\u001b[0m\u001b[1;33m=\u001b[0m\u001b[0mph\u001b[0m\u001b[1;33m[\u001b[0m\u001b[1;36m0\u001b[0m\u001b[1;33m]\u001b[0m\u001b[1;33m.\u001b[0m\u001b[0mcontents\u001b[0m\u001b[1;33m[\u001b[0m\u001b[1;36m0\u001b[0m\u001b[1;33m]\u001b[0m    \u001b[1;31m#单个ｌｉｓｔ，可以用ph【０】，而循环不行，记住了\u001b[0m\u001b[1;33m\u001b[0m\u001b[0m\n\u001b[0m\u001b[0;32m      6\u001b[0m \u001b[0mprint\u001b[0m\u001b[1;33m(\u001b[0m\u001b[0mnum\u001b[0m\u001b[1;33m)\u001b[0m\u001b[1;33m\u001b[0m\u001b[0m\n",
      "\u001b[1;31mIndexError\u001b[0m: list index out of range"
     ]
    }
   ],
   "source": [
    "url='http://sh.58.com/qiuzu/30745656926008x.shtml?addtype=topinfo&iuType=z_2&PGTID=0d30000b-0000-2615-5e05-78002b71a7f7&ClickID=4&adtype=3'\n",
    "re=requests.get(url)\n",
    "soup=bs(re.text,'lxml')\n",
    "ph=soup.select('#t_phone')\n",
    "num=ph[0].contents[0]    #单个ｌｉｓｔ，可以用ph【０】，而循环不行，记住了\n",
    "print(num)\n"
   ]
  },
  {
   "cell_type": "code",
   "execution_count": null,
   "metadata": {},
   "outputs": [],
   "source": [
    "a=10\n",
    "b=2\n",
    "try:\n",
    "    c=a/b\n",
    "    print(c)\n",
    "except:\n",
    "    print('除数不能为０')\n",
    "print(\"done\")"
   ]
  },
  {
   "cell_type": "code",
   "execution_count": null,
   "metadata": {},
   "outputs": [],
   "source": [
    "a=['1','2','3']\n",
    "b=['nima','woma','tamad']\n",
    "dict(zip(a,b))　　　#监制不能重复，唯一性"
   ]
  },
  {
   "cell_type": "code",
   "execution_count": null,
   "metadata": {},
   "outputs": [],
   "source": [
    "from numpy import *\n",
    "\n",
    "c=array([2,4,8])\n",
    "b=c/2\n",
    "k=mat([[0,236,508,131,507,44],[480,236,508,131,507,44],[960,236,316,131,315,44],[0,236,644,141,511,38],[608,236,572,141,453,38]])\n",
    "k/1.25"
   ]
  },
  {
   "cell_type": "code",
   "execution_count": null,
   "metadata": {},
   "outputs": [],
   "source": [
    "k1=mat([[1144,236,132,141,104,38],[0,230,812,159,509,34],[768,230,508,159,319,34],[0,226,1020,184,509,31]])\n",
    "k1/1.25"
   ]
  },
  {
   "cell_type": "code",
   "execution_count": null,
   "metadata": {},
   "outputs": [],
   "source": [
    "k2=mat([[968,226,308,184,153,31],[0,216,1020,212,404,29],[960,216,316,212,125,29],[0,204,1020,252,320,27]])\n",
    "k2/1.25"
   ]
  },
  {
   "cell_type": "code",
   "execution_count": null,
   "metadata": {},
   "outputs": [],
   "source": [
    "k3=mat([[944,204,332,252,104,27],[0,186,1020,308,255,26],[920,186,356,308,89,26],[0,166,1020,368,203,25]])\n",
    "k3/1.25"
   ]
  },
  {
   "cell_type": "code",
   "execution_count": null,
   "metadata": {},
   "outputs": [],
   "source": [
    "k4=mat([[896,166,380,368,76,25],[0,136,1020,458,161,25],[864,136,412,458,65,25],[0,100,1020,568,128,24]])\n",
    "k4/1.25"
   ]
  },
  {
   "cell_type": "code",
   "execution_count": null,
   "metadata": {},
   "outputs": [],
   "source": [
    "k5=mat([[824,100,452,568,57,24],[0,52,1020,666,102,22],[776,52,500,666,50,22]])\n",
    "k5/1.25"
   ]
  },
  {
   "cell_type": "code",
   "execution_count": null,
   "metadata": {},
   "outputs": [],
   "source": [
    "rsr1=mat([[600,4,644,452,203,71],[40,4,644,452,203,71],[608,4,636,452,252,89],[40,4,636,452,252,89]])\n",
    "rsr1/1.25\n"
   ]
  },
  {
   "cell_type": "code",
   "execution_count": null,
   "metadata": {},
   "outputs": [],
   "source": [
    "rsr2=mat([[616,60,628,398,313,98],[40,60,628,398,313,98],[624,124,620,334,390,106],[40,124,628,334,395,106]])\n",
    "rsr2/1.25"
   ]
  },
  {
   "cell_type": "code",
   "execution_count": 4,
   "metadata": {},
   "outputs": [
    {
     "name": "stdout",
     "output_type": "stream",
     "text": [
      "125809921947822000\n",
      "125809921947822000?isStd=\n"
     ]
    }
   ],
   "source": [
    "str='https://www.guahao.com/department/125809921947822000?isStd='\n",
    "print(str.split('department/')[1].split('?')[0])\n",
    "print(str.replace('department/','').replace(\"https://www.guahao.com/\",''))\n"
   ]
  },
  {
   "cell_type": "code",
   "execution_count": null,
   "metadata": {},
   "outputs": [],
   "source": [
    "a={1,2,3,4} #这个里面是set\n",
    "b='wori'\n",
    "a.add(b) #字典往里面加，和list append差不多\n",
    "a\n",
    "for i in a:\n",
    "    print(i)"
   ]
  },
  {
   "cell_type": "code",
   "execution_count": null,
   "metadata": {},
   "outputs": [],
   "source": [
    "for i in range(1,36):\n",
    "    print(i)"
   ]
  },
  {
   "cell_type": "code",
   "execution_count": 2,
   "metadata": {},
   "outputs": [
    {
     "name": "stdout",
     "output_type": "stream",
     "text": [
      "2019-02-1317:28\n"
     ]
    }
   ],
   "source": [
    "import datetime\n",
    "now=datetime.datetime.now().strftime('%Y-%m-%d')\n",
    "rubtime=now+'12:46'\n",
    "nownew=datetime.datetime.now().strftime('%Y-%m-%d%H:%M')\n",
    "print(nownew)\n",
    "#while True:\n",
    "    \n",
    "    \n",
    "    \n",
    "     "
   ]
  },
  {
   "cell_type": "code",
   "execution_count": null,
   "metadata": {
    "collapsed": true
   },
   "outputs": [],
   "source": [
    "import json\n",
    "b=json.loads(a)  #转化为ｊｓｏｎ格式\n",
    "for value in b.values():　　#遍历ｖａｌｕｅｓ\n",
    "    print(value)\n",
    "\n",
    "'username' in value　　#判断这个ｖａｌｕｅ在不在里面，ｂｏｏｌ值"
   ]
  },
  {
   "cell_type": "code",
   "execution_count": null,
   "metadata": {
    "collapsed": true
   },
   "outputs": [],
   "source": [
    "zip(*loc[::-1]) #这个函数的意思，×：代表可变参数，意思调用这个zip函数的时候，传入任意个数目参数\n",
    "#可以是多个，也可以是0个"
   ]
  },
  {
   "cell_type": "code",
   "execution_count": 3,
   "metadata": {},
   "outputs": [
    {
     "name": "stdout",
     "output_type": "stream",
     "text": [
      "[[1, 2], [3, 4], [5, 6], [7, 8], [9, 0]]\n",
      "{1: 'a', 2: 'b'}\n"
     ]
    }
   ],
   "source": [
    "# python eval 函数,去掉“”符号\n",
    "\"\"\"\n",
    "function: transfer str into any of tuple,dict,and list type of datas\n",
    "see eg\n",
    "etcs\n",
    "\"\"\"\n",
    "a = \"[[1,2], [3,4], [5,6], [7,8], [9,0]]\"\n",
    "b=eval(a)\n",
    "print(b)\n",
    "c=\"{1: 'a', 2: 'b'}\"\n",
    "d=eval(c)\n",
    "print(d)"
   ]
  },
  {
   "cell_type": "code",
   "execution_count": 1,
   "metadata": {},
   "outputs": [
    {
     "name": "stdout",
     "output_type": "stream",
     "text": [
      "[ 0  9 10 12 13  3  6  1  7 11  8  4  2  5]\n",
      "[5 2 4]\n",
      "[[0. 0. 0. 0. 0.]\n",
      " [0. 0. 0. 0. 0.]]\n"
     ]
    }
   ],
   "source": [
    "import numpy as np\n",
    "a=[1,43,4325,23,3535,23535,23,45,654,6,6,575,8,8]\n",
    "index=np.argsort(a) #代表从小到大排序\n",
    "print(index)\n",
    "\n",
    "index=index[-1:-4:-1]  #代表倒着取3个数，每次间隔为1\n",
    "print(index)\n",
    "matrixtest=np.zeros((2,5))  #生成2行5列的0\n",
    "print(matrixtest)"
   ]
  },
  {
   "cell_type": "code",
   "execution_count": 1,
   "metadata": {},
   "outputs": [
    {
     "name": "stdout",
     "output_type": "stream",
     "text": [
      "{'wocoa': 2, 'erbi': 4, 'ni': 3}\n"
     ]
    }
   ],
   "source": [
    "#创建字典,由list到dict\n",
    "\n",
    "b=['wocoa','ni','erbi']\n",
    "c=[2,3,4]\n",
    "d=dict(zip(b,c))\n",
    "print(d)"
   ]
  },
  {
   "cell_type": "code",
   "execution_count": 15,
   "metadata": {},
   "outputs": [
    {
     "name": "stdout",
     "output_type": "stream",
     "text": [
      "[[[ 0 15]\n",
      "  [ 5 20]\n",
      "  [10 25]]\n",
      "\n",
      " [[ 1 16]\n",
      "  [ 6 21]\n",
      "  [11 26]]\n",
      "\n",
      " [[ 2 17]\n",
      "  [ 7 22]\n",
      "  [12 27]]\n",
      "\n",
      " [[ 3 18]\n",
      "  [ 8 23]\n",
      "  [13 28]]\n",
      "\n",
      " [[ 4 19]\n",
      "  [ 9 24]\n",
      "  [14 29]]]\n"
     ]
    }
   ],
   "source": [
    "import numpy as np\n",
    "\n",
    "a = np.array(range(30)).reshape(2, 3, 5) #生成一个三维数组\n",
    "#print(a)\n",
    "\n",
    "#比如要索引13，也就是第一个元素，第3行，第4个元素，就要如下所写\n",
    "a[0][2][3]\n",
    "print(a.transpose()) #这个和print(a.transpose(2,1,0))相同"
   ]
  },
  {
   "cell_type": "code",
   "execution_count": 3,
   "metadata": {},
   "outputs": [
    {
     "name": "stdout",
     "output_type": "stream",
     "text": [
      " Mo1 c 0 z\n"
     ]
    }
   ],
   "source": [
    "#正则表达式的例子\n",
    "import re\n",
    "a='< path d=\" Mo1 c 0 z\"/>'   \n",
    "b=re.findall('< path d=\"'+'(.*?)''\\\"',a)[0]\n",
    "print(b)"
   ]
  },
  {
   "cell_type": "code",
   "execution_count": 3,
   "metadata": {},
   "outputs": [
    {
     "name": "stdout",
     "output_type": "stream",
     "text": [
      "[[5 9 3 0]\n",
      " [0 9 1 6]\n",
      " [5 7 1 5]\n",
      " [3 4 3 5]]\n",
      "2.0\n",
      "[[ 1]\n",
      " [25]\n",
      " [16]\n",
      " [16]]\n"
     ]
    }
   ],
   "source": [
    "#下面是对角矩阵的建立和取列运算实例\n",
    "import numpy as np\n",
    "\n",
    "data=np.mat(np.random.randint(0,10,size=[4,4]))\n",
    "print(data)\n",
    "print(np.mean(data[:,-2])) #取倒数第二列\n",
    "\n",
    "#print(np.var(data[:,-1])*np.shape(data)[0])\n",
    "#print(np.shape(data)[1])\n",
    "#print(set(data[:,-1].T.tolist()[0]))  #set集合作用只保留不重复的特征值\n",
    "print(np.power(data[:,-1]-1,2))  #power为平方计算"
   ]
  },
  {
   "cell_type": "code",
   "execution_count": 6,
   "metadata": {},
   "outputs": [
    {
     "ename": "TypeError",
     "evalue": "'str' object is not callable",
     "output_type": "error",
     "traceback": [
      "\u001b[1;31m---------------------------------------------------------------------------\u001b[0m",
      "\u001b[1;31mTypeError\u001b[0m                                 Traceback (most recent call last)",
      "\u001b[1;32m<ipython-input-6-567c25bd865a>\u001b[0m in \u001b[0;36m<module>\u001b[1;34m\u001b[0m\n\u001b[0;32m      1\u001b[0m \u001b[0ma\u001b[0m \u001b[1;33m=\u001b[0m\u001b[1;34m\"string\"\u001b[0m\u001b[1;33m\u001b[0m\u001b[1;33m\u001b[0m\u001b[0m\n\u001b[1;32m----> 2\u001b[1;33m \u001b[0mprint\u001b[0m\u001b[1;33m(\u001b[0m\u001b[1;34m\"dd%s\"\u001b[0m\u001b[1;33m(\u001b[0m\u001b[0ma\u001b[0m\u001b[1;33m)\u001b[0m\u001b[1;33m)\u001b[0m\u001b[1;33m\u001b[0m\u001b[1;33m\u001b[0m\u001b[0m\n\u001b[0m",
      "\u001b[1;31mTypeError\u001b[0m: 'str' object is not callable"
     ]
    }
   ],
   "source": [
    "a =\"string\"\n",
    "print(\"dd%s\"(a))"
   ]
  },
  {
   "cell_type": "code",
   "execution_count": null,
   "metadata": {},
   "outputs": [],
   "source": []
  }
 ],
 "metadata": {
  "anaconda-cloud": {},
  "kernelspec": {
   "display_name": "Python 3",
   "language": "python",
   "name": "python3"
  },
  "language_info": {
   "codemirror_mode": {
    "name": "ipython",
    "version": 3
   },
   "file_extension": ".py",
   "mimetype": "text/x-python",
   "name": "python",
   "nbconvert_exporter": "python",
   "pygments_lexer": "ipython3",
   "version": "3.8.5"
  }
 },
 "nbformat": 4,
 "nbformat_minor": 1
}
