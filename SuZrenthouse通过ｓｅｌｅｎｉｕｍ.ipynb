{
 "cells": [
  {
   "cell_type": "code",
   "execution_count": 2,
   "metadata": {
    "collapsed": false,
    "scrolled": true
   },
   "outputs": [
    {
     "name": "stdout",
     "output_type": "stream",
     "text": [
      "['--proxy=110.73.51.77:8123', '--proxy-type=socks5']\n"
     ]
    }
   ],
   "source": [
    "import requests\n",
    "import time\n",
    "from bs4 import BeautifulSoup as bs\n",
    "from selenium import webdriver\n",
    "from PIL import Image\n",
    "import random\n",
    "\n",
    "k=0\n",
    "def crawlbegin():\n",
    "    \n",
    "    \n",
    "    headers= {'Accept':'text/html,application/xhtml+xml,application/xml;q=0.9,image/webp,image/apng,*/*;q=0.8',\n",
    "'Accept-Encoding':'gzip, deflate',\n",
    "'Accept-Language':'zh-CN,zh;q=0.8',\n",
    "'Cache-Control':'max-age=0',\n",
    "'Connection':'keep-alive',\n",
    "'Host':'www.xicidaili.com',\n",
    "'If-None-Match':'W/\"a5a7e3e6133a8551432d9ec655934c76\"',\n",
    "'Upgrade-Insecure-Requests':'1',\n",
    "'User-Agent':'Mozilla/5.0 (X11; Linux x86_64) AppleWebKit/537.36 (KHTML, like Gecko) Chrome/61.0.3163.100 Safari/537.36'}\n",
    "    proxy=[]\n",
    "    for i in range(1,2):\n",
    "        url='http://www.xicidaili.com/nn/'+str(i)\n",
    "        time.sleep(1)\n",
    "        re= requests.get(url,headers=headers)\n",
    "        soup= bs(re.text,'lxml')\n",
    "        #print(soup)\n",
    "        ips=soup.find_all('tr')\n",
    "        #print(ips)\n",
    "        for x in range(1,len(ips)):\n",
    "            ip = ips[x]  \n",
    "            tds = ip.findAll(\"td\")\n",
    "            preip=tds[1].contents[0]\n",
    "            ports=tds[2].contents[0]\n",
    "            ip_temp = preip+':'+ports\n",
    "            proxy.append(ip_temp)\n",
    "    proxy_list=[]\n",
    "    for k in proxy:\n",
    "        proxy_list.append(k)\n",
    "        proxyy=random.choice(proxy_list) #随机选择一个元素\n",
    "    service_args=['--proxy='+proxyy,'--proxy-type=socks5']\n",
    "    print(service_args)\n",
    "    return service_args\n",
    "\n",
    "def scrapy_Info(service_args):\n",
    "    driver = webdriver.PhantomJS(service_args=service_args)  #Chrome 这个单词要大写，日特地额\n",
    "    headers = {'Accept':'text/html,application/xhtml+xml,application/xml;q=0.9,image/webp,image/apng,*/*;q=0.8',\n",
    "           'Accept-Encoding':'gzip, deflate',\n",
    "           'Accept-Language':'zh-CN,zh;q=0.8',\n",
    "           'Cache-Control':'max-age=0',\n",
    "           'Connection':'keep-alive',\n",
    "           'Cookie':'f=n; userid360_xml=4643D3748907E59F28DD56DE9DDB412E; time_create=1513163531325; f=n; id58=c5/njVoJeKAv/BVyA86cAg==; als=0; commontopbar_myfeet_tooltip=end; bj58_id58s=\"Y3ZZNW9VZTdnU3RRNDA0NQ==\"; bj58_new_uv=1; wmda_uuid=1431aea18f8c72ff23779fcf3d9b3034; wmda_new_uuid=1; wmda_visited_projects=%3B2385390625025%3B1409632296065; gr_user_id=4e11b00f-8ff4-445b-be5c-903e9e5deea0; Hm_lvt_3bb04d7a4ca3846dcc66a99c3e861511=1510571816; Hm_lvt_e15962162366a86a6229038443847be7=1510571816; GA_GTID=0d3087f4-0000-5ff5-db78-ab10208e2415; _ga=GA1.2.2031536471.1510571584; bdshare_firstime=1510571857850; 58home=su; commontopbar_ipcity=su%7C%E8%8B%8F%E5%B7%9E%7C0; f=n; __utma=253535702.2031536471.1510571584.1510882907.1511246933.12; __utmc=253535702; __utmz=253535702.1511246933.12.11.utmcsr=callback.58.com|utmccn=(referral)|utmcmd=referral|utmcct=/firewall/valid/1884791935.do; ppStore_fingerprint=D9636E4AD62BF1A792094131DF7A7C0BF35A06EEBE08A2C9%EF%BC%BF1511247221443; city=su; 58tj_uuid=c96787cd-7809-4f3a-b87e-31482bd969da; new_uv=12; commontopbar_new_city_info=5%7C%E8%8B%8F%E5%B7%9E%7Csu; xxzl_deviceid=JDloOzsLjW0qxuzbskyRd8eZGy40nwfGh7yu9LnnwLqHmzWgwoD%2FKqOr3Af1JNCY',\n",
    "           'Host':'su.58.com',\n",
    "           'Upgrade-Insecure-Requests':'1',\n",
    "           'User-Agent':'Mozilla/5.0 (X11; Linux x86_64) AppleWebKit/537.36 (KHTML, like Gecko) Chrome/61.0.3163.100 Safari/537.36'\n",
    "           }\n",
    "\n",
    "\n",
    "    url='http://su.58.com/qiuzu/pn1/'\n",
    "    title1=[]\n",
    "    name1=[]\n",
    "    phone1=[]\n",
    "    for page in range(1,4):\n",
    "        pageurl='http://su.58.com/qiuzu/pn'+str(page)+'/'\n",
    "        time.sleep(1)\n",
    "        res=requests.get(pageurl,headers=headers)\n",
    "        soup=bs(res.text,'lxml')\n",
    "        \n",
    "        #driver.get(pageurl)\n",
    "        #print(soup)\n",
    "        for b in soup.select('a.t'):\n",
    "            global k\n",
    "            k+=1\n",
    "            #print(b)\n",
    "            urlall = b['href']\n",
    "            #print(urlall)\n",
    "            time.sleep(2)\n",
    "            #html=requests.get(urlall,headers=headers)\n",
    "            #html_soup=bs(html.text,'lxml')\n",
    "            driver.get(urlall)\n",
    "            driver.save_screenshot('phoneNum/test'+str(k)+'.png')\n",
    "            try:\n",
    "                left = 657\n",
    "                right = 790\n",
    "                top = 505\n",
    "                bottom = 533\n",
    "                img = Image.open('phoneNum/test'+str(k)+'.png')\n",
    "                img = img.crop((left, top, right, bottom))\n",
    "                img.save('phoneNum/phone'+str(k)+'.png')\n",
    "            except:\n",
    "                \n",
    "                for title in html_soup.select('h1'):\n",
    "                    title1.append(title.get_text().strip())\n",
    "                    print(title1)\n",
    "                for name in html_soup.select('.tx'):\n",
    "                    name1.append(name.get_text().strip())\n",
    "                    #print(name1)\n",
    "               \n",
    "if __name__ == '__main__':\n",
    "\n",
    "    service_args=crawlbegin()\n",
    "   \n",
    "   \n",
    "\n",
    "    \n",
    "            \n",
    "                \n",
    "                \n",
    "            \n",
    "    "
   ]
  },
  {
   "cell_type": "code",
   "execution_count": null,
   "metadata": {
    "collapsed": false
   },
   "outputs": [],
   "source": [
    "\n",
    "\n"
   ]
  },
  {
   "cell_type": "code",
   "execution_count": null,
   "metadata": {
    "collapsed": true
   },
   "outputs": [],
   "source": []
  },
  {
   "cell_type": "code",
   "execution_count": null,
   "metadata": {
    "collapsed": true
   },
   "outputs": [],
   "source": []
  }
 ],
 "metadata": {
  "anaconda-cloud": {},
  "kernelspec": {
   "display_name": "Python [Root]",
   "language": "python",
   "name": "Python [Root]"
  },
  "language_info": {
   "codemirror_mode": {
    "name": "ipython",
    "version": 3
   },
   "file_extension": ".py",
   "mimetype": "text/x-python",
   "name": "python",
   "nbconvert_exporter": "python",
   "pygments_lexer": "ipython3",
   "version": "3.5.2"
  }
 },
 "nbformat": 4,
 "nbformat_minor": 0
}
