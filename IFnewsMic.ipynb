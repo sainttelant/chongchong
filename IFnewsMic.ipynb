{
 "cells": [
  {
   "cell_type": "code",
   "execution_count": null,
   "metadata": {
    "collapsed": true
   },
   "outputs": [],
   "source": [
    "import sys\n",
    "import requests\n",
    "from bs4 import BeautifulSoup as bs\n",
    "import logging\n",
    "import json\n",
    "\n",
    "reload(sys)\n",
    "sys.setdefaultencoding('utf8')\n",
    "# Standard module stuff \n",
    "WORDS = ['FENGHUANG','FENGHUANGXINWEN','JIANGSUXINWEN','TINGXINWEN','XINGWEN']\n",
    "SLUG = \"IFNEWS\"\n",
    "\n",
    "def handle(text, mic, profile, wxbot=None):\n",
    "    \"\"\"\n",
    "    Responds to user-input, typically speech text\n",
    "    Arguments:\n",
    "        text -- user-input, typically transcribed speech\n",
    "        mic -- used to interact with the user (for both input and output)\n",
    "        profile -- contains information related to the user (e.g., phone\n",
    "        number)\n",
    "        wxbot -- wechat bot instance\n",
    "    \"\"\"\n",
    "    logger = logging.getLogger(__name__)\n",
    "    \n",
    "    if SLUG not in profile:\n",
    "        mic.say('亲爱的，你还没有给我配好新闻的插件，请重新配置，你懂的')\n",
    "        return\n",
    "    try:\n",
    "        fh=Ifeng()\n",
    "        logger.debug('News report:',fh)\n",
    "        mic.say('亲，下面播报江苏新闻'+fh)\n",
    "    except Exception,e:\n",
    "        logger.error(e)\n",
    "        mic.say('亲，还是没连上啊，再试试看呢，什么鬼')\n",
    "\n",
    "def isValid(text):\n",
    "    \"\"\"\n",
    "        Returns True if the input is related to weather.\n",
    "        Arguments:\n",
    "        text -- user-input, typically transcribed speech\n",
    "    \"\"\"\n",
    "    return any(word in text for word in [u\"新闻\",u\"凤凰新闻\",u\"江苏新闻\",u\"听新闻\"])\n",
    "\n",
    "def Ifeng():\n",
    "    s=requests.Session()\n",
    "    headers={'Host':'www.ifeng.com',\n",
    "    'Upgrade-Insecure-Requests':'1',\n",
    "    'User-Agent':'Mozilla/5.0 (X11; Linux x86_64) AppleWebKit/537.36 (KHTML, like Gecko) Chrome/61.0.3163.100 Safari/537.36'}\n",
    "    b=[]\n",
    "    url='http://www.ifeng.com/'\n",
    "    re=s.get(url,headers=headers)\n",
    "    re.encoding='gzip'\n",
    "    for title in bs(re.text,'lxml').select('div#headLineJiangsu ul.FNewMTopLis a'):\n",
    "        for k in title:\n",
    "            b.append(k)\n",
    "    fanhui=\"\\t\".join(b) # 这个含义是将ｌｉｓｔ转化为ｓｔｒ，并且以空格隔开，哈哈\n",
    "    return fanhui"
   ]
  }
 ],
 "metadata": {
  "kernelspec": {
   "display_name": "Python [Root]",
   "language": "python",
   "name": "Python [Root]"
  },
  "language_info": {
   "codemirror_mode": {
    "name": "ipython",
    "version": 3
   },
   "file_extension": ".py",
   "mimetype": "text/x-python",
   "name": "python",
   "nbconvert_exporter": "python",
   "pygments_lexer": "ipython3",
   "version": "3.5.2"
  }
 },
 "nbformat": 4,
 "nbformat_minor": 0
}
