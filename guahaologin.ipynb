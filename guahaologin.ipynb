{
 "cells": [
  {
   "cell_type": "code",
   "execution_count": 4,
   "metadata": {},
   "outputs": [
    {
     "name": "stdout",
     "output_type": "stream",
     "text": [
      "请输入验证码:mf2a\n",
      "应该是登录了\n",
      "登录成功\n"
     ]
    }
   ],
   "source": [
    "import requests\n",
    "import time\n",
    "import json\n",
    "from urllib import parse\n",
    "from io import BytesIO\n",
    "from PIL import Image\n",
    "from bs4 import BeautifulSoup as bs\n",
    "\n",
    "url='https://www.guahao.com/user/login'\n",
    "headers={\n",
    "         'accept-encoding':'gzip, deflate, br',\n",
    "         'cache-control':'max-age=0',\n",
    "         'upgrade-insecure-requests':'1',\n",
    "         'user-agent':'Mozilla/5.0 (X11; Linux x86_64) AppleWebKit/537.36 (KHTML, like Gecko) Chrome/61.0.3163.100 Safari/537.36'}\n",
    "#session = requests.session()\n",
    "#session.verify = False\n",
    "\n",
    "def crawlvericode():\n",
    "    res=requests.get(url,headers=headers)\n",
    "   \n",
    "    urlcode='https://www.guahao.com/validcode/genimage/1'\n",
    "    try:\n",
    "        res1=requests.get(urlcode)\n",
    "        file=BytesIO(res1.content)\n",
    "        img=Image.open(file)\n",
    "        img.show()\n",
    "        return True\n",
    "    except:\n",
    "        return False\n",
    "\n",
    "\n",
    "def interface():\n",
    "\n",
    "    validcode=input(\"请输入验证码:\")\n",
    "    data={'method':'dologin',\n",
    "            'target':'/',\n",
    "            'loginId':'139729766',\n",
    "            'password':'67d1e9d88aa652bb8aa9ed69b8',\n",
    "            'validCode':validcode}\n",
    "    \n",
    "    urldo='https://www.guahao.com/user/login'\n",
    "    res2=requests.post(urldo,data=data)\n",
    "    if res2.status_code==200:\n",
    "        print('应该是登录了')\n",
    "\n",
    "    \n",
    "if crawlvericode()==True:\n",
    "    interface()\n",
    "\n",
    "elif crawlvericode==False:\n",
    "    print('获取验证码的时候有问题')\n",
    "    \n",
    "  "
   ]
  },
  {
   "cell_type": "code",
   "execution_count": null,
   "metadata": {
    "collapsed": true
   },
   "outputs": [],
   "source": []
  }
 ],
 "metadata": {
  "anaconda-cloud": {},
  "kernelspec": {
   "display_name": "Python 3",
   "language": "python",
   "name": "python3"
  },
  "language_info": {
   "codemirror_mode": {
    "name": "ipython",
    "version": 3
   },
   "file_extension": ".py",
   "mimetype": "text/x-python",
   "name": "python",
   "nbconvert_exporter": "python",
   "pygments_lexer": "ipython3",
   "version": "3.8.8"
  }
 },
 "nbformat": 4,
 "nbformat_minor": 1
}
