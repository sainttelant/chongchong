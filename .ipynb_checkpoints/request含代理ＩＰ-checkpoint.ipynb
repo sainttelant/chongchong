{
 "cells": [
  {
   "cell_type": "code",
   "execution_count": null,
   "metadata": {
    "collapsed": false
   },
   "outputs": [],
   "source": [
    "import requests\n",
    "from bs4 import BeautifulSoup as bs\n",
    "import time\n",
    "import pandas as pd\n",
    "import random\n",
    "import socket\n",
    "\n",
    "headers={'Language':'zh-CN,zh;q=0.8',\n",
    "'Cache-Control':'max-age=0',\n",
    "'Connection':'keep-alive',\n",
    "'Upgrade-Insecure-Requests':'1',\n",
    "'User-Agent':'Mozilla/5.0 (X11; Linux x86_64) AppleWebKit/537.36 (KHTML, like Gecko) Chrome/61.0.3163.100 Safari/537.36'}\n",
    "url=input('请输入需要爬虫的５８地址:')\n",
    "k=0\n",
    "key=[]\n",
    "value=[]\n",
    "title1=[]\n",
    "name1=[]\n",
    "nn=[]\n",
    "phone1=[]\n",
    "columns=['姓名','手机','标题']\n",
    "def crawlInfo(proxies):\n",
    "    for page in range(0,5):\n",
    "        urlpage= url+'pn'+str(page)\n",
    "        re= requests.get(urlpage,headers=headers,proxies=proxies,timeout=15)\n",
    "        #print(re)\n",
    "        soup=bs(re.text,'lxml')\n",
    "        time.sleep(1)\n",
    "        for b in soup.select('tr a.t'):\n",
    "            urlall=b['href']\n",
    "            reall=requests.get(urlall)\n",
    "            time.sleep(1)\n",
    "            soupp=bs(reall.text,'lxml')\n",
    "            for ph in soupp.select('#t_phone'): \n",
    "                try:\n",
    "                    a=int(ph.contents[0])\n",
    "                    phone1.append(a)\n",
    "                    for title in soupp.select('h1'):\n",
    "                        title1.append(title.get_text().strip())\n",
    "                    for name in soupp.select('.tx'):\n",
    "                        name1.append(name.get_text().strip())\n",
    "                except:\n",
    "                    continue\n",
    "    return name1[1::2],phone1,title1     #返回的类型是tuple的，注意,[1::2]:代表取偶数位，【：：２】：代表取奇数位\n",
    "    \n",
    "def crawlIP():\n",
    "    \n",
    "    headers= {'Accept':'text/html,application/xhtml+xml,application/xml;q=0.9,image/webp,image/apng,*/*;q=0.8',\n",
    "'Accept-Encoding':'gzip, deflate',\n",
    "'Accept-Language':'zh-CN,zh;q=0.8',\n",
    "'Cache-Control':'max-age=0',\n",
    "'Connection':'keep-alive',\n",
    "'Host':'www.xicidaili.com',\n",
    "'If-None-Match':'W/\"a5a7e3e6133a8551432d9ec655934c76\"',\n",
    "'Upgrade-Insecure-Requests':'1',\n",
    "'User-Agent':'Mozilla/5.0 (X11; Linux x86_64) AppleWebKit/537.36 (KHTML, like Gecko) Chrome/61.0.3163.100 Safari/537.36'}\n",
    "    proxy=[]\n",
    "    urll='http://ip.chinaz.com/getip.aspx'#以供可以测试的ｉｐ地址\n",
    "    socket.setdefaulttimeout(3)\n",
    "    for i in range(1,2):\n",
    "        url='http://www.xicidaili.com/nn/'+str(i)\n",
    "        time.sleep(1)\n",
    "        re= requests.get(url,headers=headers)\n",
    "        soup= bs(re.text,'lxml')\n",
    "        #print(soup)\n",
    "        ips=soup.find_all('tr')\n",
    "        \n",
    "        for x in range(1,len(ips)):\n",
    "            ip = ips[x]  \n",
    "            tds = ip.findAll(\"td\")\n",
    "            preip=tds[1].contents[0]\n",
    "            ports=tds[2].contents[0]\n",
    "            #下面ｔｒｙ一下可以删选可以使用的ｉｐ代理\n",
    "            try:\n",
    "                proxy_host='http://'+preip+':'+ports\n",
    "                proxy_temp={'http':proxy_host}\n",
    "                #这一步其实容易被封杀，被ｉｐ.china封杀\n",
    "                resq=requests.get(urll,proxies=proxy_temp,timeout=2)\n",
    "            \n",
    "            except:\n",
    "                print('connection failed\\t'+preip)\n",
    "            else:\n",
    "                print('successful connection\\t'+preip)\n",
    "                key.append('http')\n",
    "                value.append('http://'+preip+':'+ports)\n",
    "    #dict(zip(key,value)) 经过查阅资料知道ｋｅｙ值必须唯一，我曹尼玛\n",
    "    key[random.randint(0,len(key))]='https' #强制把其中一个ｋｅｙ值随机赋值为ｈｔｔｐｓ\n",
    "    return dict(zip(key,value))\n",
    "    \n",
    "            \n",
    "if __name__ == '__main__':\n",
    "    \n",
    "    proxies=crawlIP()\n",
    "    print(proxies)\n",
    "    xingming,shouji,biaoti=crawlInfo(proxies)\n",
    "    table=pd.DataFrame({'姓名':xingming,'手机':shouji,'标题':biaoti},columns=columns)\n",
    "    #table.to_csv('suinfo.csv',index=False)\n",
    "    \n",
    "\n"
   ]
  },
  {
   "cell_type": "code",
   "execution_count": 27,
   "metadata": {
    "collapsed": false
   },
   "outputs": [
    {
     "data": {
      "text/plain": [
       "2"
      ]
     },
     "execution_count": 27,
     "metadata": {},
     "output_type": "execute_result"
    }
   ],
   "source": [
    "len(proxies)"
   ]
  },
  {
   "cell_type": "code",
   "execution_count": 26,
   "metadata": {
    "collapsed": false
   },
   "outputs": [
    {
     "data": {
      "text/html": [
       "<div>\n",
       "<table border=\"1\" class=\"dataframe\">\n",
       "  <thead>\n",
       "    <tr style=\"text-align: right;\">\n",
       "      <th></th>\n",
       "      <th>姓名</th>\n",
       "      <th>手机</th>\n",
       "      <th>标题</th>\n",
       "    </tr>\n",
       "  </thead>\n",
       "  <tbody>\n",
       "    <tr>\n",
       "      <th>0</th>\n",
       "      <td>鹿女士</td>\n",
       "      <td>15996960686</td>\n",
       "      <td>矿大附近有一小套房子诚心找租客</td>\n",
       "    </tr>\n",
       "    <tr>\n",
       "      <th>1</th>\n",
       "      <td>张加手机微信</td>\n",
       "      <td>18052268759</td>\n",
       "      <td>求租个人二院附近三室暖气高层电梯房，中介勿扰！</td>\n",
       "    </tr>\n",
       "    <tr>\n",
       "      <th>2</th>\n",
       "      <td>袁女士</td>\n",
       "      <td>13685165471</td>\n",
       "      <td>求租 驿城菜市场 附近房源小区</td>\n",
       "    </tr>\n",
       "    <tr>\n",
       "      <th>3</th>\n",
       "      <td>张女士</td>\n",
       "      <td>18952161031</td>\n",
       "      <td>求租小区和沿街门面房</td>\n",
       "    </tr>\n",
       "    <tr>\n",
       "      <th>4</th>\n",
       "      <td>张女士</td>\n",
       "      <td>18952161031</td>\n",
       "      <td>个人求租沿街30平方左右的门面房</td>\n",
       "    </tr>\n",
       "  </tbody>\n",
       "</table>\n",
       "</div>"
      ],
      "text/plain": [
       "       姓名           手机                       标题\n",
       "0     鹿女士  15996960686          矿大附近有一小套房子诚心找租客\n",
       "1  张加手机微信  18052268759  求租个人二院附近三室暖气高层电梯房，中介勿扰！\n",
       "2     袁女士  13685165471          求租 驿城菜市场 附近房源小区\n",
       "3     张女士  18952161031               求租小区和沿街门面房\n",
       "4     张女士  18952161031         个人求租沿街30平方左右的门面房"
      ]
     },
     "execution_count": 26,
     "metadata": {},
     "output_type": "execute_result"
    }
   ],
   "source": [
    "table.head()"
   ]
  },
  {
   "cell_type": "code",
   "execution_count": null,
   "metadata": {
    "collapsed": true
   },
   "outputs": [],
   "source": []
  }
 ],
 "metadata": {
  "anaconda-cloud": {},
  "kernelspec": {
   "display_name": "Python [Root]",
   "language": "python",
   "name": "Python [Root]"
  },
  "language_info": {
   "codemirror_mode": {
    "name": "ipython",
    "version": 3
   },
   "file_extension": ".py",
   "mimetype": "text/x-python",
   "name": "python",
   "nbconvert_exporter": "python",
   "pygments_lexer": "ipython3",
   "version": "3.5.2"
  }
 },
 "nbformat": 4,
 "nbformat_minor": 0
}
