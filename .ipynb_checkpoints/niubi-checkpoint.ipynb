{
 "cells": [
  {
   "cell_type": "code",
   "execution_count": 1,
   "metadata": {},
   "outputs": [
    {
     "name": "stdout",
     "output_type": "stream",
     "text": [
      "begin crawl\n",
      "login now\n"
     ]
    },
    {
     "ename": "AttributeError",
     "evalue": "'PH' object has no attribute 'url'",
     "output_type": "error",
     "traceback": [
      "\u001b[1;31m---------------------------------------------------------------------------\u001b[0m",
      "\u001b[1;31mAttributeError\u001b[0m                            Traceback (most recent call last)",
      "\u001b[1;32m<ipython-input-1-b43bcfa77044>\u001b[0m in \u001b[0;36m<module>\u001b[1;34m\u001b[0m\n\u001b[0;32m     72\u001b[0m     \u001b[0mpsw\u001b[0m \u001b[1;33m=\u001b[0m \u001b[1;34m\"hh\"\u001b[0m\u001b[1;33m\u001b[0m\u001b[1;33m\u001b[0m\u001b[0m\n\u001b[0;32m     73\u001b[0m     \u001b[0mporn\u001b[0m \u001b[1;33m=\u001b[0m \u001b[0mPH\u001b[0m\u001b[1;33m(\u001b[0m\u001b[0mus\u001b[0m\u001b[1;33m,\u001b[0m\u001b[0mpsw\u001b[0m\u001b[1;33m)\u001b[0m\u001b[1;33m\u001b[0m\u001b[1;33m\u001b[0m\u001b[0m\n\u001b[1;32m---> 74\u001b[1;33m     \u001b[0mporn\u001b[0m\u001b[1;33m.\u001b[0m\u001b[0mlogin\u001b[0m\u001b[1;33m(\u001b[0m\u001b[1;33m)\u001b[0m\u001b[1;33m\u001b[0m\u001b[1;33m\u001b[0m\u001b[0m\n\u001b[0m",
      "\u001b[1;32m<ipython-input-1-b43bcfa77044>\u001b[0m in \u001b[0;36mlogin\u001b[1;34m(self)\u001b[0m\n\u001b[0;32m     63\u001b[0m     \u001b[1;32mdef\u001b[0m \u001b[0mlogin\u001b[0m\u001b[1;33m(\u001b[0m\u001b[0mself\u001b[0m\u001b[1;33m)\u001b[0m\u001b[1;33m:\u001b[0m\u001b[1;33m\u001b[0m\u001b[1;33m\u001b[0m\u001b[0m\n\u001b[0;32m     64\u001b[0m         \u001b[0mprint\u001b[0m\u001b[1;33m(\u001b[0m\u001b[1;34m\"login now\"\u001b[0m\u001b[1;33m)\u001b[0m\u001b[1;33m\u001b[0m\u001b[1;33m\u001b[0m\u001b[0m\n\u001b[1;32m---> 65\u001b[1;33m         \u001b[0mret\u001b[0m\u001b[1;33m=\u001b[0m\u001b[0mself\u001b[0m\u001b[1;33m.\u001b[0m\u001b[0msession\u001b[0m\u001b[1;33m.\u001b[0m\u001b[0mget\u001b[0m\u001b[1;33m(\u001b[0m\u001b[0mself\u001b[0m\u001b[1;33m.\u001b[0m\u001b[0murl\u001b[0m\u001b[1;33m,\u001b[0m \u001b[0mheaders\u001b[0m \u001b[1;33m=\u001b[0m\u001b[0mself\u001b[0m\u001b[1;33m.\u001b[0m\u001b[0mheaders\u001b[0m\u001b[1;33m)\u001b[0m\u001b[1;33m\u001b[0m\u001b[1;33m\u001b[0m\u001b[0m\n\u001b[0m\u001b[0;32m     66\u001b[0m         \u001b[0mprint\u001b[0m\u001b[1;33m(\u001b[0m\u001b[0mret\u001b[0m\u001b[1;33m)\u001b[0m\u001b[1;33m\u001b[0m\u001b[1;33m\u001b[0m\u001b[0m\n\u001b[0;32m     67\u001b[0m \u001b[1;33m\u001b[0m\u001b[0m\n",
      "\u001b[1;31mAttributeError\u001b[0m: 'PH' object has no attribute 'url'"
     ]
    }
   ],
   "source": [
    "import requests\n",
    "from lxml import etree\n",
    "from io import BytesIO\n",
    "import re\n",
    "from bs4 import BeautifulSoup as soup\n",
    "import pandas as pd\n",
    "from pandas.core.frame import DataFrame\n",
    "import json\n",
    "import smtplib\n",
    "from email.mime.multipart import MIMEMultipart\n",
    "from email.mime.text import MIMEText\n",
    "from email.mime.image import MIMEImage\n",
    "from email.mime.application import MIMEApplication\n",
    "import time\n",
    "try:\n",
    "    import cookielib\n",
    "except:\n",
    "    import http.cookiejar as cookielib\n",
    "    \n",
    "class PH:\n",
    "    def __init__(self, username, password):\n",
    "        self.username = username\n",
    "        self.password = password\n",
    "        self.headers = {\n",
    "                    'Referer': 'https://www.pornhub.com',\n",
    "                    'User-Agent': 'Mozilla/5.0 (Windows NT 10.0; Win64; x64) AppleWebKit/537.36 (KHTML, like Gecko) Chrome/86.0.4240.111 Safari/537.36'  \n",
    "                  } \n",
    "        self.profileUrl = 'https://github.com/settings/profile'\n",
    "        self.loginUrl = 'https://www.pornhub.com'\n",
    "         # 设置session\n",
    "        self.session = requests.session()\n",
    "        # 生成github_cookie文件\n",
    "        self.session.cookies = cookielib.LWPCookieJar(filename='github_cookie')\n",
    "    \n",
    "    def load_cookie(self):\n",
    "        try:\n",
    "            self.session.cookies.load(ignore_discard=True)\n",
    "        except:\n",
    "            print('cookie aquire not success!!')\n",
    "            \n",
    "    def isLogin(self):\n",
    "        self.load_cookie()\n",
    "        response = self.session.get(self.profileUrl, headers=self.headers)\n",
    "        selector = etree.HTML(response.text)\n",
    "        flag = selector.xpath('//div[@class=\"column two-thirds\"]/dl/dt/label/text()')\n",
    "        info = selector.xpath('//div[@class=\"column two-thirds\"]/dl/dd/input/@value')\n",
    "        textarea = selector.xpath('//div[@class=\"column two-thirds\"]/dl/dd/textarea/text()')\n",
    "        # 登陆成功返回来的个人设置信息\n",
    "        print(u'个人设置Profile标题: %s'%flag)\n",
    "        print(u'个人设置Profile内容: %s'%info)\n",
    "        print(u'个人设置Profile内容: %s'%textarea)\n",
    "        \n",
    "    def _token(self):\n",
    "\n",
    "        response = self.session.get(self.loginUrl, headers=self.headers)\n",
    "\n",
    "        selector = etree.HTML(response.text)\n",
    "\n",
    "        token = selector.xpath('//div//input[2]/@value')[0]\n",
    "\n",
    "        return token\n",
    "    \n",
    "    def login(self):\n",
    "        print(\"login now\")\n",
    "        ret=self.session.get(self.loginUrl, headers =self.headers)\n",
    "        print(ret)\n",
    "        \n",
    "\n",
    "if __name__ ==\"__main__\":\n",
    "    print(\"begin crawl\")\n",
    "    us = \"sainttelant\"\n",
    "    psw = \"hh\"\n",
    "    porn = PH(us,psw)\n",
    "    porn.login()"
   ]
  },
  {
   "cell_type": "code",
   "execution_count": null,
   "metadata": {},
   "outputs": [],
   "source": []
  }
 ],
 "metadata": {
  "kernelspec": {
   "display_name": "Python 3",
   "language": "python",
   "name": "python3"
  },
  "language_info": {
   "codemirror_mode": {
    "name": "ipython",
    "version": 3
   },
   "file_extension": ".py",
   "mimetype": "text/x-python",
   "name": "python",
   "nbconvert_exporter": "python",
   "pygments_lexer": "ipython3",
   "version": "3.7.6"
  }
 },
 "nbformat": 4,
 "nbformat_minor": 4
}
