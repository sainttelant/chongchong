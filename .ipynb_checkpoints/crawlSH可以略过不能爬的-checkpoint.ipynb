{
 "cells": [
  {
   "cell_type": "code",
   "execution_count": 16,
   "metadata": {
    "collapsed": false
   },
   "outputs": [
    {
     "name": "stdout",
     "output_type": "stream",
     "text": [
      "['林福顺', '青客李世杰', '周劲豪', '林福顺', '赵先生', '刘先生', '陈女士', '汪强', '汪强', '李向南', '刘小姐', '刘明祁', '李小姐', '朱斯颖', '李长志', '李长志', '樊先生', '小刘'] [15108951770, 13062735453, 15214399040, 18848971780, 17521095246, 13167142335, 18001743360, 17601214088, 17601214088, 15000342775, 15902195618, 15900817110, 15921457980, 15021212696, 18201802232, 18201802232, 18721117889, 15026673295] ['为您驻足安居提供保障，租房、买房卖房均能联系鄙人。', '长期求租一房两房三房，能长租五年的，价格可以商量', '香山东北街坊出租一室', '海湾租房，买房，卖房均可联系我', '要精装朝南的房子，客厅要大一点，客厅的东西要全', '求租毛坯房，闵行都可以，高百分之50佣金 能长签', '找今年毕业95后生或再校生邦中学生学汉语换一室户', '外高桥 凌桥 大量精装合租单间 随时入住拒绝群0租', '8号线芦恒路 大量房源 精装全配 价格优惠，可整租', '松江一手现房丨247平790万丨单价三万三', '一室户和单间出租 免中介', '转租一个朝南单间，价格差不多就租了，随时起租', '出租南丹小区中装朝南一室3800', '近地铁七号线 精装全配 拎包入住 高满一月房租', '免中介还在为找房子犯愁么看这里老司机带你轻松找', '房屋出租个人免中介费 单间一房两三房 雨天看房专车', '求租上海市长签五年房源，毛坯优先，合适就签', '青浦新城，香花桥板块租房，找链家小刘']\n"
     ]
    }
   ],
   "source": [
    "import requests\n",
    "from bs4 import BeautifulSoup as bs\n",
    "import time\n",
    "import pandas as pd\n",
    "\n",
    "headers={'Language':'zh-CN,zh;q=0.8',\n",
    "'Cache-Control':'max-age=0',\n",
    "'Connection':'keep-alive',\n",
    "'Cookie':'userid360_xml=4643D3748907E59F28DD56DE9DDB412E; time_create=1516781981904; f=n; id58=c5/njVoJeKAv/BVyA86cAg==; als=0; bj58_id58s=\"Y3ZZNW9VZTdnU3RRNDA0NQ==\"; bj58_new_uv=1; wmda_uuid=1431aea18f8c72ff23779fcf3d9b3034; wmda_new_uuid=1; wmda_visited_projects=%3B2385390625025%3B1409632296065; gr_user_id=4e11b00f-8ff4-445b-be5c-903e9e5deea0; Hm_lvt_3bb04d7a4ca3846dcc66a99c3e861511=1510571816; Hm_lvt_e15962162366a86a6229038443847be7=1510571816; _ga=GA1.2.2031536471.1510571584; commontopbar_myfeet_tooltip=end; commontopbar_ipcity=su%7C%E8%8B%8F%E5%B7%9E%7C0; 58home=sh; bdshare_firstime=1514189991749; city=sh; xxzl_deviceid=JDloOzsLjW0qxuzbskyRd8eZGy40nwfGh7yu9LnnwLqHmzWgwoD%2FKqOr3Af1JNCY; commontopbar_new_city_info=2%7C%E4%B8%8A%E6%B5%B7%7Csh; ppStore_fingerprint=D9636E4AD62BF1A792094131DF7A7C0BF35A06EEBE08A2C9%EF%BC%BF1514192551642; 58tj_uuid=c96787cd-7809-4f3a-b87e-31482bd969da; new_session=0; new_uv=20; utm_source=; spm=; init_refer=http%253A%252F%252Flocalhost%253A8888%252Fnotebooks%252FcrawlSH.ipynb; f=n; __utma=253535702.2031536471.1510571584.1514189991.1514192032.19; __utmb=253535702.8.9.1514192552307; __utmc=253535702; __utmz=253535702.1514192032.19.18.utmcsr=sh.58.com|utmccn=(referral)|utmcmd=referral|utmcct=/qiuzu/pn2/',\n",
    "'Host':'sh.58.com',\n",
    "'Referer':'http://sh.58.com/chuzu/?PGTID=0d100000-0000-2eb0-f7e7-55e6aefd16ee&ClickID=1',\n",
    "'Upgrade-Insecure-Requests':'1',\n",
    "'User-Agent':'Mozilla/5.0 (X11; Linux x86_64) AppleWebKit/537.36 (KHTML, like Gecko) Chrome/61.0.3163.100 Safari/537.36'}\n",
    "\n",
    "url='http://sh.58.com/qiuzu/'\n",
    "title1=[]\n",
    "name1=[]\n",
    "nn=[]\n",
    "phone1=[]\n",
    "columns=['姓名','手机','标题']\n",
    "def crawlInfo():\n",
    "    for page in range(0,1):\n",
    "        urlpage= url+'pn'+str(page)\n",
    "        re= requests.get(urlpage,headers=headers)\n",
    "        #print(re)\n",
    "        soup=bs(re.text,'lxml')\n",
    "        time.sleep(1)\n",
    "        for b in soup.select('tr a.t'):\n",
    "            urlall=b['href']\n",
    "            reall=requests.get(urlall)\n",
    "            time.sleep(1)\n",
    "            soupp=bs(reall.text,'lxml')\n",
    "            for ph in soupp.select('#t_phone'): \n",
    "                try:\n",
    "                    a=int(ph.contents[0])\n",
    "                    phone1.append(a)\n",
    "\n",
    "                    for title in soupp.select('h1'):\n",
    "                        title1.append(title.get_text().strip())\n",
    "                    for name in soupp.select('.tx'):\n",
    "                        name1.append(name.get_text().strip())\n",
    "                except:\n",
    "                    continue\n",
    "    \n",
    "\n",
    "\n",
    "    return name1[1::2],phone1,title1     #返回的类型是tuple的，注意,[1::2]:代表取偶数位，【：：２】：代表取奇数位\n",
    "    \n",
    "    \n",
    "if __name__ == '__main__':\n",
    "\n",
    "    xingming,shouji,biaoti=crawlInfo()\n",
    "    table=pd.DataFrame({'姓名':xingming,'手机':shouji,'标题':biaoti},columns=columns)\n",
    "    table.to_csv('/shiyan.csv',index=False)\n",
    "    \n",
    "    \n"
   ]
  },
  {
   "cell_type": "code",
   "execution_count": 17,
   "metadata": {
    "collapsed": false
   },
   "outputs": [
    {
     "data": {
      "text/html": [
       "<div>\n",
       "<table border=\"1\" class=\"dataframe\">\n",
       "  <thead>\n",
       "    <tr style=\"text-align: right;\">\n",
       "      <th></th>\n",
       "      <th>姓名</th>\n",
       "      <th>手机</th>\n",
       "      <th>标题</th>\n",
       "    </tr>\n",
       "  </thead>\n",
       "  <tbody>\n",
       "    <tr>\n",
       "      <th>0</th>\n",
       "      <td>林福顺</td>\n",
       "      <td>15108951770</td>\n",
       "      <td>为您驻足安居提供保障，租房、买房卖房均能联系鄙人。</td>\n",
       "    </tr>\n",
       "    <tr>\n",
       "      <th>1</th>\n",
       "      <td>青客李世杰</td>\n",
       "      <td>13062735453</td>\n",
       "      <td>长期求租一房两房三房，能长租五年的，价格可以商量</td>\n",
       "    </tr>\n",
       "    <tr>\n",
       "      <th>2</th>\n",
       "      <td>周劲豪</td>\n",
       "      <td>15214399040</td>\n",
       "      <td>香山东北街坊出租一室</td>\n",
       "    </tr>\n",
       "    <tr>\n",
       "      <th>3</th>\n",
       "      <td>林福顺</td>\n",
       "      <td>18848971780</td>\n",
       "      <td>海湾租房，买房，卖房均可联系我</td>\n",
       "    </tr>\n",
       "    <tr>\n",
       "      <th>4</th>\n",
       "      <td>赵先生</td>\n",
       "      <td>17521095246</td>\n",
       "      <td>要精装朝南的房子，客厅要大一点，客厅的东西要全</td>\n",
       "    </tr>\n",
       "  </tbody>\n",
       "</table>\n",
       "</div>"
      ],
      "text/plain": [
       "      姓名           手机                         标题\n",
       "0    林福顺  15108951770  为您驻足安居提供保障，租房、买房卖房均能联系鄙人。\n",
       "1  青客李世杰  13062735453   长期求租一房两房三房，能长租五年的，价格可以商量\n",
       "2    周劲豪  15214399040                 香山东北街坊出租一室\n",
       "3    林福顺  18848971780            海湾租房，买房，卖房均可联系我\n",
       "4    赵先生  17521095246    要精装朝南的房子，客厅要大一点，客厅的东西要全"
      ]
     },
     "execution_count": 17,
     "metadata": {},
     "output_type": "execute_result"
    }
   ],
   "source": [
    "\n"
   ]
  },
  {
   "cell_type": "code",
   "execution_count": 19,
   "metadata": {
    "collapsed": false
   },
   "outputs": [
    {
     "ename": "PermissionError",
     "evalue": "[Errno 13] Permission denied: '/shiyan.csv'",
     "output_type": "error",
     "traceback": [
      "\u001b[1;31m---------------------------------------------------------------------------\u001b[0m",
      "\u001b[1;31mPermissionError\u001b[0m                           Traceback (most recent call last)",
      "\u001b[1;32m<ipython-input-19-a9af02f105c2>\u001b[0m in \u001b[0;36m<module>\u001b[1;34m()\u001b[0m\n\u001b[1;32m----> 1\u001b[1;33m \u001b[0mtable\u001b[0m\u001b[1;33m.\u001b[0m\u001b[0mto_csv\u001b[0m\u001b[1;33m(\u001b[0m\u001b[1;34m'/shiyan.csv'\u001b[0m\u001b[1;33m,\u001b[0m\u001b[0mindex\u001b[0m\u001b[1;33m=\u001b[0m\u001b[1;32mFalse\u001b[0m\u001b[1;33m)\u001b[0m\u001b[1;33m\u001b[0m\u001b[0m\n\u001b[0m",
      "\u001b[1;32m/home/wx/anaconda3/lib/python3.5/site-packages/pandas/core/frame.py\u001b[0m in \u001b[0;36mto_csv\u001b[1;34m(self, path_or_buf, sep, na_rep, float_format, columns, header, index, index_label, mode, encoding, compression, quoting, quotechar, line_terminator, chunksize, tupleize_cols, date_format, doublequote, escapechar, decimal, **kwds)\u001b[0m\n\u001b[0;32m   1342\u001b[0m                                      \u001b[0mdoublequote\u001b[0m\u001b[1;33m=\u001b[0m\u001b[0mdoublequote\u001b[0m\u001b[1;33m,\u001b[0m\u001b[1;33m\u001b[0m\u001b[0m\n\u001b[0;32m   1343\u001b[0m                                      escapechar=escapechar, decimal=decimal)\n\u001b[1;32m-> 1344\u001b[1;33m         \u001b[0mformatter\u001b[0m\u001b[1;33m.\u001b[0m\u001b[0msave\u001b[0m\u001b[1;33m(\u001b[0m\u001b[1;33m)\u001b[0m\u001b[1;33m\u001b[0m\u001b[0m\n\u001b[0m\u001b[0;32m   1345\u001b[0m \u001b[1;33m\u001b[0m\u001b[0m\n\u001b[0;32m   1346\u001b[0m         \u001b[1;32mif\u001b[0m \u001b[0mpath_or_buf\u001b[0m \u001b[1;32mis\u001b[0m \u001b[1;32mNone\u001b[0m\u001b[1;33m:\u001b[0m\u001b[1;33m\u001b[0m\u001b[0m\n",
      "\u001b[1;32m/home/wx/anaconda3/lib/python3.5/site-packages/pandas/formats/format.py\u001b[0m in \u001b[0;36msave\u001b[1;34m(self)\u001b[0m\n\u001b[0;32m   1524\u001b[0m             f = _get_handle(self.path_or_buf, self.mode,\n\u001b[0;32m   1525\u001b[0m                             \u001b[0mencoding\u001b[0m\u001b[1;33m=\u001b[0m\u001b[0mself\u001b[0m\u001b[1;33m.\u001b[0m\u001b[0mencoding\u001b[0m\u001b[1;33m,\u001b[0m\u001b[1;33m\u001b[0m\u001b[0m\n\u001b[1;32m-> 1526\u001b[1;33m                             compression=self.compression)\n\u001b[0m\u001b[0;32m   1527\u001b[0m             \u001b[0mclose\u001b[0m \u001b[1;33m=\u001b[0m \u001b[1;32mTrue\u001b[0m\u001b[1;33m\u001b[0m\u001b[0m\n\u001b[0;32m   1528\u001b[0m \u001b[1;33m\u001b[0m\u001b[0m\n",
      "\u001b[1;32m/home/wx/anaconda3/lib/python3.5/site-packages/pandas/io/common.py\u001b[0m in \u001b[0;36m_get_handle\u001b[1;34m(path, mode, encoding, compression)\u001b[0m\n\u001b[0;32m    422\u001b[0m                 \u001b[0mf\u001b[0m \u001b[1;33m=\u001b[0m \u001b[0mopen\u001b[0m\u001b[1;33m(\u001b[0m\u001b[0mpath\u001b[0m\u001b[1;33m,\u001b[0m \u001b[0mmode\u001b[0m\u001b[1;33m,\u001b[0m \u001b[0mencoding\u001b[0m\u001b[1;33m=\u001b[0m\u001b[0mencoding\u001b[0m\u001b[1;33m)\u001b[0m\u001b[1;33m\u001b[0m\u001b[0m\n\u001b[0;32m    423\u001b[0m             \u001b[1;32melse\u001b[0m\u001b[1;33m:\u001b[0m\u001b[1;33m\u001b[0m\u001b[0m\n\u001b[1;32m--> 424\u001b[1;33m                 \u001b[0mf\u001b[0m \u001b[1;33m=\u001b[0m \u001b[0mopen\u001b[0m\u001b[1;33m(\u001b[0m\u001b[0mpath\u001b[0m\u001b[1;33m,\u001b[0m \u001b[0mmode\u001b[0m\u001b[1;33m,\u001b[0m \u001b[0merrors\u001b[0m\u001b[1;33m=\u001b[0m\u001b[1;34m'replace'\u001b[0m\u001b[1;33m)\u001b[0m\u001b[1;33m\u001b[0m\u001b[0m\n\u001b[0m\u001b[0;32m    425\u001b[0m         \u001b[1;32melse\u001b[0m\u001b[1;33m:\u001b[0m\u001b[1;33m\u001b[0m\u001b[0m\n\u001b[0;32m    426\u001b[0m             \u001b[0mf\u001b[0m \u001b[1;33m=\u001b[0m \u001b[0mopen\u001b[0m\u001b[1;33m(\u001b[0m\u001b[0mpath\u001b[0m\u001b[1;33m,\u001b[0m \u001b[0mmode\u001b[0m\u001b[1;33m)\u001b[0m\u001b[1;33m\u001b[0m\u001b[0m\n",
      "\u001b[1;31mPermissionError\u001b[0m: [Errno 13] Permission denied: '/shiyan.csv'"
     ]
    }
   ],
   "source": []
  },
  {
   "cell_type": "code",
   "execution_count": null,
   "metadata": {
    "collapsed": true
   },
   "outputs": [],
   "source": []
  }
 ],
 "metadata": {
  "anaconda-cloud": {},
  "kernelspec": {
   "display_name": "Python [Root]",
   "language": "python",
   "name": "Python [Root]"
  },
  "language_info": {
   "codemirror_mode": {
    "name": "ipython",
    "version": 3
   },
   "file_extension": ".py",
   "mimetype": "text/x-python",
   "name": "python",
   "nbconvert_exporter": "python",
   "pygments_lexer": "ipython3",
   "version": "3.5.2"
  }
 },
 "nbformat": 4,
 "nbformat_minor": 0
}
