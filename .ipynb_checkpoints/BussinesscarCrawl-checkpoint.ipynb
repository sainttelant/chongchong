{
 "cells": [
  {
   "cell_type": "code",
   "execution_count": 21,
   "metadata": {
    "collapsed": false
   },
   "outputs": [
    {
     "name": "stdout",
     "output_type": "stream",
     "text": [
      "<<<<<<<<<<<<<<<it is begin to crawl cvchome.com>>>>>>>>>>>>>\n",
      "网站有相应\n"
     ]
    }
   ],
   "source": [
    "import pandas as pd \n",
    "import requests\n",
    "from bs4 import BeautifulSoup as bs\n",
    "from urllib import parse\n",
    "from io import BytesIO\n",
    "import json\n",
    "import os\n",
    "\n",
    "s=requests.Session()\n",
    "headers={\n",
    "\n",
    "'Host':'www.cvchome.com',\n",
    "'Upgrade-Insecure-Requests':'1',\n",
    "'User-Agent':'Mozilla/5.0 (X11; Linux x86_64) AppleWebKit/537.36 (KHTML, like Gecko) Chrome/61.0.3163.100 Safari/537.36'\n",
    "}\n",
    "url='http://www.cvchome.com/brand/'\n",
    "data_l=[]\n",
    "bigclass_l=[]\n",
    "def Homepage(url):\n",
    "    res=s.get(url,headers=headers)\n",
    "    if res.status_code==200:\n",
    "        print(\"网站有相应\")\n",
    "        soup=bs(res.text,\"html.parser\")\n",
    "        for subclass in soup.select(\"div.right ul\"):\n",
    "            data_l.append(subclass.get_text())\n",
    "        for bigclass in soup.select(\"div.left div.team dt\"):\n",
    "            bigclass_l.append(bigclass.get_text())\n",
    "    else:\n",
    "        print('res.status:',res.status_code)\n",
    "    return data_l,bigclass_l\n",
    "\n",
    "def removeSpace(list_data):\n",
    "    newdata_l=[]\n",
    "    for i in list_data:\n",
    "        newdata_l.append(i.strip().replace(\"\\n\",\"\"))\n",
    "    return newdata_l \n",
    "\n",
    "def generatepd():\n",
    "    newfull=fulldata[1:]\n",
    "    newlist=[]\n",
    "    for i in newfull:\n",
    "        newlist.append(i.strip().replace(\"\\n\",\"\"))\n",
    "    #print(newlist)   \n",
    "    result_d=dict(zip(bigdata,newlist))\n",
    "    result_pd = pd.DataFrame(result_d,index = [0]) \n",
    "    return result_pd\n",
    "if __name__==\"__main__\":\n",
    "    print(\"<<<<<<<<<<<<<<<it is begin to crawl cvchome.com>>>>>>>>>>>>>\")\n",
    "    \n",
    "    fulldata,bigdata=Homepage(url)\n",
    "    m_data_l=removeSpace(fulldata)\n",
    "    "
   ]
  },
  {
   "cell_type": "code",
   "execution_count": 25,
   "metadata": {
    "collapsed": false
   },
   "outputs": [
    {
     "name": "stdout",
     "output_type": "stream",
     "text": [
      "['北汽集团', 'BENZ 奔驰', '北奔重汽', '铂骏产业', 'CITROEN 雪铁龙', '长安集团', '昌河铃木', '长城汽车', '常隆客车', 'CUMMINS 康明斯', '东风集团', '大运', '福汽集团', 'FIAT 菲亚特', 'FORD福特', '福迪皮卡', 'GM 通用', '广汽集团', 'HYUNDAI 现代', '海马汽车', '华菱星马', '黄海汽车', '华晨金杯', '恒天皮卡', '恒通客车', '恒天客车', 'ISUZU 五十铃', '江铃集团', '九龙汽车', '江淮汽车', '精功汽车', '金龙客车', '进口依维柯', 'KIA 起亚', '凯马汽车', '卡威皮卡', '力帆集团', '陆地方舟', '陆地方舟', 'Mitsubishi 三菱', 'MAZDA 马自达', 'NISSAN 日产', 'PACCAR 佩卡', '奇瑞集团', '庆铃', '青年客车', 'SsangYong 双龙', '申龙客车', '四川现代', '上饶客车', 'TOYOTA 丰田', '唐骏汽车', 'VOLKSWAGEN 大众', 'VOLVO 沃尔沃', '潍柴动力', '五征集团', '五洲龙', '厦门金旅', '徐工汽车', '永源汽车', '一汽集团', '宇通客车', '中兴皮卡', '众泰汽车', '中通客车']\n"
     ]
    }
   ],
   "source": [
    "print(bigdata)"
   ]
  },
  {
   "cell_type": "code",
   "execution_count": 48,
   "metadata": {
    "collapsed": false,
    "scrolled": true
   },
   "outputs": [],
   "source": [
    "newfull=fulldata[1:]\n",
    "newlist=[]\n",
    "for i in newfull:\n",
    "    newlist.append(i.strip().replace(\"\\n\",\"\"))\n",
    "#print(newlist)   \n",
    "result_d=dict(zip(bigdata,newlist))\n",
    "result_pd = pd.DataFrame(result_d,index = [0]) \n",
    "\n"
   ]
  },
  {
   "cell_type": "code",
   "execution_count": 49,
   "metadata": {
    "collapsed": false
   },
   "outputs": [
    {
     "data": {
      "text/html": [
       "<div>\n",
       "<table border=\"1\" class=\"dataframe\">\n",
       "  <thead>\n",
       "    <tr style=\"text-align: right;\">\n",
       "      <th></th>\n",
       "      <th>BENZ 奔驰</th>\n",
       "      <th>CITROEN 雪铁龙</th>\n",
       "      <th>CUMMINS 康明斯</th>\n",
       "      <th>FIAT 菲亚特</th>\n",
       "      <th>FORD福特</th>\n",
       "      <th>GM 通用</th>\n",
       "      <th>HYUNDAI 现代</th>\n",
       "      <th>ISUZU 五十铃</th>\n",
       "      <th>KIA 起亚</th>\n",
       "      <th>MAZDA 马自达</th>\n",
       "      <th>...</th>\n",
       "      <th>福迪皮卡</th>\n",
       "      <th>精功汽车</th>\n",
       "      <th>进口依维柯</th>\n",
       "      <th>金龙客车</th>\n",
       "      <th>铂骏产业</th>\n",
       "      <th>长城汽车</th>\n",
       "      <th>长安集团</th>\n",
       "      <th>陆地方舟</th>\n",
       "      <th>青年客车</th>\n",
       "      <th>黄海汽车</th>\n",
       "    </tr>\n",
       "  </thead>\n",
       "  <tbody>\n",
       "    <tr>\n",
       "      <th>0</th>\n",
       "      <td>16档变速箱系列：16档变速箱报价：...热度：2929状态：在售9档变速箱系列：9档变速箱...</td>\n",
       "      <td>毕加索系列：毕加索报价：￥12.58~15.78万热度：1300状态：在售C4毕加索系列：C...</td>\n",
       "      <td></td>\n",
       "      <td>FIAT道奇皮卡系列：道奇皮卡报价：￥65.00~88.00万热度：2957状态：在售克莱斯...</td>\n",
       "      <td>F150系列：F150报价：...热度：1814状态：在售F650系列：F650报价：......</td>\n",
       "      <td>GMC商务车SAVANA系列：SAVANA报价：￥65.80~166.00万热度：3288状...</td>\n",
       "      <td>H-1辉翼系列：H-1辉翼报价：￥21.18~24.98万热度：3154状态：在售</td>\n",
       "      <td>6缸发动机系列：6缸发动机报价：...热度：2556状态：在售ISUZU N系列：ISUZU...</td>\n",
       "      <td>起亚佳乐系列：起亚佳乐报价：￥15.98~20.68万热度：826状态：在售起亚VQ系列：起...</td>\n",
       "      <td>马自达5系列：马自达5报价：￥16.58~19.38万热度：998状态：在售马自达8系列：马...</td>\n",
       "      <td>...</td>\n",
       "      <td>福迪雄狮系列：福迪雄狮报价：...热度：3448状态：在售雄师F16系列：雄师F16报价：....</td>\n",
       "      <td>精功专用车系列：精功专用车报价：...热度：1598状态：在售精功远征系列：精功远征报价：￥...</td>\n",
       "      <td></td>\n",
       "      <td>海格皮卡海格龙威系列：海格龙威报价：...热度：1023状态：在售海格御骏系列：海格御骏报价...</td>\n",
       "      <td>铂骏天际重卡系列：铂骏天际重卡报价：...热度：551状态：在售</td>\n",
       "      <td>长城风骏6系列：长城风骏6报价：￥9.58~10.99万热度：3702状态：在售长城迪尔系列...</td>\n",
       "      <td>长安商用长安之星2代系列：长安之星2代报价：￥2.74~3.34万热度：2101状态：在售金...</td>\n",
       "      <td></td>\n",
       "      <td>客运客车系列：客运客车报价：...热度：31314状态：在售旅游客车系列：旅游客车报价：.....</td>\n",
       "      <td>黄海皮卡小柴神系列：小柴神报价：￥5.68~6.58万热度：1694状态：在售黄海卡车系列：...</td>\n",
       "    </tr>\n",
       "  </tbody>\n",
       "</table>\n",
       "<p>1 rows × 64 columns</p>\n",
       "</div>"
      ],
      "text/plain": [
       "                                             BENZ 奔驰  \\\n",
       "0  16档变速箱系列：16档变速箱报价：...热度：2929状态：在售9档变速箱系列：9档变速箱...   \n",
       "\n",
       "                                         CITROEN 雪铁龙 CUMMINS 康明斯  \\\n",
       "0  毕加索系列：毕加索报价：￥12.58~15.78万热度：1300状态：在售C4毕加索系列：C...               \n",
       "\n",
       "                                            FIAT 菲亚特  \\\n",
       "0  FIAT道奇皮卡系列：道奇皮卡报价：￥65.00~88.00万热度：2957状态：在售克莱斯...   \n",
       "\n",
       "                                              FORD福特  \\\n",
       "0  F150系列：F150报价：...热度：1814状态：在售F650系列：F650报价：......   \n",
       "\n",
       "                                               GM 通用  \\\n",
       "0  GMC商务车SAVANA系列：SAVANA报价：￥65.80~166.00万热度：3288状...   \n",
       "\n",
       "                                  HYUNDAI 现代  \\\n",
       "0  H-1辉翼系列：H-1辉翼报价：￥21.18~24.98万热度：3154状态：在售   \n",
       "\n",
       "                                           ISUZU 五十铃  \\\n",
       "0  6缸发动机系列：6缸发动机报价：...热度：2556状态：在售ISUZU N系列：ISUZU...   \n",
       "\n",
       "                                              KIA 起亚  \\\n",
       "0  起亚佳乐系列：起亚佳乐报价：￥15.98~20.68万热度：826状态：在售起亚VQ系列：起...   \n",
       "\n",
       "                                           MAZDA 马自达  \\\n",
       "0  马自达5系列：马自达5报价：￥16.58~19.38万热度：998状态：在售马自达8系列：马...   \n",
       "\n",
       "                         ...                          \\\n",
       "0                        ...                           \n",
       "\n",
       "                                                福迪皮卡  \\\n",
       "0  福迪雄狮系列：福迪雄狮报价：...热度：3448状态：在售雄师F16系列：雄师F16报价：....   \n",
       "\n",
       "                                                精功汽车 进口依维柯  \\\n",
       "0  精功专用车系列：精功专用车报价：...热度：1598状态：在售精功远征系列：精功远征报价：￥...         \n",
       "\n",
       "                                                金龙客车  \\\n",
       "0  海格皮卡海格龙威系列：海格龙威报价：...热度：1023状态：在售海格御骏系列：海格御骏报价...   \n",
       "\n",
       "                               铂骏产业  \\\n",
       "0  铂骏天际重卡系列：铂骏天际重卡报价：...热度：551状态：在售   \n",
       "\n",
       "                                                长城汽车  \\\n",
       "0  长城风骏6系列：长城风骏6报价：￥9.58~10.99万热度：3702状态：在售长城迪尔系列...   \n",
       "\n",
       "                                                长安集团 陆地方舟  \\\n",
       "0  长安商用长安之星2代系列：长安之星2代报价：￥2.74~3.34万热度：2101状态：在售金...        \n",
       "\n",
       "                                                青年客车  \\\n",
       "0  客运客车系列：客运客车报价：...热度：31314状态：在售旅游客车系列：旅游客车报价：.....   \n",
       "\n",
       "                                                黄海汽车  \n",
       "0  黄海皮卡小柴神系列：小柴神报价：￥5.68~6.58万热度：1694状态：在售黄海卡车系列：...  \n",
       "\n",
       "[1 rows x 64 columns]"
      ]
     },
     "execution_count": 49,
     "metadata": {},
     "output_type": "execute_result"
    }
   ],
   "source": [
    "result_pd"
   ]
  },
  {
   "cell_type": "code",
   "execution_count": 13,
   "metadata": {
    "collapsed": false
   },
   "outputs": [
    {
     "data": {
      "text/plain": [
       "'铂骏天际重卡系列：铂骏天际重卡报价：...热度：551状态：在售'"
      ]
     },
     "execution_count": 13,
     "metadata": {},
     "output_type": "execute_result"
    }
   ],
   "source": [
    "data_l[4].strip().replace(\"\\n\",\"\")"
   ]
  }
 ],
 "metadata": {
  "anaconda-cloud": {},
  "kernelspec": {
   "display_name": "Python [Root]",
   "language": "python",
   "name": "Python [Root]"
  },
  "language_info": {
   "codemirror_mode": {
    "name": "ipython",
    "version": 3
   },
   "file_extension": ".py",
   "mimetype": "text/x-python",
   "name": "python",
   "nbconvert_exporter": "python",
   "pygments_lexer": "ipython3",
   "version": "3.5.2"
  }
 },
 "nbformat": 4,
 "nbformat_minor": 0
}
