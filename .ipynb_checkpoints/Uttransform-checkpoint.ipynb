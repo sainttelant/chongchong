{
 "cells": [
  {
   "cell_type": "code",
   "execution_count": 11,
   "metadata": {
    "collapsed": false
   },
   "outputs": [
    {
     "name": "stdout",
     "output_type": "stream",
     "text": [
      "[-49.  25.  25.] [-46.01  25.    25.  ]\n",
      "[[ 0.        ]\n",
      " [ 0.14142136]\n",
      " [-0.14142136]]\n"
     ]
    }
   ],
   "source": [
    "from filterpy.kalman import MerweScaledSigmaPoints as SigmaPoints\n",
    " \n",
    "mean = 0    # 均值\n",
    "cov =  1    # 方差\n",
    "#help(SigmaPoints)\n",
    "points = SigmaPoints(n=1, alpha=0.1, beta=2.0, kappa=1.0)  \n",
    "Wm=points.Wm\n",
    "Wc=points.Wc\n",
    "sigmas = points.sigma_points(mean, cov)\n",
    " \n",
    "print (Wm, Wc)   # 计算均值和方差的权值\n",
    "print (sigmas)  # sigma点的坐标"
   ]
  },
  {
   "cell_type": "code",
   "execution_count": 12,
   "metadata": {
    "collapsed": false
   },
   "outputs": [
    {
     "ename": "AttributeError",
     "evalue": "'MerweScaledSigmaPoints' object has no attribute 'weights'",
     "output_type": "error",
     "traceback": [
      "\u001b[1;31m---------------------------------------------------------------------------\u001b[0m",
      "\u001b[1;31mAttributeError\u001b[0m                            Traceback (most recent call last)",
      "\u001b[1;32m<ipython-input-12-b5e832bb2c65>\u001b[0m in \u001b[0;36m<module>\u001b[1;34m()\u001b[0m\n\u001b[0;32m     52\u001b[0m \u001b[1;31m# uses 3 parameters to control how the sigma points are distributed and weighted\u001b[0m\u001b[1;33m\u001b[0m\u001b[1;33m\u001b[0m\u001b[0m\n\u001b[0;32m     53\u001b[0m \u001b[0mpoints\u001b[0m \u001b[1;33m=\u001b[0m \u001b[0mSigmaPoints\u001b[0m\u001b[1;33m(\u001b[0m\u001b[0mn\u001b[0m\u001b[1;33m=\u001b[0m\u001b[1;36m2\u001b[0m\u001b[1;33m,\u001b[0m \u001b[0malpha\u001b[0m\u001b[1;33m=\u001b[0m\u001b[1;36m.1\u001b[0m\u001b[1;33m,\u001b[0m \u001b[0mbeta\u001b[0m\u001b[1;33m=\u001b[0m\u001b[1;36m2.\u001b[0m\u001b[1;33m,\u001b[0m \u001b[0mkappa\u001b[0m\u001b[1;33m=\u001b[0m\u001b[1;36m1.\u001b[0m\u001b[1;33m)\u001b[0m\u001b[1;33m\u001b[0m\u001b[0m\n\u001b[1;32m---> 54\u001b[1;33m \u001b[0mWm\u001b[0m\u001b[1;33m,\u001b[0m \u001b[0mWc\u001b[0m \u001b[1;33m=\u001b[0m \u001b[0mpoints\u001b[0m\u001b[1;33m.\u001b[0m\u001b[0mweights\u001b[0m\u001b[1;33m(\u001b[0m\u001b[1;33m)\u001b[0m\u001b[1;33m\u001b[0m\u001b[0m\n\u001b[0m\u001b[0;32m     55\u001b[0m \u001b[0msigmas\u001b[0m \u001b[1;33m=\u001b[0m \u001b[0mpoints\u001b[0m\u001b[1;33m.\u001b[0m\u001b[0msigma_points\u001b[0m\u001b[1;33m(\u001b[0m\u001b[0mmean\u001b[0m\u001b[1;33m,\u001b[0m \u001b[0mcov\u001b[0m\u001b[1;33m)\u001b[0m\u001b[1;33m\u001b[0m\u001b[0m\n\u001b[0;32m     56\u001b[0m \u001b[1;33m\u001b[0m\u001b[0m\n",
      "\u001b[1;31mAttributeError\u001b[0m: 'MerweScaledSigmaPoints' object has no attribute 'weights'"
     ]
    }
   ],
   "source": [
    "import numpy as np\n",
    "from scipy import stats\n",
    "import matplotlib.pyplot as plt\n",
    "from numpy.random import multivariate_normal\n",
    "from filterpy.kalman import unscented_transform\n",
    "from filterpy.kalman import MerweScaledSigmaPoints as SigmaPoints\n",
    "\n",
    "# 非线性变换函数\n",
    "def f_nonlinear_xy(x, y):\n",
    "    return np.array([x + y, 0.1*x**2 + y**2])\n",
    "def plot1(xs, ys):\n",
    "    \n",
    "    xs = np.asarray(xs) \n",
    "    ys = np.asarray(ys)\n",
    "    xmin = xs.min()\n",
    "    xmax = xs.max()\n",
    "    ymin = ys.min()\n",
    "    ymax = ys.max()\n",
    "    values = np.vstack([xs, ys])  \n",
    "    kernel = stats.gaussian_kde(values)   \n",
    "    X, Y = np.mgrid[xmin:xmax:100j, ymin:ymax:100j]\n",
    "    positions = np.vstack([X.ravel(), Y.ravel()])\n",
    "    Z = np.reshape(kernel.evaluate(positions).T, X.shape)  \n",
    "    plt.imshow(np.rot90(Z),cmap=plt.cm.Greys,extent=[xmin, xmax, ymin, ymax])\n",
    "    plt.plot(xs, ys, 'k.', markersize=2)\n",
    "    plt.xlim(-20, 20)\n",
    "    plt.ylim(-20, 20)\n",
    "def plot2(xs, ys, f, mean_fx):\n",
    "    \n",
    "    fxs, fys = f(xs, ys)    # 将采样点进行非线性变换\n",
    "    computed_mean_x = np.average(fxs)   \n",
    "    computed_mean_y = np.average(fys)\n",
    "    plt.subplot(121)\n",
    "    plt.grid(False)\n",
    "    plot1(xs, ys)\n",
    "    plt.subplot(122)\n",
    "    plt.grid(False)\n",
    "    plot1(fxs, fys)\n",
    "    plt.scatter(fxs, fys, marker='.', alpha=0.01, color='k')\n",
    "    plt.scatter(mean_fx[0], mean_fx[1], marker='o', s=100, c='r', label='UT_mean')\n",
    "    plt.scatter(computed_mean_x, computed_mean_y, marker='*',s=120, c='b', label='mean')\n",
    "    plt.ylim([-10, 200])\n",
    "    plt.xlim([-100, 100])\n",
    "    plt.legend(loc='best', scatterpoints=1)\n",
    "    print ('Difference in mean x={:.3f}, y={:.3f}'.format(\n",
    "    computed_mean_x-mean_fx[0], computed_mean_y-mean_fx[1]))\n",
    "\n",
    "mean = [0, 0]               # Mean of the N-dimensional distribution.\n",
    "cov = [[32, 15], [15, 40]]  # Covariance matrix of the distribution.\n",
    " \n",
    "# create sigma points(2n+1个sigma点)\n",
    "# uses 3 parameters to control how the sigma points are distributed and weighted\n",
    "points = SigmaPoints(n=2, alpha=.1, beta=2., kappa=1.)  \n",
    "\n",
    "Wm=points.Wm\n",
    "Wc=points.wc\n",
    "sigmas = points.sigma_points(mean, cov)\n",
    " \n",
    "# pass through nonlinear function\n",
    "sigmas_f = np.empty((5, 2))\n",
    "for i in range(5):\n",
    "    sigmas_f[i] = f_nonlinear_xy(sigmas[i, 0], sigmas[i ,1]) \n",
    " \n",
    "#unscented transform to get new mean and covariance\n",
    "ukf_mean, ukf_cov = unscented_transform(sigmas_f, Wm, Wc)\n",
    " \n",
    "# generate random points\n",
    "xs, ys = multivariate_normal(mean, cov, size=1000).T  # 从二维随机变量的正态分布中产生1000个数据点\n",
    "plot2(xs, ys, f_nonlinear_xy, ukf_mean)\n",
    "\n",
    "# 画sigma点\n",
    "plt.xlim(-30, 30); plt.ylim(0, 90)\n",
    "plt.subplot(121)\n",
    "plt.scatter(sigmas[:,0], sigmas[:,1], c='r', s=30) \n",
    "plt.show()"
   ]
  },
  {
   "cell_type": "code",
   "execution_count": null,
   "metadata": {
    "collapsed": true
   },
   "outputs": [],
   "source": []
  }
 ],
 "metadata": {
  "kernelspec": {
   "display_name": "Python [Root]",
   "language": "python",
   "name": "Python [Root]"
  },
  "language_info": {
   "codemirror_mode": {
    "name": "ipython",
    "version": 3
   },
   "file_extension": ".py",
   "mimetype": "text/x-python",
   "name": "python",
   "nbconvert_exporter": "python",
   "pygments_lexer": "ipython3",
   "version": "3.5.2"
  }
 },
 "nbformat": 4,
 "nbformat_minor": 0
}
