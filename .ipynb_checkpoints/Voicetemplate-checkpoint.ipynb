{
 "cells": [
  {
   "cell_type": "code",
   "execution_count": null,
   "metadata": {
    "collapsed": true
   },
   "outputs": [],
   "source": [
    "import sys\n",
    "reload(sys)\n",
    "sys.setdefaultencoding('utf8')\n",
    "# Standard module stuff                                                                                                                                                     WORDS = []\n",
    "SLUG = \"SLUG\"\n",
    "def handle(text, mic, profile, wxbot=None):\n",
    "    \"\"\"\n",
    "    Responds to user-input, typically speech text\n",
    "    Arguments:\n",
    "        text -- user-input, typically transcribed speech\n",
    "        mic -- used to interact with the user (for both input and output)\n",
    "        profile -- contains information related to the user (e.g., phone\n",
    "        number)\n",
    "        wxbot -- wechat bot instance\n",
    "    \"\"\"\n",
    "    pass\n",
    "def isValid(text):\n",
    "    \"\"\"\n",
    "        Returns True if the input is related to weather.\n",
    "        Arguments:\n",
    "        text -- user-input, typically transcribed speech\n",
    "    \"\"\"\n",
    "    pass"
   ]
  }
 ],
 "metadata": {
  "kernelspec": {
   "display_name": "Python [Root]",
   "language": "python",
   "name": "Python [Root]"
  },
  "language_info": {
   "codemirror_mode": {
    "name": "ipython",
    "version": 3
   },
   "file_extension": ".py",
   "mimetype": "text/x-python",
   "name": "python",
   "nbconvert_exporter": "python",
   "pygments_lexer": "ipython3",
   "version": "3.5.2"
  }
 },
 "nbformat": 4,
 "nbformat_minor": 0
}
