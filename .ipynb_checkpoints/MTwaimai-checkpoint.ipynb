{
 "cells": [
  {
   "cell_type": "code",
   "execution_count": 1,
   "metadata": {
    "collapsed": false
   },
   "outputs": [
    {
     "name": "stdout",
     "output_type": "stream",
     "text": [
      "ｄｆｓｆ\n",
      "登录成功\n"
     ]
    }
   ],
   "source": [
    "\n",
    "#这个函数可取之处在于ｓｏｕｐ.select和ｆｉｎｄ使用恰当能把需要的ｖａｌｕｅ　ｇｅｔ出来\n",
    "import json\n",
    "import requests\n",
    "from io import BytesIO\n",
    "from bs4 import BeautifulSoup as bs\n",
    "from PIL import Image\n",
    "import datetime\n",
    "from urllib import parse\n",
    "import re\n",
    "import random\n",
    "import time\n",
    "\n",
    "s=requests.Session()\n",
    "headers={'Accept':'*/*',\n",
    "'Accept-Encoding':'gzip, deflate',\n",
    "'Accept-Language':'zh-CN,zh;q=0.8',\n",
    "'Referer':'http://passport.meituan.com/account/unitivelogin?service=waimai&continue=http%3A%2F%2Fwaimai.meituan.com%3A80%2Faccount%2Fsettoken%3Fcontinue%3Dhttp%253A%252F%252Fwaimai.meituan.com%252F',\n",
    "'User-Agent':'Mozilla/5.0 (X11; Linux x86_64) AppleWebKit/537.36 (KHTML, like Gecko) Chrome/61.0.3163.100 Safari/537.36',\n",
    "'X-Requested-With':'XMLHttpRequest'}\n",
    "\n",
    "\n",
    "\n",
    "def aquiredata():\n",
    "    data={\n",
    "          'service':'waimai',\n",
    "          'continue':'http://waimai.meituan.com:80/account/settoken?continue=http%3A%2F%2Fwaimai.meituan.com%2F'}\n",
    "    querystring=parse.urlencode(data)\n",
    "    data1={\n",
    "            'email':'13915729766',\n",
    "            'password':'xue11wei',\n",
    "            'captcha':'',\n",
    "            'origin':'account-login'\n",
    "           }\n",
    "    url='http://passport.meituan.com/account/unitivelogin?{}'.format(querystring)\n",
    "    #print(url)\n",
    "    req=s.get(url,headers=headers)\n",
    "    req.encoding = 'utf-8' #这边可以在text之前，使得中文码正确显示\n",
    "    soup=bs(req.text,'html.parser')\n",
    "    uuid=soup.find('form').get('action')    #把uuid那行取出来 \n",
    "    uuid=uuid.split('=')[1].split('&')[0]　　#利用ｓｐｌｉｔ把中间的值取出来\n",
    "    #print(soup)\n",
    "    csrf=soup.select('input')[6].get('value') #通过select先把所有包含ｉｎｐｕｔ的ｌｉｓｔ找出来，再ｇｅｔ　ｖａｌｕｅ\n",
    "    return uuid,csrf\n",
    "\n",
    "def captcha():\n",
    "    uuid,csrf=aquiredata()\n",
    "    #print(uuid)\n",
    "    data={'uuid':uuid}\n",
    "    querydata=parse.urlencode(data)\n",
    "    url='https://passport.meituan.com/account/captcha?{}'.format(querydata)\n",
    "    captimg=s.get(url,headers=headers)\n",
    "    if captimg.status_code == 200:\n",
    "        file = BytesIO(captimg.content)\n",
    "        img = Image.open(file)\n",
    "        img.show() \n",
    "        captcha = input('')\n",
    "    return captcha,uuid,csrf\n",
    "\n",
    "def login():\n",
    "    data={'uuid':uuid,\n",
    "          'service':'waimai',\n",
    "          'continue':'http://waimai.meituan.com:80/account/settoken?continue=http%3A%2F%2Fwaimai.meituan.com%2F'}\n",
    "    querystring=parse.urlencode(data)\n",
    "    data1={\n",
    "            'email':'13915729766',\n",
    "            'password':'xue11wei',\n",
    "            'captcha':'',\n",
    "            'origin':'account-login',\n",
    "            'fingerprint':'',\n",
    "            'csrf':csrf\n",
    "           }\n",
    "    url='http://passport.meituan.com/account/unitivelogin?{}'.format(querystring)\n",
    "    response=s.post(url,headers=headers,data=data1)\n",
    "    response.encoding='utf-8'\n",
    "    fanhui=response.text\n",
    "    result=json.loads(fanhui)\n",
    "    for value in result.values():\n",
    "        if ('username' in value)==1:\n",
    "            return True\n",
    "        else:\n",
    "            return False\n",
    "    \n",
    "if __name__ == \"__main__\":\n",
    "    captcha,uuid,csrf=captcha()\n",
    "    if login()==1:\n",
    "        print('登录成功')\n",
    "    \n",
    " \n"
   ]
  },
  {
   "cell_type": "code",
   "execution_count": null,
   "metadata": {
    "collapsed": true
   },
   "outputs": [],
   "source": []
  }
 ],
 "metadata": {
  "anaconda-cloud": {},
  "kernelspec": {
   "display_name": "Python [Root]",
   "language": "python",
   "name": "Python [Root]"
  },
  "language_info": {
   "codemirror_mode": {
    "name": "ipython",
    "version": 3
   },
   "file_extension": ".py",
   "mimetype": "text/x-python",
   "name": "python",
   "nbconvert_exporter": "python",
   "pygments_lexer": "ipython3",
   "version": "3.5.2"
  }
 },
 "nbformat": 4,
 "nbformat_minor": 0
}
