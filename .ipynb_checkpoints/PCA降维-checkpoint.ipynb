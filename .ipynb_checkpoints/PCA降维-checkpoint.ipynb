{
 "cells": [
  {
   "cell_type": "code",
   "execution_count": 12,
   "metadata": {
    "collapsed": false
   },
   "outputs": [
    {
     "name": "stdout",
     "output_type": "stream",
     "text": [
      "测试数据的行数和维度: (10, 3)\n",
      "每一维度的平均值： [[ 16.1  24.2  19.8]]\n",
      "打印出来的协方差： [[ 108.32222222   74.53333333  -10.08888889]\n",
      " [  74.53333333  260.62222222 -106.4       ]\n",
      " [ -10.08888889 -106.4          94.17777778]]\n",
      "打印出来的特征值 [ 335.15738485   95.32771231   32.63712506]\n",
      "特征向量 [[-0.30253213 -0.87499307 -0.37797014]\n",
      " [-0.86718533  0.08811216  0.49012839]\n",
      " [ 0.39555518 -0.47604975  0.78543792]]\n",
      "最大的2个特征值对应的特征向量 [[-0.30253213 -0.87499307]\n",
      " [-0.86718533  0.08811216]\n",
      " [ 0.39555518 -0.47604975]]\n",
      "低纬度的空间数据： [[ 13.46265879   0.14716812]\n",
      " [-21.26163019   6.12047583]\n",
      " [  4.72218421 -11.17511862]\n",
      " [ 20.73656976  -4.11279645]\n",
      " [-29.35392285 -16.6403498 ]\n",
      " [-24.34524952  15.35505662]\n",
      " [  2.02368689   6.94159433]\n",
      " [ 17.20180383   7.68072922]\n",
      " [ 12.59724119   2.8162366 ]\n",
      " [  4.2166579   -7.13299586]]\n",
      "[[-13.46265879]\n",
      " [ 21.26163019]\n",
      " [ -4.72218421]\n",
      " [-20.73656976]\n",
      " [ 29.35392285]\n",
      " [ 24.34524952]\n",
      " [ -2.02368689]\n",
      " [-17.20180383]\n",
      " [-12.59724119]\n",
      " [ -4.2166579 ]]\n"
     ]
    }
   ],
   "source": [
    "\"\"\"\n",
    "主成分分析（PCA）的原理就是将一个高维向量x,通过一个特殊的特征向量矩阵U，投影到一个低维的向量空间中，\n",
    "表征为一个低维向量y，并且仅仅损失了一些次要信息。\n",
    "也就是说，通过低维表征的向量和特征向量矩阵，可以基本重构出所对应的原始高维向量。\n",
    "\"\"\"\n",
    "from sklearn.decomposition import PCA\n",
    "import numpy as np\n",
    "from numpy import *\n",
    "#testdata=np.random.randint(0,50,size=[15,5])\n",
    "testdata=mat([[10,15,29],[15,46,13],[23,21,30],[11,9,35],[42,45,11],[9,48,5],[11,21,14],[8,5,15],[11,12,21],[21,20,25]])\n",
    "\n",
    "print(\"测试数据的行数和维度:\",shape(testdata))\n",
    "\n",
    "\n",
    "def zeroMean(dataMat):        \n",
    "    meanVal=np.mean(dataMat,axis=0)     \n",
    "    #按列求均值，即求各个特征的均值，axis=0：表示按照列求，axis=1：按行求均值 \n",
    "    print(\"每一维度的平均值：\",meanVal)\n",
    "    newData=dataMat-meanVal  \n",
    "    return newData,meanVal  \n",
    "\n",
    "\n",
    "def percentage2n(eigVals,percentage):  \n",
    "    sortArray=np.sort(eigVals)   #升序  \n",
    "    sortArray=sortArray[-1::-1]  #逆转，即降序  \n",
    "    arraySum=sum(sortArray)  \n",
    "    tmpSum=0  \n",
    "    num=0  \n",
    "    for i in sortArray:  \n",
    "        tmpSum+=i  \n",
    "        num+=1  \n",
    "        if tmpSum>=arraySum*percentage:  \n",
    "            return num  \n",
    "        \n",
    "        \n",
    "def pca(dataMat,percentage):  \n",
    "    newData,meanVal=zeroMean(dataMat)  #得出维度的均值和，每行对维度均值的差值\n",
    "    covMat=np.cov(newData,rowvar=0)    #求协方差矩阵,return ndarray；若rowvar非0，一列代表一个样本，为0，一行代表一个样本  \n",
    "    print(\"打印出来的协方差：\",covMat)   #3维度数据就是3*3的矩阵\n",
    "    \n",
    "    eigVals,eigVects=np.linalg.eig(np.mat(covMat))#求特征值和特征向量,特征向量是按列放的，即一列代表一个特征向量  \n",
    "    print(\"打印出来的特征值\",eigVals)\n",
    "    print(\"特征向量\",eigVects)\n",
    "    n=percentage2n(eigVals,percentage)         #要达到percent的方差百分比，需要前n个特征向量 \n",
    "    #n=2\n",
    "    eigValIndice=np.argsort(eigVals)            #对特征值从小到大排序  \n",
    "    #print(\"特征值从大到小排列，体现出重要程度\",eigValIndice)\n",
    "    n_eigValIndice=eigValIndice[-1:-(n+1):-1]   #最大的n个特征值的下标  \n",
    "\n",
    "    n_eigVect=eigVects[:,n_eigValIndice]        #最大的n个特征值对应的特征向量  \n",
    "    print('最大的%d个特征值对应的特征向量'%(n),n_eigVect)\n",
    "    lowDDataMat=newData*n_eigVect               #低维特征空间的数据  \n",
    "    \n",
    "    reconMat=(lowDDataMat*n_eigVect.T)+meanVal  #重构数据  \n",
    "    \n",
    "    print(\"低纬度的空间数据：\",lowDDataMat)\n",
    "    #print('重新计算回去的数据',reconMat)\n",
    "\n",
    "\n",
    "pca(testdata,0.9)\n",
    "\n",
    "pc=PCA(0.3)\n",
    "out=pc.fit_transform(testdata)\n",
    "print(out)\n"
   ]
  },
  {
   "cell_type": "code",
   "execution_count": null,
   "metadata": {
    "collapsed": true
   },
   "outputs": [],
   "source": []
  }
 ],
 "metadata": {
  "anaconda-cloud": {},
  "kernelspec": {
   "display_name": "Python [Root]",
   "language": "python",
   "name": "Python [Root]"
  },
  "language_info": {
   "codemirror_mode": {
    "name": "ipython",
    "version": 3
   },
   "file_extension": ".py",
   "mimetype": "text/x-python",
   "name": "python",
   "nbconvert_exporter": "python",
   "pygments_lexer": "ipython3",
   "version": "3.5.2"
  }
 },
 "nbformat": 4,
 "nbformat_minor": 0
}
