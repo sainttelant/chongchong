{
 "cells": [
  {
   "cell_type": "code",
   "execution_count": 5,
   "metadata": {
    "collapsed": false
   },
   "outputs": [
    {
     "name": "stdout",
     "output_type": "stream",
     "text": [
      "请输入查询单号...123456789\n",
      "('2018-02-06 07:29:37', '货物已到达【海港站】', '')\n"
     ]
    }
   ],
   "source": [
    "import json\n",
    "import requests\n",
    "from urllib import parse\n",
    "\n",
    "s=requests.Session()\n",
    "headers={'Host':'www.kuaidi100.com',\n",
    "            'Referer':'https://www.kuaidi100.com/',\n",
    "            'User-Agent':'Mozilla/5.0 (X11; Linux x86_64) AppleWebKit/537.36 (KHTML, like Gecko) Chrome/61.0.3163.100 Safari/537.36',\n",
    "            'X-Requested-With':'XMLHttpRequest'}\n",
    "shuru=input(\"请输入查询单号...\")\n",
    "\n",
    "def chaxun():\n",
    "       \n",
    "    param={'postid':shuru,\n",
    "          'type':company}\n",
    "    querystring=parse.urlencode(param)\n",
    "    url='https://www.kuaidi100.com/query?{}'.format(querystring)\n",
    "    res=s.get(url,headers=headers)\n",
    "    res.encoding='gzip'\n",
    "    fanhui=res.text\n",
    "    fh=json.loads(fanhui)\n",
    "    result=fh['data'] #经典操作，意思是找到ｋｅｙ对应的值，这里面就是ｆｈ字典中名为ｄａｔａ的键的ｖａｌｕｅ\n",
    "    #print(type(result))查找出返回的是个ｌｉｓｔ\n",
    "    currentstatus=result[0]  #找到最新的邮件状态，这个剥杨蒜皮一样，又是个ｊｓｏｎ\n",
    "    time=currentstatus['ftime']\n",
    "    status=currentstatus['context']\n",
    "    position=currentstatus['location']\n",
    "    \n",
    "    return time,status,position\n",
    "\n",
    "def Fhcode():\n",
    "    param={'resultv2':'1',\n",
    "            'text':shuru}\n",
    "    querystring=parse.urlencode(param)\n",
    "    url='http://www.kuaidi100.com/autonumber/autoComNum?{}'.format(querystring)\n",
    "    resp=s.post(url,headers=headers)\n",
    "    resp.encoding='gzip'\n",
    "    a=json.loads(resp.text) #把返回的量变成字典格式\n",
    "    info=a['auto'][0] # a['auto']将键值为ａｕｔｏ的ｖａｌｕｅ取出来，【０】：代表把第一个元素值取出来，还是字典格式\n",
    "    companycode=info['comCode'] #从字典中取出键‘ｃｏｍＣｏｄｅ’的值\n",
    "    if companycode is not None:\n",
    "        return companycode\n",
    "    else:\n",
    "        return False\n",
    "    \n",
    "\n",
    "company=Fhcode()\n",
    "if company==False:\n",
    "    print(\"亲，你输入的单号有误，请重新搞\")\n",
    "    exit()\n",
    "else:\n",
    "    print(chaxun())\n",
    "    \n",
    "\n",
    "\n"
   ]
  },
  {
   "cell_type": "code",
   "execution_count": null,
   "metadata": {
    "collapsed": true
   },
   "outputs": [],
   "source": []
  }
 ],
 "metadata": {
  "anaconda-cloud": {},
  "kernelspec": {
   "display_name": "Python [Root]",
   "language": "python",
   "name": "Python [Root]"
  },
  "language_info": {
   "codemirror_mode": {
    "name": "ipython",
    "version": 3
   },
   "file_extension": ".py",
   "mimetype": "text/x-python",
   "name": "python",
   "nbconvert_exporter": "python",
   "pygments_lexer": "ipython3",
   "version": "3.5.2"
  }
 },
 "nbformat": 4,
 "nbformat_minor": 0
}
