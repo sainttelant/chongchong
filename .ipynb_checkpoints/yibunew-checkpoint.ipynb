{
 "cells": [
  {
   "cell_type": "code",
   "execution_count": 8,
   "metadata": {
    "collapsed": false
   },
   "outputs": [
    {
     "name": "stdout",
     "output_type": "stream",
     "text": [
      "{'https://www.guahao.com/department/shiftcase/125810056137595000', 'https://www.guahao.com/department/shiftcase/125982458146554000', 'https://www.guahao.com/department/shiftcase/125809875694691000', 'https://www.guahao.com/department/shiftcase/125982464205656000', 'https://www.guahao.com/department/shiftcase/125810093986316000', 'https://www.guahao.com/department/shiftcase/fc8484a7-dfeb-43ae-9211-f5f695a94e2e000', 'https://www.guahao.com/department/shiftcase/125982448692445000', 'https://www.guahao.com/department/shiftcase/125368813576502000', 'https://www.guahao.com/department/shiftcase/125810110336729000', 'https://www.guahao.com/department/shiftcase/125810615177463000', 'https://www.guahao.com/department/shiftcase/125809937939428000', 'https://www.guahao.com/department/shiftcase/125810084259711000', 'https://www.guahao.com/department/shiftcase/125810067892196000', 'https://www.guahao.com/department/shiftcase/125810071018399000', 'https://www.guahao.com/department/shiftcase/1f61f4ec-5593-4a79-8198-509dc4f7f3ad000', 'https://www.guahao.com/department/shiftcase/b7a73fe0-92bf-4727-8499-02785b11e74c000', 'https://www.guahao.com/department/shiftcase/125810082030507000', 'https://www.guahao.com/department/shiftcase/125982656460005000', 'https://www.guahao.com/department/shiftcase/125809911628817000', 'https://www.guahao.com/department/shiftcase/125810069347697000', 'https://www.guahao.com/department/shiftcase/125982439243338000', 'https://www.guahao.com/department/shiftcase/064a36eb-059c-4891-9bc2-0c4809bfb6ea000', 'https://www.guahao.com/department/shiftcase/b16a6b06-0150-426f-9fea-88f33a1241ae000', 'https://www.guahao.com/department/shiftcase/125982518762377000', 'https://www.guahao.com/department/shiftcase/c0b0d23b-cf08-4e34-9c8e-315e10dbaa28000', 'https://www.guahao.com/department/shiftcase/125810105795524000', 'https://www.guahao.com/department/shiftcase/126500142525502000', 'https://www.guahao.com/department/shiftcase/c64577ca-3310-4b0d-afc9-5bfb63ff5f93000', 'https://www.guahao.com/department/shiftcase/125809892257703000', 'https://www.guahao.com/department/shiftcase/125982477625264000', 'https://www.guahao.com/department/shiftcase/125810097696020000', 'https://www.guahao.com/department/shiftcase/d949491e-1f95-4d93-b3a4-8ef69ec757b6000', 'https://www.guahao.com/department/shiftcase/125809872362790000', 'https://www.guahao.com/department/shiftcase/125982538954488000', 'https://www.guahao.com/department/shiftcase/e8a8063f-62f3-4cac-9ed7-da8dc2f9c06f000', 'https://www.guahao.com/department/shiftcase/125809949187033000', 'https://www.guahao.com/department/shiftcase/125982451016846000', 'https://www.guahao.com/department/shiftcase/125982511410376000', 'https://www.guahao.com/department/shiftcase/125982446272843000', 'https://www.guahao.com/department/shiftcase/125982649922101000', 'https://www.guahao.com/department/shiftcase/03c5a60f-e35e-409c-a710-ed91acf8d85d000', 'https://www.guahao.com/department/shiftcase/0434e36c-6bb9-4895-9d65-0f7d9c720481000', 'https://www.guahao.com/department/shiftcase/125810512426329000', 'https://www.guahao.com/department/shiftcase/125810157034675000', 'https://www.guahao.com/department/shiftcase/56a55d8b-d085-43c2-a941-d314d9935c87000', 'https://www.guahao.com/department/shiftcase/46b25304-ee4a-4ebc-b2ae-1c60ef83c072000', 'https://www.guahao.com/department/shiftcase/125809862127685000', 'https://www.guahao.com/department/shiftcase/125810072413100000', 'https://www.guahao.com/department/shiftcase/d46af305-f81f-413a-8755-6e62c7c2c9eb000', 'https://www.guahao.com/department/shiftcase/125810934595892000', 'https://www.guahao.com/department/shiftcase/125809860450683000', 'https://www.guahao.com/department/shiftcase/af03db08-4f7f-48ac-b448-3a4fa6d12a75000', 'https://www.guahao.com/department/shiftcase/125809916491020000', 'https://www.guahao.com/department/shiftcase/3d102310-9b66-4ee3-bc31-05b689adba99000', 'https://www.guahao.com/department/shiftcase/125982452508147000', 'https://www.guahao.com/department/shiftcase/125809901338508000', 'https://www.guahao.com/department/shiftcase/125982467601758000', 'https://www.guahao.com/department/shiftcase/125982651430602000', 'https://www.guahao.com/department/shiftcase/125810076300604000', 'https://www.guahao.com/department/shiftcase/125809950754835000', 'https://www.guahao.com/department/shiftcase/44252461-a153-4439-812b-50342c44f656000', 'https://www.guahao.com/department/shiftcase/71038fa5-0dab-4f07-bf68-1c09c08fc04d000', 'https://www.guahao.com/department/shiftcase/05e8cea6-0a3a-42ba-931d-d55150912572000', 'https://www.guahao.com/department/shiftcase/125809830941163000', 'https://www.guahao.com/department/shiftcase/126500557335922000', 'https://www.guahao.com/department/shiftcase/125810070261798000', 'https://www.guahao.com/department/shiftcase/125809895923704000', 'https://www.guahao.com/department/shiftcase/125810964278209000', 'https://www.guahao.com/department/shiftcase/f67480eb-9ce5-4105-ac03-9443b09ac4c4000', 'https://www.guahao.com/department/shiftcase/d33f6c63-836d-494f-8c80-1f0dfc91bb54000', 'https://www.guahao.com/department/shiftcase/1a2a1acd-ac7d-40c8-b1cc-0fe9a8823f72000', 'https://www.guahao.com/department/shiftcase/125810074065102000', 'https://www.guahao.com/department/shiftcase/2851d2de-b8af-4e72-b958-887d90f2152a000', 'https://www.guahao.com/department/shiftcase/dcdb3cab-e5d0-40d8-9ff5-6c176e3cd867000', 'https://www.guahao.com/department/shiftcase/125982486796566000', 'https://www.guahao.com/department/shiftcase/3d7e53ad-017c-464c-845e-7e51bc827189000', 'https://www.guahao.com/department/shiftcase/2ffd3049-fb40-48a6-96a6-bbd789456803000', 'https://www.guahao.com/department/shiftcase/125809921947822000', 'https://www.guahao.com/department/shiftcase/85d380b4-1b53-4363-a122-fdc951567d9c000'}\n"
     ]
    }
   ],
   "source": [
    "from bs4 import BeautifulSoup as bs\n",
    "import time\n",
    "import json\n",
    "import random\n",
    "import pandas as pd\n",
    "import aiohttp\n",
    "import asyncio\n",
    "\n",
    "headers={\n",
    "\n",
    "'accept':'text/html,application/xhtml+xml,application/xml;q=0.9,image/webp,image/apng,*/*;q=0.8',\n",
    "'accept-encoding':'gzip, deflate, br',\n",
    "'accept-language':'zh-CN,zh;q=0.8',\n",
    "'cache-control':'max-age=0',\n",
    "'upgrade-insecure-requests':'1',\n",
    "'user-agent':'Mozilla/5.0 (X11; Linux x86_64) AppleWebKit/537.36 (KHTML, like Gecko) Chrome/61.0.3163.100 Safari/537.36'}\n",
    "\n",
    "url='https://www.guahao.com/hospital/125336070937502000'\n",
    "name=[]\n",
    "title=[]\n",
    "feature=[]\n",
    "appointment=[]\n",
    "score=[]\n",
    "columns=['姓名','擅长','预约量']\n",
    "res_list=set()\n",
    "\n",
    "async def crawldoc(url,res_list,callback=None):\n",
    "    async with aiohttp.ClientSession() as session:\n",
    "        async with session.get(url,headers=headers) as resp:\n",
    "            assert resp.status==200\n",
    "            if callback==graphref:\n",
    "                body=await resp.text()\n",
    "                callback(res_list,body)\n",
    "        session.close\n",
    "\n",
    "def graphref(res_list,body):\n",
    "    soup=bs(body,'lxml')\n",
    "    for clinic in soup.select('p span a.ishao'):\n",
    "        urlall=clinic['href']\n",
    "        shuzi=urlall.split('department/')[1].split('?')[0] #把中间href的数字解析出来\n",
    "        urlall='https://www.guahao.com/department/shiftcase/'+shuzi\n",
    "        res_list.add(urlall)\n",
    " \n",
    "    \n",
    "async def crawlnm():\n",
    "    async with aiohttp.ClientSession() as session:\n",
    "        async with session.get(res_list) as resp1:\n",
    "            soup1=bs(await resp1.text(),'lxml')\n",
    "            for nm in soup1.select('dl dt a.name.js-doc em'):\n",
    "                name.append(nm.get_text())\n",
    "        return name\n",
    "        session.close\n",
    "            \n",
    "       \n",
    "start=time.time()\n",
    "\n",
    "#创建事件循环\n",
    "loop=asyncio.get_event_loop()\n",
    "#携程任务\n",
    "tasks=[crawldoc(url,res_list,callback=graphref)]\n",
    "#在事件中执行携程任务\n",
    "loop.run_until_complete(asyncio.gather(*tasks))\n",
    "\n",
    "\n",
    "print(res_list)"
   ]
  },
  {
   "cell_type": "code",
   "execution_count": null,
   "metadata": {
    "collapsed": true
   },
   "outputs": [],
   "source": [
    "\n",
    "    "
   ]
  }
 ],
 "metadata": {
  "kernelspec": {
   "display_name": "Python [Root]",
   "language": "python",
   "name": "Python [Root]"
  },
  "language_info": {
   "codemirror_mode": {
    "name": "ipython",
    "version": 3
   },
   "file_extension": ".py",
   "mimetype": "text/x-python",
   "name": "python",
   "nbconvert_exporter": "python",
   "pygments_lexer": "ipython3",
   "version": "3.5.2"
  }
 },
 "nbformat": 4,
 "nbformat_minor": 0
}
