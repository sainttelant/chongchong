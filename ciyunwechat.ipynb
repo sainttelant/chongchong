{
 "cells": [
  {
   "cell_type": "code",
   "execution_count": 22,
   "metadata": {
    "collapsed": false
   },
   "outputs": [
    {
     "name": "stderr",
     "output_type": "stream",
     "text": [
      "itchat has already logged in.\n",
      "No handles with labels found to put in legend.\n"
     ]
    },
    {
     "name": "stdout",
     "output_type": "stream",
     "text": [
      "男性好友： 58.65%\n",
      "女性好友： 34.05%\n",
      "不明性别好友： 7.30%\n"
     ]
    },
    {
     "data": {
      "image/png": "[encoded data removed]",
      "text/plain": [
       "<Figure size 432x288 with 1 Axes>"
      ]
     },
     "metadata": {},
     "output_type": "display_data"
    }
   ],
   "source": [
    "\n",
    "import itchat\n",
    "import re\n",
    "import io\n",
    "from os import path\n",
    "from wordcloud import WordCloud, ImageColorGenerator\n",
    "import jieba\n",
    "import numpy as np\n",
    "from PIL import Image\n",
    "import matplotlib.pyplot as plt\n",
    "from wordcloud import WordCloud\n",
    "import random\n",
    "import os\n",
    "from matplotlib import pyplot as plt\n",
    "\n",
    "\n",
    "def draw(datas):\n",
    "    for key in datas.keys():\n",
    "        plt.bar(key, datas[key])\n",
    "\n",
    "    plt.legend()\n",
    "    plt.xlabel('sex')\n",
    "    plt.ylabel('rate')\n",
    "    plt.title(\"Gender of Alfred's friends\")\n",
    "    plt.show()\n",
    "\n",
    "def parse_friedns():\n",
    "    itchat.login()\n",
    "    text = dict()\n",
    "    friedns = itchat.get_friends(update=True)[0:]\n",
    "    #print(\"抓取到的朋友信息%s\"%(friedns))\n",
    "    male = \"male\"\n",
    "    female = \"female\"\n",
    "    other = \"other\"\n",
    "\n",
    "    for i in friedns[1:]:\n",
    "        sex = i['Sex']\n",
    "        if sex == 1:\n",
    "            text[male] = text.get(male, 0) + 1\n",
    "        elif sex == 2:\n",
    "            text[female] = text.get(female, 0) + 1\n",
    "        else:\n",
    "            text[other] = text.get(other, 0) + 1\n",
    "    total = len(friedns[1:])\n",
    "    print(\"男性好友： %.2f%%\" % (float(text[male]) / total * 100) + \"\\n\" +\n",
    "          \"女性好友： %.2f%%\" % (float(text[female]) / total * 100) + \"\\n\" +\n",
    "\n",
    "          \"不明性别好友： %.2f%%\" % (float(text[other]) / total * 100))\n",
    "    draw(text)\n",
    "\n",
    "def parse_signature():\n",
    "    itchat.login()\n",
    "    siglist = []\n",
    "    friedns = itchat.get_friends(update=True)[1:]\n",
    "    for i in friedns:\n",
    "        signature = i[\"Signature\"].strip().replace(\"span\", \"\").replace(\"class\", \"\").replace(\"emoji\", \"\")\n",
    "        rep = re.compile(\"1f\\d+\\w*|[<>/=]\")\n",
    "        signature = rep.sub(\"\", signature)\n",
    "        siglist.append(signature)\n",
    "    text = \"\".join(siglist)\n",
    "    with io.open('text.txt', 'a', encoding='utf-8') as f:\n",
    "        wordlist = jieba.cut(text, cut_all=True)\n",
    "        word_space_split = \" \".join(wordlist)\n",
    "        f.write(word_space_split)\n",
    "        f.close()\n",
    "\n",
    "\n",
    "def draw_signature():\n",
    "    text = open(u'text.txt', encoding='utf-8').read()\n",
    "    coloring = np.array(Image.open('3.png'))\n",
    "    my_wordcloud = WordCloud(background_color=\"white\", max_words=2000,\n",
    "                         mask=coloring, max_font_size=60, random_state=42, scale=2,\n",
    "                         font_path=\"DroidSansFallbackFull.ttf\").generate(text)\n",
    "    image_colors = ImageColorGenerator(coloring)\n",
    "    plt.imshow(my_wordcloud.recolor(color_func=image_colors))\n",
    "    plt.imshow(my_wordcloud)\n",
    "    plt.axis(\"off\")\n",
    "    plt.show()\n",
    "\n",
    "if __name__ == '__main__':\n",
    "    parse_friedns()\n",
    "    parse_signature()\n",
    "    draw_signature()\n",
    " "
   ]
  },
  {
   "cell_type": "code",
   "execution_count": 23,
   "metadata": {
    "collapsed": false
   },
   "outputs": [
    {
     "name": "stderr",
     "output_type": "stream",
     "text": [
      "itchat has already logged in.\n"
     ]
    },
    {
     "data": {
      "image/png": "[encoded data removed]",
      "text/plain": [
       "<Figure size 432x288 with 1 Axes>"
      ]
     },
     "metadata": {},
     "output_type": "display_data"
    }
   ],
   "source": []
  },
  {
   "cell_type": "code",
   "execution_count": null,
   "metadata": {
    "collapsed": true
   },
   "outputs": [],
   "source": []
  }
 ],
 "metadata": {
  "kernelspec": {
   "display_name": "Python [Root]",
   "language": "python",
   "name": "Python [Root]"
  },
  "language_info": {
   "codemirror_mode": {
    "name": "ipython",
    "version": 3
   },
   "file_extension": ".py",
   "mimetype": "text/x-python",
   "name": "python",
   "nbconvert_exporter": "python",
   "pygments_lexer": "ipython3",
   "version": "3.5.2"
  }
 },
 "nbformat": 4,
 "nbformat_minor": 0
}
