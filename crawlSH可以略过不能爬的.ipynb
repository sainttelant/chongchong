{
 "cells": [
  {
   "cell_type": "code",
   "execution_count": null,
   "metadata": {},
   "outputs": [],
   "source": [
    "import requests\n",
    "from bs4 import BeautifulSoup as bs\n",
    "import time\n",
    "import pandas as pd\n",
    "\n",
    "headers={'Language':'zh-CN,zh;q=0.8',\n",
    "'Cache-Control':'max-age=0',\n",
    "'Connection':'keep-alive',\n",
    "'Cookie':'userid360_xml=4643D3748907E59F28DD56DE9DDB412E; time_create=1516781981904; f=n; id58=c5/njVoJeKAv/BVyA86cAg==; als=0; bj58_id58s=\"Y3ZZNW9VZTdnU3RRNDA0NQ==\"; bj58_new_uv=1; wmda_uuid=1431aea18f8c72ff23779fcf3d9b3034; wmda_new_uuid=1; wmda_visited_projects=%3B2385390625025%3B1409632296065; gr_user_id=4e11b00f-8ff4-445b-be5c-903e9e5deea0; Hm_lvt_3bb04d7a4ca3846dcc66a99c3e861511=1510571816; Hm_lvt_e15962162366a86a6229038443847be7=1510571816; _ga=GA1.2.2031536471.1510571584; commontopbar_myfeet_tooltip=end; commontopbar_ipcity=su%7C%E8%8B%8F%E5%B7%9E%7C0; 58home=sh; bdshare_firstime=1514189991749; city=sh; xxzl_deviceid=JDloOzsLjW0qxuzbskyRd8eZGy40nwfGh7yu9LnnwLqHmzWgwoD%2FKqOr3Af1JNCY; commontopbar_new_city_info=2%7C%E4%B8%8A%E6%B5%B7%7Csh; ppStore_fingerprint=D9636E4AD62BF1A792094131DF7A7C0BF35A06EEBE08A2C9%EF%BC%BF1514192551642; 58tj_uuid=c96787cd-7809-4f3a-b87e-31482bd969da; new_session=0; new_uv=20; utm_source=; spm=; init_refer=http%253A%252F%252Flocalhost%253A8888%252Fnotebooks%252FcrawlSH.ipynb; f=n; __utma=253535702.2031536471.1510571584.1514189991.1514192032.19; __utmb=253535702.8.9.1514192552307; __utmc=253535702; __utmz=253535702.1514192032.19.18.utmcsr=sh.58.com|utmccn=(referral)|utmcmd=referral|utmcct=/qiuzu/pn2/',\n",
    "'Host':'sh.58.com',\n",
    "'Referer':'http://sh.58.com/chuzu/?PGTID=0d100000-0000-2eb0-f7e7-55e6aefd16ee&ClickID=1',\n",
    "'Upgrade-Insecure-Requests':'1',\n",
    "'User-Agent':'Mozilla/5.0 (X11; Linux x86_64) AppleWebKit/537.36 (KHTML, like Gecko) Chrome/61.0.3163.100 Safari/537.36'}\n",
    "\n",
    "url='http://sh.58.com/qiuzu/'\n",
    "title1=[]\n",
    "name1=[]\n",
    "nn=[]\n",
    "phone1=[]\n",
    "columns=['姓名','手机','标题']\n",
    "def crawlInfo():\n",
    "    for page in range(0,70):\n",
    "        urlpage= url+'pn'+str(page)\n",
    "        re= requests.get(urlpage,headers=headers)\n",
    "        #print(re)\n",
    "        soup=bs(re.text,'lxml')\n",
    "        time.sleep(1)\n",
    "        for b in soup.select('tr a.t'):\n",
    "            urlall=b['href']\n",
    "            reall=requests.get(urlall)\n",
    "            time.sleep(1)\n",
    "            soupp=bs(reall.text,'lxml')\n",
    "            for ph in soupp.select('#t_phone'): \n",
    "                try:\n",
    "                    a=int(ph.contents[0])\n",
    "                    phone1.append(a)\n",
    "\n",
    "                    for title in soupp.select('h1'):\n",
    "                        title1.append(title.get_text().strip())\n",
    "                    for name in soupp.select('.tx'):\n",
    "                        name1.append(name.get_text().strip())\n",
    "                except:\n",
    "                    continue\n",
    "    \n",
    "\n",
    "\n",
    "    return name1[1::2],phone1,title1     #返回的类型是tuple的，注意,[1::2]:代表取偶数位，【：：２】：代表取奇数位\n",
    "    \n",
    "    \n",
    "if __name__ == '__main__':\n",
    "\n",
    "    xingming,shouji,biaoti=crawlInfo()\n",
    "    table=pd.DataFrame({'姓名':xingming,'手机':shouji,'标题':biaoti},columns=columns)\n",
    "   \n",
    "    \n",
    "    \n"
   ]
  },
  {
   "cell_type": "code",
   "execution_count": null,
   "metadata": {},
   "outputs": [],
   "source": [
    "table.head()\n"
   ]
  },
  {
   "cell_type": "code",
   "execution_count": null,
   "metadata": {},
   "outputs": [],
   "source": [
    "table\n",
    "table.to_csv('info.csv',index=False)"
   ]
  },
  {
   "cell_type": "code",
   "execution_count": null,
   "metadata": {},
   "outputs": [],
   "source": []
  }
 ],
 "metadata": {
  "anaconda-cloud": {},
  "kernelspec": {
   "display_name": "Python 3",
   "language": "python",
   "name": "python3"
  },
  "language_info": {
   "codemirror_mode": {
    "name": "ipython",
    "version": 3
   },
   "file_extension": ".py",
   "mimetype": "text/x-python",
   "name": "python",
   "nbconvert_exporter": "python",
   "pygments_lexer": "ipython3",
   "version": "3.7.6"
  }
 },
 "nbformat": 4,
 "nbformat_minor": 1
}
