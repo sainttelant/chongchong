{
 "cells": [
  {
   "cell_type": "code",
   "execution_count": 9,
   "metadata": {
    "collapsed": false
   },
   "outputs": [
    {
     "name": "stderr",
     "output_type": "stream",
     "text": [
      "/home/wx/anaconda3/lib/python3.5/site-packages/urllib3/connectionpool.py:858: InsecureRequestWarning: Unverified HTTPS request is being made. Adding certificate verification is strongly advised. See: https://urllib3.readthedocs.io/en/latest/advanced-usage.html#ssl-warnings\n",
      "  InsecureRequestWarning)\n",
      "/home/wx/anaconda3/lib/python3.5/site-packages/urllib3/connectionpool.py:858: InsecureRequestWarning: Unverified HTTPS request is being made. Adding certificate verification is strongly advised. See: https://urllib3.readthedocs.io/en/latest/advanced-usage.html#ssl-warnings\n",
      "  InsecureRequestWarning)\n",
      "/home/wx/anaconda3/lib/python3.5/site-packages/urllib3/connectionpool.py:858: InsecureRequestWarning: Unverified HTTPS request is being made. Adding certificate verification is strongly advised. See: https://urllib3.readthedocs.io/en/latest/advanced-usage.html#ssl-warnings\n",
      "  InsecureRequestWarning)\n"
     ]
    },
    {
     "name": "stdout",
     "output_type": "stream",
     "text": [
      "\n"
     ]
    },
    {
     "name": "stderr",
     "output_type": "stream",
     "text": [
      "/home/wx/anaconda3/lib/python3.5/site-packages/urllib3/connectionpool.py:858: InsecureRequestWarning: Unverified HTTPS request is being made. Adding certificate verification is strongly advised. See: https://urllib3.readthedocs.io/en/latest/advanced-usage.html#ssl-warnings\n",
      "  InsecureRequestWarning)\n"
     ]
    }
   ],
   "source": [
    "import json\n",
    "import requests\n",
    "from io import BytesIO\n",
    "from bs4 import BeautifulSoup as bs\n",
    "from PIL import Image\n",
    "import datetime\n",
    "from urllib import parse\n",
    "import re\n",
    "import random\n",
    "import time\n",
    "\n",
    "s = requests.Session()\n",
    "\n",
    "url='https://max.book118.com/html/2016/0310/37318011.shtm'\n",
    "headers={'Accept':'text/html,application/xhtml+xml,application/xml;q=0.9,image/webp,image/apng,*/*;q=0.8',\n",
    "'Accept-Encoding':'gzip, deflate, br',\n",
    "'Accept-Language':'en-US,en;q=0.8',\n",
    "'Cache-Control':'max-age=0',\n",
    "'Connection':'keep-alive',\n",
    "'Host':'max.book118.com',\n",
    "'Upgrade-Insecure-Requests':'1',\n",
    "'User-Agent':'Mozilla/5.0 (X11; Linux x86_64) AppleWebKit/537.36 (KHTML, like Gecko) Chrome/61.0.3163.100 Safari/537.36'\n",
    "        }\n",
    "\n",
    "req=s.get(url,headers=headers,verify=False)\n",
    "querydata={'m':'Ajax',\n",
    "    'a':'preview',\n",
    "    'aid':'37318011'}\n",
    "query=parse.urlencode(querydata)\n",
    "url1=\"https://max.book118.com/index.php?{}\".format(query)\n",
    "req1=s.get(url1,headers=headers,verify=False)\n",
    "\n",
    "querydata1={'g':'Home',\n",
    "'m':'View',\n",
    "'a':'viewUrl',\n",
    "'cid':'37318011',\n",
    "'flag':'1'}\n",
    "query1=parse.urlencode(querydata1)\n",
    "url2='https://max.book118.com/index.php?{}'.format(query1)\n",
    "req2=s.get(url2,headers=headers,verify=False)\n",
    "\n",
    "url3='https://max.book118.com/index.php?m=Ajax&a=preview&aid=37318011'\n",
    "req3=s.get(url3,headers=headers,verify=False)\n",
    "print(req3.text)\n"
   ]
  },
  {
   "cell_type": "code",
   "execution_count": null,
   "metadata": {
    "collapsed": true
   },
   "outputs": [],
   "source": []
  }
 ],
 "metadata": {
  "anaconda-cloud": {},
  "kernelspec": {
   "display_name": "Python [Root]",
   "language": "python",
   "name": "Python [Root]"
  },
  "language_info": {
   "codemirror_mode": {
    "name": "ipython",
    "version": 3
   },
   "file_extension": ".py",
   "mimetype": "text/x-python",
   "name": "python",
   "nbconvert_exporter": "python",
   "pygments_lexer": "ipython3",
   "version": "3.5.2"
  }
 },
 "nbformat": 4,
 "nbformat_minor": 0
}
