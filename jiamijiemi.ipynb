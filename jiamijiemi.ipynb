{
 "cells": [
  {
   "cell_type": "code",
   "execution_count": 1,
   "metadata": {},
   "outputs": [
    {
     "name": "stdout",
     "output_type": "stream",
     "text": [
      "first to generate a Key file------\n",
      "plz run : python3.6 jiamijiemi yaoshi.txt---first \n",
      "d: -f\n",
      "Usage:crypt.py <input file> <output file> <key file>\n",
      "plz input the correct jiemi three files\n",
      "Done!\n"
     ]
    }
   ],
   "source": [
    "import sys\n",
    "import random\n",
    "import os\n",
    "\n",
    "dirpaths=[]\n",
    "fileph=[]\n",
    "filenms=[]\n",
    "def copyingremoveInitPath(allthings):\n",
    "    for file in allthings:\n",
    "        print(\"目前的路径：\",os.getcwd())\n",
    "        juduipath=os.getcwd()\n",
    "        newpath=os.path.join(juduipath,file)+\"/\"\n",
    "        if os.path.isdir(newpath):\n",
    "            print(\"这是个文件夹:\",newpath)\n",
    "            os.chdir(file)\n",
    "            \n",
    "            print(\"目前的路径1：\",os.getcwd())\n",
    "            fanhui=aquireDetails(os.getcwd())\n",
    "            copyingremoveInitPath(fanhui)\n",
    "        else:\n",
    "            filename = os.path.splitext(file)[0];  \n",
    "            filetype = os.path.splitext(file)[1]; \n",
    "            filePath=path+filename+filetype\n",
    "            newname=path+filename\n",
    "            print(\"开始复制:\",\"copy\"+\" \"+filename+filetype+\" \"+filename+\".html\")\n",
    "            \n",
    "\n",
    "def aquireDetails(path):\n",
    "    allthings=os.listdir(path)\n",
    "    return allthings\n",
    "\n",
    "def copyFiles(allthings):\n",
    "    #print(\"current folder:\",os.getcwd())\n",
    "    for file in allthings:\n",
    "        Olddir = os.path.join(path, file)+\"/\"\n",
    "        abspath=os.path.join(os.getcwd(),Olddir)\n",
    "        print(\"current abspath:\",abspath)\n",
    "        if os.path.isdir(abspath):     #这个必须是绝对路径才能使用，晕！\n",
    "            print(\"this is a folder,now,display it:\",file)\n",
    "            os.chdir(path+\"/\"+file)\n",
    "           \n",
    "            print(\"current folder,should be entired,otherwise,the operation isn't correct!\",os.getcwd())\n",
    "            details=aquireDetails(os.getcwd())\n",
    "            #copyFiles(details)\n",
    "            copyingremoveInitPath(details)\n",
    "        else:\n",
    "            filename = os.path.splitext(file)[0];  \n",
    "            filetype = os.path.splitext(file)[1]; \n",
    "            filePath=path+filename+filetype\n",
    "            newname=path+filename\n",
    "            print(\"copying operation now\")\n",
    "            #os.system(\"copy\"+\" \"+filename+filetype+\" \"+filename+\".html\")\n",
    "            #print (\"current operation folder and processing details::\",os.getcwd(),\"copy\"+\" \"+filename+filetype+\" \"+filename+\".html\")\n",
    "\n",
    "def gen_key():\n",
    "    c=list(range(100))\n",
    "    #random.shuffle(c)\n",
    "    return c\n",
    " \n",
    "def save_keyfile(k,f):\n",
    "    fo=open(f,'wb')\n",
    "    fo.write(bytes(k))\n",
    "    fo.close()\n",
    "\n",
    "def get_key(f):\n",
    "    fi=open(f,'rb')\n",
    "    k=fi.read()\n",
    "    fi.close()\n",
    "    return k\n",
    "\n",
    "def crypt_file(fi,fo,key_file):\n",
    "    print(\"fi\",fi)\n",
    "    print(\"f0\",fo)\n",
    "    print(\"key_file\",key_file)\n",
    "    if fi == \" \" or fo == \" \" or key_file == \" \":\n",
    "        return\n",
    "    k=get_key(key_file)\n",
    "    f=open(fi,'rb')\n",
    "    fc=f.read()\n",
    "    fe=open(fo,'wb')\n",
    "    flen=len(fc)\n",
    "    buff=[]\n",
    "    for i in range(flen):\n",
    "        c=i%len(k)\n",
    "        fo=fc[i]^k[c]\n",
    "        buff.append(fo)\n",
    "    fe.write(bytes(buff))\n",
    "    f.close()\n",
    "    fe.close()\n",
    "\n",
    "def crypt_dir(d,key_file):\n",
    "    \"\"\"\n",
    "    encrypt a directory assigned by <d>\n",
    "    \"\"\"\n",
    "    print(\"d:\",d)\n",
    "    if d == \"-f\" or key_file == None:\n",
    "        return None\n",
    "    file_list=os.listdir(d)\n",
    "    file_count=len(file_list)\n",
    "    for i in range(file_count):\n",
    "        f=os.path.join(d,file_list[i])\n",
    "        neof=f+'.crypt'\n",
    "        crypt_file(f,neof,key_file)\n",
    "        print('Progress:%d/%d' % (i+1,file_count))\n",
    "    print('Directory <%s> has been encrypted/decrypted.' % (d))\n",
    "\n",
    "if __name__=='__main__':\n",
    "    print(\"first to generate a Key file------\")\n",
    "    print(\"plz run : python3.6 jiamijiemi yaoshi.txt---first \")\n",
    "    args=sys.argv\n",
    "    arg_num=len(args)\n",
    "\n",
    "    if arg_num==2:\n",
    "        neokey=gen_key()\n",
    "        save_keyfile(neokey,args[1])\n",
    "        print('Key file has been generated:%s' % (args[1]))\n",
    "        exit(0)\n",
    "\n",
    "    if arg_num==3:\n",
    "        crypt_dir(args[1],args[2])\n",
    "        exit(0)\n",
    "\n",
    "    if len(args)!=4:\n",
    "        print('Usage:crypt.py <input file> <output file> <key file>')\n",
    "        exit(-1)\n",
    "    try:\n",
    "        \n",
    "        crypt_file(args[1],args[2],args[3])\n",
    "    except:\n",
    "        print(\"plz input the correct jiemi three files\")\n",
    "    print('Done!')"
   ]
  },
  {
   "cell_type": "code",
   "execution_count": 6,
   "metadata": {},
   "outputs": [
    {
     "name": "stdout",
     "output_type": "stream",
     "text": [
      "[0, 1, 2, 3, 4, 5, 6, 7, 8, 9, 10, 11, 12, 13, 14, 15, 16, 17, 18, 19, 20, 21, 22, 23, 24, 25, 26, 27, 28, 29, 30, 31, 32, 33, 34, 35, 36, 37, 38, 39, 40, 41, 42, 43, 44, 45, 46, 47, 48, 49, 50, 51, 52, 53, 54, 55, 56, 57, 58, 59, 60, 61, 62, 63, 64, 65, 66, 67, 68, 69, 70, 71, 72, 73, 74, 75, 76, 77, 78, 79, 80, 81, 82, 83, 84, 85, 86, 87, 88, 89, 90, 91, 92, 93, 94, 95, 96, 97, 98, 99, 100, 101, 102, 103, 104, 105, 106, 107, 108, 109, 110, 111, 112, 113, 114, 115, 116, 117, 118, 119, 120, 121, 122, 123, 124, 125, 126, 127, 128, 129, 130, 131, 132, 133, 134, 135, 136, 137, 138, 139, 140, 141, 142, 143, 144, 145, 146, 147, 148, 149, 150, 151, 152, 153, 154, 155, 156, 157, 158, 159, 160, 161, 162, 163, 164, 165, 166, 167, 168, 169, 170, 171, 172, 173, 174, 175, 176, 177, 178, 179, 180, 181, 182, 183, 184, 185, 186, 187, 188, 189, 190, 191, 192, 193, 194, 195, 196, 197, 198, 199, 200, 201, 202, 203, 204, 205, 206, 207, 208, 209, 210, 211, 212, 213, 214, 215, 216, 217, 218, 219, 220, 221, 222, 223, 224, 225, 226, 227, 228, 229, 230, 231, 232, 233, 234, 235, 236, 237, 238, 239, 240, 241, 242, 243, 244, 245, 246, 247, 248, 249, 250, 251, 252, 253, 254, 255]\n"
     ]
    }
   ],
   "source": [
    "c=list(range(256))\n",
    "print(c)"
   ]
  },
  {
   "cell_type": "code",
   "execution_count": 10,
   "metadata": {},
   "outputs": [],
   "source": [
    "k=random.shuffle(c)"
   ]
  },
  {
   "cell_type": "code",
   "execution_count": 11,
   "metadata": {},
   "outputs": [
    {
     "name": "stdout",
     "output_type": "stream",
     "text": [
      "[125, 41, 110, 198, 146, 223, 245, 53, 114, 28, 252, 91, 180, 195, 217, 14, 136, 35, 208, 39, 97, 88, 213, 201, 137, 239, 214, 31, 233, 145, 5, 216, 241, 6, 105, 96, 227, 178, 49, 93, 162, 27, 15, 225, 109, 165, 177, 72, 185, 86, 247, 171, 108, 113, 78, 1, 192, 51, 26, 189, 184, 154, 103, 122, 25, 45, 250, 33, 176, 24, 124, 152, 37, 240, 69, 206, 120, 17, 64, 71, 0, 235, 187, 121, 13, 100, 160, 159, 191, 21, 149, 128, 57, 82, 34, 84, 89, 202, 94, 138, 38, 40, 87, 144, 230, 243, 210, 188, 246, 107, 67, 194, 116, 153, 238, 254, 218, 253, 151, 229, 173, 19, 166, 156, 10, 147, 139, 172, 117, 234, 232, 50, 92, 215, 228, 248, 251, 221, 29, 161, 85, 179, 219, 186, 150, 20, 68, 70, 212, 231, 9, 237, 65, 164, 119, 131, 127, 61, 58, 30, 77, 3, 99, 134, 133, 98, 167, 211, 183, 81, 66, 196, 4, 59, 106, 236, 209, 200, 48, 54, 43, 22, 158, 143, 74, 62, 32, 224, 242, 140, 168, 73, 56, 222, 157, 255, 190, 148, 181, 44, 7, 226, 101, 203, 244, 118, 52, 79, 47, 11, 174, 75, 104, 23, 18, 199, 175, 83, 129, 36, 169, 197, 155, 8, 55, 193, 95, 42, 220, 182, 205, 80, 249, 141, 123, 102, 112, 132, 46, 2, 130, 135, 111, 142, 204, 12, 207, 63, 115, 60, 126, 163, 76, 90, 170, 16]\n"
     ]
    }
   ],
   "source": [
    "print(c)"
   ]
  },
  {
   "cell_type": "code",
   "execution_count": null,
   "metadata": {},
   "outputs": [],
   "source": []
  }
 ],
 "metadata": {
  "kernelspec": {
   "display_name": "Python 3",
   "language": "python",
   "name": "python3"
  },
  "language_info": {
   "codemirror_mode": {
    "name": "ipython",
    "version": 3
   },
   "file_extension": ".py",
   "mimetype": "text/x-python",
   "name": "python",
   "nbconvert_exporter": "python",
   "pygments_lexer": "ipython3",
   "version": "3.7.6"
  }
 },
 "nbformat": 4,
 "nbformat_minor": 4
}
